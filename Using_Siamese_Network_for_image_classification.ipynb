{
  "nbformat": 4,
  "nbformat_minor": 0,
  "metadata": {
    "colab": {
      "provenance": [],
      "machine_shape": "hm",
      "gpuType": "V100",
      "collapsed_sections": [
        "Rvptv4UCsjq9",
        "kLgDemBTUA6n",
        "enYm5A8jUHpT",
        "jQajRwxeUQzZ",
        "k-kjvN2tUUSj",
        "UGRmjBjrUYgT",
        "r7IuDWTJUc8H",
        "13UdFQ87Ug0s",
        "k_XzBmiWUl6A",
        "1aiiEDncUp68"
      ],
      "mount_file_id": "1KiZevlvad5lTZs_ahvJfyXxDnUCsYmes",
      "authorship_tag": "ABX9TyMtInh53ZBcVMR/+8dDWGZC",
      "include_colab_link": true
    },
    "kernelspec": {
      "name": "python3",
      "display_name": "Python 3"
    },
    "language_info": {
      "name": "python"
    },
    "widgets": {
      "application/vnd.jupyter.widget-state+json": {
        "992b62f3b95c4818a55f01ba232bc3c6": {
          "model_module": "@jupyter-widgets/controls",
          "model_name": "HBoxModel",
          "model_module_version": "1.5.0",
          "state": {
            "_dom_classes": [],
            "_model_module": "@jupyter-widgets/controls",
            "_model_module_version": "1.5.0",
            "_model_name": "HBoxModel",
            "_view_count": null,
            "_view_module": "@jupyter-widgets/controls",
            "_view_module_version": "1.5.0",
            "_view_name": "HBoxView",
            "box_style": "",
            "children": [
              "IPY_MODEL_9244f296ab7d4cfb888a8e66425ae87f",
              "IPY_MODEL_1f58230303884579b44e1e9e930605d3",
              "IPY_MODEL_3df042708c36436d9c1450566a5dc8f9"
            ],
            "layout": "IPY_MODEL_312e76436051479e80fb8ace1e769afa"
          }
        },
        "9244f296ab7d4cfb888a8e66425ae87f": {
          "model_module": "@jupyter-widgets/controls",
          "model_name": "HTMLModel",
          "model_module_version": "1.5.0",
          "state": {
            "_dom_classes": [],
            "_model_module": "@jupyter-widgets/controls",
            "_model_module_version": "1.5.0",
            "_model_name": "HTMLModel",
            "_view_count": null,
            "_view_module": "@jupyter-widgets/controls",
            "_view_module_version": "1.5.0",
            "_view_name": "HTMLView",
            "description": "",
            "description_tooltip": null,
            "layout": "IPY_MODEL_33c5f33d9bd34bacae79672c0ec8e0b4",
            "placeholder": "​",
            "style": "IPY_MODEL_9e3441c6d8de452691450c3130a96908",
            "value": "  0%"
          }
        },
        "1f58230303884579b44e1e9e930605d3": {
          "model_module": "@jupyter-widgets/controls",
          "model_name": "FloatProgressModel",
          "model_module_version": "1.5.0",
          "state": {
            "_dom_classes": [],
            "_model_module": "@jupyter-widgets/controls",
            "_model_module_version": "1.5.0",
            "_model_name": "FloatProgressModel",
            "_view_count": null,
            "_view_module": "@jupyter-widgets/controls",
            "_view_module_version": "1.5.0",
            "_view_name": "ProgressView",
            "bar_style": "danger",
            "description": "",
            "description_tooltip": null,
            "layout": "IPY_MODEL_ec2861f00bba4e9c870f1b2109ae91ca",
            "max": 5,
            "min": 0,
            "orientation": "horizontal",
            "style": "IPY_MODEL_965be06a87c9406a89c6c7dae9b440b6",
            "value": 0
          }
        },
        "3df042708c36436d9c1450566a5dc8f9": {
          "model_module": "@jupyter-widgets/controls",
          "model_name": "HTMLModel",
          "model_module_version": "1.5.0",
          "state": {
            "_dom_classes": [],
            "_model_module": "@jupyter-widgets/controls",
            "_model_module_version": "1.5.0",
            "_model_name": "HTMLModel",
            "_view_count": null,
            "_view_module": "@jupyter-widgets/controls",
            "_view_module_version": "1.5.0",
            "_view_name": "HTMLView",
            "description": "",
            "description_tooltip": null,
            "layout": "IPY_MODEL_73701cdc68174da69c28f7f6e829c7ec",
            "placeholder": "​",
            "style": "IPY_MODEL_21a95f64a4ae4a5996c0e288956155b1",
            "value": " 0/5 [15:36&lt;?, ?it/s]"
          }
        },
        "312e76436051479e80fb8ace1e769afa": {
          "model_module": "@jupyter-widgets/base",
          "model_name": "LayoutModel",
          "model_module_version": "1.2.0",
          "state": {
            "_model_module": "@jupyter-widgets/base",
            "_model_module_version": "1.2.0",
            "_model_name": "LayoutModel",
            "_view_count": null,
            "_view_module": "@jupyter-widgets/base",
            "_view_module_version": "1.2.0",
            "_view_name": "LayoutView",
            "align_content": null,
            "align_items": null,
            "align_self": null,
            "border": null,
            "bottom": null,
            "display": null,
            "flex": null,
            "flex_flow": null,
            "grid_area": null,
            "grid_auto_columns": null,
            "grid_auto_flow": null,
            "grid_auto_rows": null,
            "grid_column": null,
            "grid_gap": null,
            "grid_row": null,
            "grid_template_areas": null,
            "grid_template_columns": null,
            "grid_template_rows": null,
            "height": null,
            "justify_content": null,
            "justify_items": null,
            "left": null,
            "margin": null,
            "max_height": null,
            "max_width": null,
            "min_height": null,
            "min_width": null,
            "object_fit": null,
            "object_position": null,
            "order": null,
            "overflow": null,
            "overflow_x": null,
            "overflow_y": null,
            "padding": null,
            "right": null,
            "top": null,
            "visibility": null,
            "width": null
          }
        },
        "33c5f33d9bd34bacae79672c0ec8e0b4": {
          "model_module": "@jupyter-widgets/base",
          "model_name": "LayoutModel",
          "model_module_version": "1.2.0",
          "state": {
            "_model_module": "@jupyter-widgets/base",
            "_model_module_version": "1.2.0",
            "_model_name": "LayoutModel",
            "_view_count": null,
            "_view_module": "@jupyter-widgets/base",
            "_view_module_version": "1.2.0",
            "_view_name": "LayoutView",
            "align_content": null,
            "align_items": null,
            "align_self": null,
            "border": null,
            "bottom": null,
            "display": null,
            "flex": null,
            "flex_flow": null,
            "grid_area": null,
            "grid_auto_columns": null,
            "grid_auto_flow": null,
            "grid_auto_rows": null,
            "grid_column": null,
            "grid_gap": null,
            "grid_row": null,
            "grid_template_areas": null,
            "grid_template_columns": null,
            "grid_template_rows": null,
            "height": null,
            "justify_content": null,
            "justify_items": null,
            "left": null,
            "margin": null,
            "max_height": null,
            "max_width": null,
            "min_height": null,
            "min_width": null,
            "object_fit": null,
            "object_position": null,
            "order": null,
            "overflow": null,
            "overflow_x": null,
            "overflow_y": null,
            "padding": null,
            "right": null,
            "top": null,
            "visibility": null,
            "width": null
          }
        },
        "9e3441c6d8de452691450c3130a96908": {
          "model_module": "@jupyter-widgets/controls",
          "model_name": "DescriptionStyleModel",
          "model_module_version": "1.5.0",
          "state": {
            "_model_module": "@jupyter-widgets/controls",
            "_model_module_version": "1.5.0",
            "_model_name": "DescriptionStyleModel",
            "_view_count": null,
            "_view_module": "@jupyter-widgets/base",
            "_view_module_version": "1.2.0",
            "_view_name": "StyleView",
            "description_width": ""
          }
        },
        "ec2861f00bba4e9c870f1b2109ae91ca": {
          "model_module": "@jupyter-widgets/base",
          "model_name": "LayoutModel",
          "model_module_version": "1.2.0",
          "state": {
            "_model_module": "@jupyter-widgets/base",
            "_model_module_version": "1.2.0",
            "_model_name": "LayoutModel",
            "_view_count": null,
            "_view_module": "@jupyter-widgets/base",
            "_view_module_version": "1.2.0",
            "_view_name": "LayoutView",
            "align_content": null,
            "align_items": null,
            "align_self": null,
            "border": null,
            "bottom": null,
            "display": null,
            "flex": null,
            "flex_flow": null,
            "grid_area": null,
            "grid_auto_columns": null,
            "grid_auto_flow": null,
            "grid_auto_rows": null,
            "grid_column": null,
            "grid_gap": null,
            "grid_row": null,
            "grid_template_areas": null,
            "grid_template_columns": null,
            "grid_template_rows": null,
            "height": null,
            "justify_content": null,
            "justify_items": null,
            "left": null,
            "margin": null,
            "max_height": null,
            "max_width": null,
            "min_height": null,
            "min_width": null,
            "object_fit": null,
            "object_position": null,
            "order": null,
            "overflow": null,
            "overflow_x": null,
            "overflow_y": null,
            "padding": null,
            "right": null,
            "top": null,
            "visibility": null,
            "width": null
          }
        },
        "965be06a87c9406a89c6c7dae9b440b6": {
          "model_module": "@jupyter-widgets/controls",
          "model_name": "ProgressStyleModel",
          "model_module_version": "1.5.0",
          "state": {
            "_model_module": "@jupyter-widgets/controls",
            "_model_module_version": "1.5.0",
            "_model_name": "ProgressStyleModel",
            "_view_count": null,
            "_view_module": "@jupyter-widgets/base",
            "_view_module_version": "1.2.0",
            "_view_name": "StyleView",
            "bar_color": null,
            "description_width": ""
          }
        },
        "73701cdc68174da69c28f7f6e829c7ec": {
          "model_module": "@jupyter-widgets/base",
          "model_name": "LayoutModel",
          "model_module_version": "1.2.0",
          "state": {
            "_model_module": "@jupyter-widgets/base",
            "_model_module_version": "1.2.0",
            "_model_name": "LayoutModel",
            "_view_count": null,
            "_view_module": "@jupyter-widgets/base",
            "_view_module_version": "1.2.0",
            "_view_name": "LayoutView",
            "align_content": null,
            "align_items": null,
            "align_self": null,
            "border": null,
            "bottom": null,
            "display": null,
            "flex": null,
            "flex_flow": null,
            "grid_area": null,
            "grid_auto_columns": null,
            "grid_auto_flow": null,
            "grid_auto_rows": null,
            "grid_column": null,
            "grid_gap": null,
            "grid_row": null,
            "grid_template_areas": null,
            "grid_template_columns": null,
            "grid_template_rows": null,
            "height": null,
            "justify_content": null,
            "justify_items": null,
            "left": null,
            "margin": null,
            "max_height": null,
            "max_width": null,
            "min_height": null,
            "min_width": null,
            "object_fit": null,
            "object_position": null,
            "order": null,
            "overflow": null,
            "overflow_x": null,
            "overflow_y": null,
            "padding": null,
            "right": null,
            "top": null,
            "visibility": null,
            "width": null
          }
        },
        "21a95f64a4ae4a5996c0e288956155b1": {
          "model_module": "@jupyter-widgets/controls",
          "model_name": "DescriptionStyleModel",
          "model_module_version": "1.5.0",
          "state": {
            "_model_module": "@jupyter-widgets/controls",
            "_model_module_version": "1.5.0",
            "_model_name": "DescriptionStyleModel",
            "_view_count": null,
            "_view_module": "@jupyter-widgets/base",
            "_view_module_version": "1.2.0",
            "_view_name": "StyleView",
            "description_width": ""
          }
        },
        "d8f0ff11a8294ee6bee40c3cac034a85": {
          "model_module": "@jupyter-widgets/controls",
          "model_name": "HBoxModel",
          "model_module_version": "1.5.0",
          "state": {
            "_dom_classes": [],
            "_model_module": "@jupyter-widgets/controls",
            "_model_module_version": "1.5.0",
            "_model_name": "HBoxModel",
            "_view_count": null,
            "_view_module": "@jupyter-widgets/controls",
            "_view_module_version": "1.5.0",
            "_view_name": "HBoxView",
            "box_style": "",
            "children": [
              "IPY_MODEL_5913dd77d786449dbcba03508ba293ba",
              "IPY_MODEL_13bb86e2370948509671fdb20d1f4a37",
              "IPY_MODEL_696d61131f0940a09aa7a5614decd55c"
            ],
            "layout": "IPY_MODEL_feb199401efe454a9622b5d8c1eab29e"
          }
        },
        "5913dd77d786449dbcba03508ba293ba": {
          "model_module": "@jupyter-widgets/controls",
          "model_name": "HTMLModel",
          "model_module_version": "1.5.0",
          "state": {
            "_dom_classes": [],
            "_model_module": "@jupyter-widgets/controls",
            "_model_module_version": "1.5.0",
            "_model_name": "HTMLModel",
            "_view_count": null,
            "_view_module": "@jupyter-widgets/controls",
            "_view_module_version": "1.5.0",
            "_view_name": "HTMLView",
            "description": "",
            "description_tooltip": null,
            "layout": "IPY_MODEL_2725866f547145179ec1eda29560193d",
            "placeholder": "​",
            "style": "IPY_MODEL_3b2a899f01714aad97cd15702b223982",
            "value": " 60%"
          }
        },
        "13bb86e2370948509671fdb20d1f4a37": {
          "model_module": "@jupyter-widgets/controls",
          "model_name": "FloatProgressModel",
          "model_module_version": "1.5.0",
          "state": {
            "_dom_classes": [],
            "_model_module": "@jupyter-widgets/controls",
            "_model_module_version": "1.5.0",
            "_model_name": "FloatProgressModel",
            "_view_count": null,
            "_view_module": "@jupyter-widgets/controls",
            "_view_module_version": "1.5.0",
            "_view_name": "ProgressView",
            "bar_style": "danger",
            "description": "",
            "description_tooltip": null,
            "layout": "IPY_MODEL_52d00952fd704a03ab0d59900cb02822",
            "max": 5060,
            "min": 0,
            "orientation": "horizontal",
            "style": "IPY_MODEL_789e9647c4ca434e8bb35ba8e3238df6",
            "value": 3056
          }
        },
        "696d61131f0940a09aa7a5614decd55c": {
          "model_module": "@jupyter-widgets/controls",
          "model_name": "HTMLModel",
          "model_module_version": "1.5.0",
          "state": {
            "_dom_classes": [],
            "_model_module": "@jupyter-widgets/controls",
            "_model_module_version": "1.5.0",
            "_model_name": "HTMLModel",
            "_view_count": null,
            "_view_module": "@jupyter-widgets/controls",
            "_view_module_version": "1.5.0",
            "_view_name": "HTMLView",
            "description": "",
            "description_tooltip": null,
            "layout": "IPY_MODEL_0d509f88c2c14a109664f810cbb48356",
            "placeholder": "​",
            "style": "IPY_MODEL_1235b04fc1a349aa83aac378f655aafa",
            "value": " 3056/5060 [15:36&lt;11:17,  2.96it/s]"
          }
        },
        "feb199401efe454a9622b5d8c1eab29e": {
          "model_module": "@jupyter-widgets/base",
          "model_name": "LayoutModel",
          "model_module_version": "1.2.0",
          "state": {
            "_model_module": "@jupyter-widgets/base",
            "_model_module_version": "1.2.0",
            "_model_name": "LayoutModel",
            "_view_count": null,
            "_view_module": "@jupyter-widgets/base",
            "_view_module_version": "1.2.0",
            "_view_name": "LayoutView",
            "align_content": null,
            "align_items": null,
            "align_self": null,
            "border": null,
            "bottom": null,
            "display": null,
            "flex": null,
            "flex_flow": null,
            "grid_area": null,
            "grid_auto_columns": null,
            "grid_auto_flow": null,
            "grid_auto_rows": null,
            "grid_column": null,
            "grid_gap": null,
            "grid_row": null,
            "grid_template_areas": null,
            "grid_template_columns": null,
            "grid_template_rows": null,
            "height": null,
            "justify_content": null,
            "justify_items": null,
            "left": null,
            "margin": null,
            "max_height": null,
            "max_width": null,
            "min_height": null,
            "min_width": null,
            "object_fit": null,
            "object_position": null,
            "order": null,
            "overflow": null,
            "overflow_x": null,
            "overflow_y": null,
            "padding": null,
            "right": null,
            "top": null,
            "visibility": null,
            "width": null
          }
        },
        "2725866f547145179ec1eda29560193d": {
          "model_module": "@jupyter-widgets/base",
          "model_name": "LayoutModel",
          "model_module_version": "1.2.0",
          "state": {
            "_model_module": "@jupyter-widgets/base",
            "_model_module_version": "1.2.0",
            "_model_name": "LayoutModel",
            "_view_count": null,
            "_view_module": "@jupyter-widgets/base",
            "_view_module_version": "1.2.0",
            "_view_name": "LayoutView",
            "align_content": null,
            "align_items": null,
            "align_self": null,
            "border": null,
            "bottom": null,
            "display": null,
            "flex": null,
            "flex_flow": null,
            "grid_area": null,
            "grid_auto_columns": null,
            "grid_auto_flow": null,
            "grid_auto_rows": null,
            "grid_column": null,
            "grid_gap": null,
            "grid_row": null,
            "grid_template_areas": null,
            "grid_template_columns": null,
            "grid_template_rows": null,
            "height": null,
            "justify_content": null,
            "justify_items": null,
            "left": null,
            "margin": null,
            "max_height": null,
            "max_width": null,
            "min_height": null,
            "min_width": null,
            "object_fit": null,
            "object_position": null,
            "order": null,
            "overflow": null,
            "overflow_x": null,
            "overflow_y": null,
            "padding": null,
            "right": null,
            "top": null,
            "visibility": null,
            "width": null
          }
        },
        "3b2a899f01714aad97cd15702b223982": {
          "model_module": "@jupyter-widgets/controls",
          "model_name": "DescriptionStyleModel",
          "model_module_version": "1.5.0",
          "state": {
            "_model_module": "@jupyter-widgets/controls",
            "_model_module_version": "1.5.0",
            "_model_name": "DescriptionStyleModel",
            "_view_count": null,
            "_view_module": "@jupyter-widgets/base",
            "_view_module_version": "1.2.0",
            "_view_name": "StyleView",
            "description_width": ""
          }
        },
        "52d00952fd704a03ab0d59900cb02822": {
          "model_module": "@jupyter-widgets/base",
          "model_name": "LayoutModel",
          "model_module_version": "1.2.0",
          "state": {
            "_model_module": "@jupyter-widgets/base",
            "_model_module_version": "1.2.0",
            "_model_name": "LayoutModel",
            "_view_count": null,
            "_view_module": "@jupyter-widgets/base",
            "_view_module_version": "1.2.0",
            "_view_name": "LayoutView",
            "align_content": null,
            "align_items": null,
            "align_self": null,
            "border": null,
            "bottom": null,
            "display": null,
            "flex": null,
            "flex_flow": null,
            "grid_area": null,
            "grid_auto_columns": null,
            "grid_auto_flow": null,
            "grid_auto_rows": null,
            "grid_column": null,
            "grid_gap": null,
            "grid_row": null,
            "grid_template_areas": null,
            "grid_template_columns": null,
            "grid_template_rows": null,
            "height": null,
            "justify_content": null,
            "justify_items": null,
            "left": null,
            "margin": null,
            "max_height": null,
            "max_width": null,
            "min_height": null,
            "min_width": null,
            "object_fit": null,
            "object_position": null,
            "order": null,
            "overflow": null,
            "overflow_x": null,
            "overflow_y": null,
            "padding": null,
            "right": null,
            "top": null,
            "visibility": null,
            "width": null
          }
        },
        "789e9647c4ca434e8bb35ba8e3238df6": {
          "model_module": "@jupyter-widgets/controls",
          "model_name": "ProgressStyleModel",
          "model_module_version": "1.5.0",
          "state": {
            "_model_module": "@jupyter-widgets/controls",
            "_model_module_version": "1.5.0",
            "_model_name": "ProgressStyleModel",
            "_view_count": null,
            "_view_module": "@jupyter-widgets/base",
            "_view_module_version": "1.2.0",
            "_view_name": "StyleView",
            "bar_color": null,
            "description_width": ""
          }
        },
        "0d509f88c2c14a109664f810cbb48356": {
          "model_module": "@jupyter-widgets/base",
          "model_name": "LayoutModel",
          "model_module_version": "1.2.0",
          "state": {
            "_model_module": "@jupyter-widgets/base",
            "_model_module_version": "1.2.0",
            "_model_name": "LayoutModel",
            "_view_count": null,
            "_view_module": "@jupyter-widgets/base",
            "_view_module_version": "1.2.0",
            "_view_name": "LayoutView",
            "align_content": null,
            "align_items": null,
            "align_self": null,
            "border": null,
            "bottom": null,
            "display": null,
            "flex": null,
            "flex_flow": null,
            "grid_area": null,
            "grid_auto_columns": null,
            "grid_auto_flow": null,
            "grid_auto_rows": null,
            "grid_column": null,
            "grid_gap": null,
            "grid_row": null,
            "grid_template_areas": null,
            "grid_template_columns": null,
            "grid_template_rows": null,
            "height": null,
            "justify_content": null,
            "justify_items": null,
            "left": null,
            "margin": null,
            "max_height": null,
            "max_width": null,
            "min_height": null,
            "min_width": null,
            "object_fit": null,
            "object_position": null,
            "order": null,
            "overflow": null,
            "overflow_x": null,
            "overflow_y": null,
            "padding": null,
            "right": null,
            "top": null,
            "visibility": null,
            "width": null
          }
        },
        "1235b04fc1a349aa83aac378f655aafa": {
          "model_module": "@jupyter-widgets/controls",
          "model_name": "DescriptionStyleModel",
          "model_module_version": "1.5.0",
          "state": {
            "_model_module": "@jupyter-widgets/controls",
            "_model_module_version": "1.5.0",
            "_model_name": "DescriptionStyleModel",
            "_view_count": null,
            "_view_module": "@jupyter-widgets/base",
            "_view_module_version": "1.2.0",
            "_view_name": "StyleView",
            "description_width": ""
          }
        }
      }
    },
    "accelerator": "GPU"
  },
  "cells": [
    {
      "cell_type": "markdown",
      "metadata": {
        "id": "view-in-github",
        "colab_type": "text"
      },
      "source": [
        "<a href=\"https://colab.research.google.com/github/bella-xia/Medical_Image/blob/main/Using_Siamese_Network_for_image_classification.ipynb\" target=\"_parent\"><img src=\"https://colab.research.google.com/assets/colab-badge.svg\" alt=\"Open In Colab\"/></a>"
      ]
    },
    {
      "cell_type": "code",
      "execution_count": null,
      "metadata": {
        "id": "__ASanCur8bC"
      },
      "outputs": [],
      "source": []
    },
    {
      "cell_type": "markdown",
      "source": [
        "# Imports"
      ],
      "metadata": {
        "id": "t23_HznqshGg"
      }
    },
    {
      "cell_type": "code",
      "source": [
        "from pickle import load, dump"
      ],
      "metadata": {
        "id": "sUCXznhesjDT"
      },
      "execution_count": 1,
      "outputs": []
    },
    {
      "cell_type": "code",
      "source": [
        "import torch\n",
        "from torch import nn\n",
        "from torch.nn import functional as F\n",
        "\n",
        "import torchvision\n",
        "from torchvision import transforms\n",
        "import cv2"
      ],
      "metadata": {
        "id": "NRW1AKQasqmp"
      },
      "execution_count": 2,
      "outputs": []
    },
    {
      "cell_type": "code",
      "source": [
        "import numpy as np\n",
        "import pandas as pd\n",
        "import matplotlib.pyplot as plt"
      ],
      "metadata": {
        "id": "-fpnyM1dswHw"
      },
      "execution_count": 3,
      "outputs": []
    },
    {
      "cell_type": "code",
      "source": [
        "from torchsummary import summary"
      ],
      "metadata": {
        "id": "y5VjM3Va3Fux"
      },
      "execution_count": 4,
      "outputs": []
    },
    {
      "cell_type": "code",
      "source": [
        "import random"
      ],
      "metadata": {
        "id": "t2WDGtSqVn_F"
      },
      "execution_count": 5,
      "outputs": []
    },
    {
      "cell_type": "code",
      "source": [
        "from tqdm.notebook import tqdm"
      ],
      "metadata": {
        "id": "Tbo8zLbCeY-b"
      },
      "execution_count": 6,
      "outputs": []
    },
    {
      "cell_type": "code",
      "source": [
        "torch.autograd.set_detect_anomaly(True)"
      ],
      "metadata": {
        "colab": {
          "base_uri": "https://localhost:8080/"
        },
        "id": "L6Q6w6mfvMFx",
        "outputId": "cb0a8447-3543-447f-fa64-b5d57852f024"
      },
      "execution_count": 7,
      "outputs": [
        {
          "output_type": "execute_result",
          "data": {
            "text/plain": [
              "<torch.autograd.anomaly_mode.set_detect_anomaly at 0x7ed2da6a2080>"
            ]
          },
          "metadata": {},
          "execution_count": 7
        }
      ]
    },
    {
      "cell_type": "markdown",
      "source": [
        "# Load Data"
      ],
      "metadata": {
        "id": "Rvptv4UCsjq9"
      }
    },
    {
      "cell_type": "code",
      "source": [
        "with open('/content/drive/MyDrive/Colab Notebooks/Medical Image/data/df.h5', 'rb') as f:\n",
        "  df = load(f)"
      ],
      "metadata": {
        "id": "Y7gTTuvpsl3h"
      },
      "execution_count": 8,
      "outputs": []
    },
    {
      "cell_type": "code",
      "source": [
        "length = len(df)\n",
        "length"
      ],
      "metadata": {
        "id": "6Hu335hl9dTa",
        "colab": {
          "base_uri": "https://localhost:8080/"
        },
        "outputId": "2f854ca7-999a-4419-aeb4-944d5ce2274c"
      },
      "execution_count": 9,
      "outputs": [
        {
          "output_type": "execute_result",
          "data": {
            "text/plain": [
              "2024"
            ]
          },
          "metadata": {},
          "execution_count": 9
        }
      ]
    },
    {
      "cell_type": "code",
      "source": [
        "df.head()"
      ],
      "metadata": {
        "id": "c3uXbhhCtAAC",
        "colab": {
          "base_uri": "https://localhost:8080/",
          "height": 0
        },
        "outputId": "59f49fe4-35ca-4920-e886-d3d992aa1d14"
      },
      "execution_count": 10,
      "outputs": [
        {
          "output_type": "execute_result",
          "data": {
            "text/plain": [
              "   extent_right_numerical  density_right_numerical  extent_left_numerical  \\\n",
              "0                       4                        3                      4   \n",
              "1                       3                        3                      3   \n",
              "2                       1                        1                      1   \n",
              "3                       0                        0                      0   \n",
              "4                       0                        0                      0   \n",
              "\n",
              "   density_left_numerical  mRALE Score  \\\n",
              "0                       2           20   \n",
              "1                       2           15   \n",
              "2                       1            2   \n",
              "3                       0            0   \n",
              "4                       0            0   \n",
              "\n",
              "                                                 img  \\\n",
              "0  [[0.0, 0.0, 0.0, 0.0, 0.0, 0.0, 0.0, 0.0, 0.0,...   \n",
              "1  [[0.0, 0.0, 0.0, 0.0, 0.0, 0.0, 0.0, 0.0, 0.0,...   \n",
              "2  [[0.0, 0.0, 0.0, 0.0, 0.0, 0.0, 0.0, 0.0, 0.0,...   \n",
              "3  [[0.0, 0.0, 0.0, 0.0, 0.0, 0.0, 0.0, 0.0, 0.0,...   \n",
              "4  [[0.0, 0.0, 0.0, 0.0, 0.0, 0.0, 0.0, 0.0, 0.0,...   \n",
              "\n",
              "                                       processed_img  \\\n",
              "0  [[0.0, 0.0, 0.0, 0.0, 0.0, 0.0, 0.0, 0.0, 0.0,...   \n",
              "1  [[0.0, 0.0, 0.0, 0.0, 0.0, 0.0, 0.0, 0.0, 0.0,...   \n",
              "2  [[0.0, 0.0, 0.0, 0.0, 0.0, 0.0, 0.0, 0.0, 0.0,...   \n",
              "3  [[0.0, 0.0, 0.0, 0.0, 0.0, 0.0, 0.0, 0.0, 0.0,...   \n",
              "4  [[0.0, 0.0, 0.0, 0.0, 0.0, 0.0, 0.0, 0.0, 0.0,...   \n",
              "\n",
              "                                              masked  divide  \n",
              "0  [[0.0, 0.0, 0.0, 0.0, 0.0, 0.0, 0.0, 0.0, 0.0,...      64  \n",
              "1  [[0.0, 0.0, 0.0, 0.0, 0.0, 0.0, 0.0, 0.0, 0.0,...     120  \n",
              "2  [[0.0, 0.0, 0.0, 0.0, 0.0, 0.0, 0.0, 0.0, 0.0,...     137  \n",
              "3  [[0.0, 0.0, 0.0, 0.0, 0.0, 0.0, 0.0, 0.0, 0.0,...     132  \n",
              "4  [[0.0, 0.0, 0.0, 0.0, 0.0, 0.0, 0.0, 0.0, 0.0,...     137  "
            ],
            "text/html": [
              "\n",
              "\n",
              "  <div id=\"df-4c6f686b-366f-4e44-b7c4-e26791f664e2\">\n",
              "    <div class=\"colab-df-container\">\n",
              "      <div>\n",
              "<style scoped>\n",
              "    .dataframe tbody tr th:only-of-type {\n",
              "        vertical-align: middle;\n",
              "    }\n",
              "\n",
              "    .dataframe tbody tr th {\n",
              "        vertical-align: top;\n",
              "    }\n",
              "\n",
              "    .dataframe thead th {\n",
              "        text-align: right;\n",
              "    }\n",
              "</style>\n",
              "<table border=\"1\" class=\"dataframe\">\n",
              "  <thead>\n",
              "    <tr style=\"text-align: right;\">\n",
              "      <th></th>\n",
              "      <th>extent_right_numerical</th>\n",
              "      <th>density_right_numerical</th>\n",
              "      <th>extent_left_numerical</th>\n",
              "      <th>density_left_numerical</th>\n",
              "      <th>mRALE Score</th>\n",
              "      <th>img</th>\n",
              "      <th>processed_img</th>\n",
              "      <th>masked</th>\n",
              "      <th>divide</th>\n",
              "    </tr>\n",
              "  </thead>\n",
              "  <tbody>\n",
              "    <tr>\n",
              "      <th>0</th>\n",
              "      <td>4</td>\n",
              "      <td>3</td>\n",
              "      <td>4</td>\n",
              "      <td>2</td>\n",
              "      <td>20</td>\n",
              "      <td>[[0.0, 0.0, 0.0, 0.0, 0.0, 0.0, 0.0, 0.0, 0.0,...</td>\n",
              "      <td>[[0.0, 0.0, 0.0, 0.0, 0.0, 0.0, 0.0, 0.0, 0.0,...</td>\n",
              "      <td>[[0.0, 0.0, 0.0, 0.0, 0.0, 0.0, 0.0, 0.0, 0.0,...</td>\n",
              "      <td>64</td>\n",
              "    </tr>\n",
              "    <tr>\n",
              "      <th>1</th>\n",
              "      <td>3</td>\n",
              "      <td>3</td>\n",
              "      <td>3</td>\n",
              "      <td>2</td>\n",
              "      <td>15</td>\n",
              "      <td>[[0.0, 0.0, 0.0, 0.0, 0.0, 0.0, 0.0, 0.0, 0.0,...</td>\n",
              "      <td>[[0.0, 0.0, 0.0, 0.0, 0.0, 0.0, 0.0, 0.0, 0.0,...</td>\n",
              "      <td>[[0.0, 0.0, 0.0, 0.0, 0.0, 0.0, 0.0, 0.0, 0.0,...</td>\n",
              "      <td>120</td>\n",
              "    </tr>\n",
              "    <tr>\n",
              "      <th>2</th>\n",
              "      <td>1</td>\n",
              "      <td>1</td>\n",
              "      <td>1</td>\n",
              "      <td>1</td>\n",
              "      <td>2</td>\n",
              "      <td>[[0.0, 0.0, 0.0, 0.0, 0.0, 0.0, 0.0, 0.0, 0.0,...</td>\n",
              "      <td>[[0.0, 0.0, 0.0, 0.0, 0.0, 0.0, 0.0, 0.0, 0.0,...</td>\n",
              "      <td>[[0.0, 0.0, 0.0, 0.0, 0.0, 0.0, 0.0, 0.0, 0.0,...</td>\n",
              "      <td>137</td>\n",
              "    </tr>\n",
              "    <tr>\n",
              "      <th>3</th>\n",
              "      <td>0</td>\n",
              "      <td>0</td>\n",
              "      <td>0</td>\n",
              "      <td>0</td>\n",
              "      <td>0</td>\n",
              "      <td>[[0.0, 0.0, 0.0, 0.0, 0.0, 0.0, 0.0, 0.0, 0.0,...</td>\n",
              "      <td>[[0.0, 0.0, 0.0, 0.0, 0.0, 0.0, 0.0, 0.0, 0.0,...</td>\n",
              "      <td>[[0.0, 0.0, 0.0, 0.0, 0.0, 0.0, 0.0, 0.0, 0.0,...</td>\n",
              "      <td>132</td>\n",
              "    </tr>\n",
              "    <tr>\n",
              "      <th>4</th>\n",
              "      <td>0</td>\n",
              "      <td>0</td>\n",
              "      <td>0</td>\n",
              "      <td>0</td>\n",
              "      <td>0</td>\n",
              "      <td>[[0.0, 0.0, 0.0, 0.0, 0.0, 0.0, 0.0, 0.0, 0.0,...</td>\n",
              "      <td>[[0.0, 0.0, 0.0, 0.0, 0.0, 0.0, 0.0, 0.0, 0.0,...</td>\n",
              "      <td>[[0.0, 0.0, 0.0, 0.0, 0.0, 0.0, 0.0, 0.0, 0.0,...</td>\n",
              "      <td>137</td>\n",
              "    </tr>\n",
              "  </tbody>\n",
              "</table>\n",
              "</div>\n",
              "      <button class=\"colab-df-convert\" onclick=\"convertToInteractive('df-4c6f686b-366f-4e44-b7c4-e26791f664e2')\"\n",
              "              title=\"Convert this dataframe to an interactive table.\"\n",
              "              style=\"display:none;\">\n",
              "\n",
              "  <svg xmlns=\"http://www.w3.org/2000/svg\" height=\"24px\"viewBox=\"0 0 24 24\"\n",
              "       width=\"24px\">\n",
              "    <path d=\"M0 0h24v24H0V0z\" fill=\"none\"/>\n",
              "    <path d=\"M18.56 5.44l.94 2.06.94-2.06 2.06-.94-2.06-.94-.94-2.06-.94 2.06-2.06.94zm-11 1L8.5 8.5l.94-2.06 2.06-.94-2.06-.94L8.5 2.5l-.94 2.06-2.06.94zm10 10l.94 2.06.94-2.06 2.06-.94-2.06-.94-.94-2.06-.94 2.06-2.06.94z\"/><path d=\"M17.41 7.96l-1.37-1.37c-.4-.4-.92-.59-1.43-.59-.52 0-1.04.2-1.43.59L10.3 9.45l-7.72 7.72c-.78.78-.78 2.05 0 2.83L4 21.41c.39.39.9.59 1.41.59.51 0 1.02-.2 1.41-.59l7.78-7.78 2.81-2.81c.8-.78.8-2.07 0-2.86zM5.41 20L4 18.59l7.72-7.72 1.47 1.35L5.41 20z\"/>\n",
              "  </svg>\n",
              "      </button>\n",
              "\n",
              "\n",
              "\n",
              "    <div id=\"df-4a90ee0b-e408-4fa8-8e43-2ad594dbe5aa\">\n",
              "      <button class=\"colab-df-quickchart\" onclick=\"quickchart('df-4a90ee0b-e408-4fa8-8e43-2ad594dbe5aa')\"\n",
              "              title=\"Suggest charts.\"\n",
              "              style=\"display:none;\">\n",
              "\n",
              "<svg xmlns=\"http://www.w3.org/2000/svg\" height=\"24px\"viewBox=\"0 0 24 24\"\n",
              "     width=\"24px\">\n",
              "    <g>\n",
              "        <path d=\"M19 3H5c-1.1 0-2 .9-2 2v14c0 1.1.9 2 2 2h14c1.1 0 2-.9 2-2V5c0-1.1-.9-2-2-2zM9 17H7v-7h2v7zm4 0h-2V7h2v10zm4 0h-2v-4h2v4z\"/>\n",
              "    </g>\n",
              "</svg>\n",
              "      </button>\n",
              "    </div>\n",
              "\n",
              "<style>\n",
              "  .colab-df-quickchart {\n",
              "    background-color: #E8F0FE;\n",
              "    border: none;\n",
              "    border-radius: 50%;\n",
              "    cursor: pointer;\n",
              "    display: none;\n",
              "    fill: #1967D2;\n",
              "    height: 32px;\n",
              "    padding: 0 0 0 0;\n",
              "    width: 32px;\n",
              "  }\n",
              "\n",
              "  .colab-df-quickchart:hover {\n",
              "    background-color: #E2EBFA;\n",
              "    box-shadow: 0px 1px 2px rgba(60, 64, 67, 0.3), 0px 1px 3px 1px rgba(60, 64, 67, 0.15);\n",
              "    fill: #174EA6;\n",
              "  }\n",
              "\n",
              "  [theme=dark] .colab-df-quickchart {\n",
              "    background-color: #3B4455;\n",
              "    fill: #D2E3FC;\n",
              "  }\n",
              "\n",
              "  [theme=dark] .colab-df-quickchart:hover {\n",
              "    background-color: #434B5C;\n",
              "    box-shadow: 0px 1px 3px 1px rgba(0, 0, 0, 0.15);\n",
              "    filter: drop-shadow(0px 1px 2px rgba(0, 0, 0, 0.3));\n",
              "    fill: #FFFFFF;\n",
              "  }\n",
              "</style>\n",
              "\n",
              "    <script>\n",
              "      async function quickchart(key) {\n",
              "        const containerElement = document.querySelector('#' + key);\n",
              "        const charts = await google.colab.kernel.invokeFunction(\n",
              "            'suggestCharts', [key], {});\n",
              "      }\n",
              "    </script>\n",
              "\n",
              "      <script>\n",
              "\n",
              "function displayQuickchartButton(domScope) {\n",
              "  let quickchartButtonEl =\n",
              "    domScope.querySelector('#df-4a90ee0b-e408-4fa8-8e43-2ad594dbe5aa button.colab-df-quickchart');\n",
              "  quickchartButtonEl.style.display =\n",
              "    google.colab.kernel.accessAllowed ? 'block' : 'none';\n",
              "}\n",
              "\n",
              "        displayQuickchartButton(document);\n",
              "      </script>\n",
              "      <style>\n",
              "    .colab-df-container {\n",
              "      display:flex;\n",
              "      flex-wrap:wrap;\n",
              "      gap: 12px;\n",
              "    }\n",
              "\n",
              "    .colab-df-convert {\n",
              "      background-color: #E8F0FE;\n",
              "      border: none;\n",
              "      border-radius: 50%;\n",
              "      cursor: pointer;\n",
              "      display: none;\n",
              "      fill: #1967D2;\n",
              "      height: 32px;\n",
              "      padding: 0 0 0 0;\n",
              "      width: 32px;\n",
              "    }\n",
              "\n",
              "    .colab-df-convert:hover {\n",
              "      background-color: #E2EBFA;\n",
              "      box-shadow: 0px 1px 2px rgba(60, 64, 67, 0.3), 0px 1px 3px 1px rgba(60, 64, 67, 0.15);\n",
              "      fill: #174EA6;\n",
              "    }\n",
              "\n",
              "    [theme=dark] .colab-df-convert {\n",
              "      background-color: #3B4455;\n",
              "      fill: #D2E3FC;\n",
              "    }\n",
              "\n",
              "    [theme=dark] .colab-df-convert:hover {\n",
              "      background-color: #434B5C;\n",
              "      box-shadow: 0px 1px 3px 1px rgba(0, 0, 0, 0.15);\n",
              "      filter: drop-shadow(0px 1px 2px rgba(0, 0, 0, 0.3));\n",
              "      fill: #FFFFFF;\n",
              "    }\n",
              "  </style>\n",
              "\n",
              "      <script>\n",
              "        const buttonEl =\n",
              "          document.querySelector('#df-4c6f686b-366f-4e44-b7c4-e26791f664e2 button.colab-df-convert');\n",
              "        buttonEl.style.display =\n",
              "          google.colab.kernel.accessAllowed ? 'block' : 'none';\n",
              "\n",
              "        async function convertToInteractive(key) {\n",
              "          const element = document.querySelector('#df-4c6f686b-366f-4e44-b7c4-e26791f664e2');\n",
              "          const dataTable =\n",
              "            await google.colab.kernel.invokeFunction('convertToInteractive',\n",
              "                                                     [key], {});\n",
              "          if (!dataTable) return;\n",
              "\n",
              "          const docLinkHtml = 'Like what you see? Visit the ' +\n",
              "            '<a target=\"_blank\" href=https://colab.research.google.com/notebooks/data_table.ipynb>data table notebook</a>'\n",
              "            + ' to learn more about interactive tables.';\n",
              "          element.innerHTML = '';\n",
              "          dataTable['output_type'] = 'display_data';\n",
              "          await google.colab.output.renderOutput(dataTable, element);\n",
              "          const docLink = document.createElement('div');\n",
              "          docLink.innerHTML = docLinkHtml;\n",
              "          element.appendChild(docLink);\n",
              "        }\n",
              "      </script>\n",
              "    </div>\n",
              "  </div>\n"
            ]
          },
          "metadata": {},
          "execution_count": 10
        }
      ]
    },
    {
      "cell_type": "markdown",
      "source": [
        "# self-implemented Inception V3"
      ],
      "metadata": {
        "id": "pO85zWMbU0uc"
      }
    },
    {
      "cell_type": "code",
      "source": [
        "class ConvolutionBlock(nn.Module):\n",
        "  def __init__(self, in_channels, out_channels, kernel_size, stride, padding):\n",
        "    super(ConvolutionBlock, self).__init__()\n",
        "    self.conv = nn.Conv2d(in_channels, out_channels, kernel_size, stride, padding)\n",
        "    self.batchNormalization = nn.BatchNorm2d(out_channels)\n",
        "    self.activation = nn.ReLU()\n",
        "\n",
        "  def forward(self, x):\n",
        "    out = self.conv(x)\n",
        "    out = self.batchNormalization(out)\n",
        "    out = self.activation(out)\n",
        "    return out"
      ],
      "metadata": {
        "id": "5RyEeONsU3_5"
      },
      "execution_count": 11,
      "outputs": []
    },
    {
      "cell_type": "code",
      "source": [
        "class StemBlock(nn.Module):\n",
        "  def __init__(self, img_channels=1):\n",
        "    super(StemBlock, self).__init__()\n",
        "\n",
        "    self.conv1 = ConvolutionBlock(in_channels=img_channels, out_channels=32,\n",
        "                                  kernel_size=3, stride=2, padding=0)\n",
        "    self.conv2 = ConvolutionBlock(in_channels=32, out_channels=32,\n",
        "                                  kernel_size=3, stride=1, padding=0)\n",
        "    self.conv3 = ConvolutionBlock(in_channels=32, out_channels=64,\n",
        "                                  kernel_size=3, stride=1, padding=1)\n",
        "    self.conv4 = ConvolutionBlock(in_channels=64, out_channels=80,\n",
        "                                  kernel_size=3, stride=1, padding=0)\n",
        "    self.conv5 = ConvolutionBlock(in_channels=80, out_channels=192,\n",
        "                                  kernel_size=3, stride=1, padding=1)\n",
        "    self.maxPool = nn.MaxPool2d(kernel_size=(3, 3), stride=(2, 2))\n",
        "\n",
        "  def forward(self, x):\n",
        "    out = self.conv3(self.conv2(self.conv1(x)))\n",
        "    out = self.maxPool(out)\n",
        "    out = self.conv5(self.conv4(out))\n",
        "    out = self.maxPool(out)\n",
        "    return out\n"
      ],
      "metadata": {
        "id": "ERu862WfViEX"
      },
      "execution_count": 12,
      "outputs": []
    },
    {
      "cell_type": "code",
      "source": [
        "class InceptionBlock_A(nn.Module):\n",
        "  def __init__(self, in_channels, nbr_kernels):\n",
        "    super(InceptionBlock_A, self).__init__()\n",
        "\n",
        "    self.branch1 = nn.Sequential(\n",
        "        ConvolutionBlock(in_channels=in_channels, out_channels=64,\n",
        "                         kernel_size=1, stride=1, padding=0),\n",
        "        ConvolutionBlock(in_channels=64, out_channels=96,\n",
        "                         kernel_size=3, stride=1, padding=1),\n",
        "        ConvolutionBlock(in_channels=96, out_channels=96,\n",
        "                         kernel_size=3, stride=1, padding=1)\n",
        "    )\n",
        "\n",
        "    self.branch2 = nn.Sequential(\n",
        "        ConvolutionBlock(in_channels=in_channels, out_channels=48,\n",
        "                         kernel_size=1, stride=1, padding=0),\n",
        "        ConvolutionBlock(in_channels=48, out_channels=64,\n",
        "                         kernel_size=3, stride=1, padding=1)\n",
        "    )\n",
        "\n",
        "    self.branch3 = nn.Sequential(\n",
        "        nn.AvgPool2d(kernel_size=(3, 3), stride=1, padding=1),\n",
        "        ConvolutionBlock(in_channels=in_channels, out_channels=64,\n",
        "                         kernel_size=1, stride=1, padding=0)\n",
        "    )\n",
        "\n",
        "    self.branch4 = ConvolutionBlock(in_channels=in_channels, out_channels=64,\n",
        "                                    kernel_size=1, stride=1, padding=0)\n",
        "\n",
        "  def forward(self, x):\n",
        "    branch1 = self.branch1(x)\n",
        "    branch2 = self.branch2(x)\n",
        "    branch3 = self.branch3(x)\n",
        "    branch4 = self.branch4(x)\n",
        "\n",
        "    out = torch.cat([branch1, branch2, branch3, branch4], 1)\n",
        "    return out"
      ],
      "metadata": {
        "id": "7h-kIO7fWfZH"
      },
      "execution_count": 13,
      "outputs": []
    },
    {
      "cell_type": "code",
      "source": [
        "class InceptionBlock_B(nn.Module):\n",
        "  def __init__(self, in_channels, nbr_kernels):\n",
        "\n",
        "    super(InceptionBlock_B, self).__init__()\n",
        "\n",
        "    self.branch1 = ConvolutionBlock(in_channels=in_channels, out_channels=192,\n",
        "                                    kernel_size=1, stride=1, padding=0)\n",
        "\n",
        "    self.branch2 = nn.Sequential(\n",
        "        ConvolutionBlock(in_channels=in_channels, out_channels=nbr_kernels,\n",
        "                         kernel_size=1, stride=1, padding=0),\n",
        "        ConvolutionBlock(in_channels=nbr_kernels, out_channels=nbr_kernels,\n",
        "                         kernel_size=(1, 7), stride=1, padding=(0, 3)),\n",
        "        ConvolutionBlock(in_channels=nbr_kernels, out_channels=192,\n",
        "                         kernel_size=(7, 1), stride=1, padding=(3, 0))\n",
        "    )\n",
        "\n",
        "    self.branch3 = nn.Sequential(\n",
        "        ConvolutionBlock(in_channels=in_channels, out_channels=nbr_kernels,\n",
        "                         kernel_size=1, stride=1, padding=0),\n",
        "        ConvolutionBlock(in_channels=nbr_kernels, out_channels=nbr_kernels,\n",
        "                         kernel_size=(7, 1), stride=1, padding=(3, 0)),\n",
        "        ConvolutionBlock(in_channels=nbr_kernels, out_channels=nbr_kernels,\n",
        "                         kernel_size=(1, 7), stride=1, padding=(0, 3)),\n",
        "        ConvolutionBlock(in_channels=nbr_kernels, out_channels=nbr_kernels,\n",
        "                         kernel_size=(7, 1), stride=1, padding=(3, 0)),\n",
        "        ConvolutionBlock(in_channels=nbr_kernels, out_channels=192,\n",
        "                         kernel_size=(1, 7), stride=1, padding=(0, 3))\n",
        "    )\n",
        "\n",
        "    self.branch4 = nn.Sequential(\n",
        "        nn.AvgPool2d(kernel_size=(3, 3), stride=1, padding=1),\n",
        "        ConvolutionBlock(in_channels=in_channels, out_channels=192,\n",
        "                         kernel_size=1, stride=1, padding=0)\n",
        "    )\n",
        "\n",
        "  def forward(self, x):\n",
        "\n",
        "    branch1 = self.branch1(x)\n",
        "    branch2 = self.branch2(x)\n",
        "    branch3 = self.branch3(x)\n",
        "    branch4 = self.branch4(x)\n",
        "\n",
        "    out = torch.cat([branch1, branch2, branch3, branch4], 1)\n",
        "\n",
        "    return out"
      ],
      "metadata": {
        "id": "5IEPMTyDYt7x"
      },
      "execution_count": 14,
      "outputs": []
    },
    {
      "cell_type": "code",
      "source": [
        "class InceptionBlock_C(nn.Module):\n",
        "  def __init__(self, in_channels):\n",
        "    super(InceptionBlock_C, self).__init__()\n",
        "\n",
        "    self.branch1 = ConvolutionBlock(in_channels, 320, 1, 1, 0)\n",
        "\n",
        "    self.branch2 = nn.Sequential(\n",
        "        nn.AvgPool2d(kernel_size=(3, 3), stride=1, padding=1),\n",
        "        ConvolutionBlock(in_channels, 192, 1, 1, 0)\n",
        "    )\n",
        "\n",
        "    self.branch3 = ConvolutionBlock(in_channels, 384, (1, 3), 1, (0, 1))\n",
        "\n",
        "    self.branch3_1 = ConvolutionBlock(384, 384, (1, 3), 1, (0, 1))\n",
        "    self.branch3_2 = ConvolutionBlock(384, 384, (3, 1), 1, (1, 0))\n",
        "\n",
        "    self.branch4 = nn.Sequential(\n",
        "        ConvolutionBlock(in_channels, 448, 1, 1, 0),\n",
        "        ConvolutionBlock(448, 384, 3, 1, 1)\n",
        "    )\n",
        "\n",
        "    self.branch4_1 = ConvolutionBlock(384, 384, (1, 3), 1, (0, 1))\n",
        "    self.branch4_2 = ConvolutionBlock(384, 384, (3, 1), 1, (1, 0))\n",
        "\n",
        "  def forward(self, x):\n",
        "    branch1 = self.branch1(x)\n",
        "    branch2 = self.branch2(x)\n",
        "    branch3 = self.branch3(x)\n",
        "    branch3 = torch.cat([self.branch3_1(branch3), self.branch3_2(branch3)], 1)\n",
        "    branch4 = self.branch4(x)\n",
        "    branch4 = torch.cat([self.branch4_1(branch4), self.branch4_2(branch4)], 1)\n",
        "\n",
        "    out = torch.cat([branch1, branch2, branch3, branch4], 1)\n",
        "    return out"
      ],
      "metadata": {
        "id": "NTjJsX8lYcXE"
      },
      "execution_count": 15,
      "outputs": []
    },
    {
      "cell_type": "code",
      "source": [
        "class ReductionBlock_A(nn.Module):\n",
        "  def __init__(self, in_channels):\n",
        "\n",
        "    super(ReductionBlock_A, self).__init__()\n",
        "\n",
        "    self.branch1 = nn.Sequential(\n",
        "        ConvolutionBlock(in_channels, 64, 1, 1, 0),\n",
        "        ConvolutionBlock(64, 96, 3, 1, 1),\n",
        "        ConvolutionBlock(96, 96, 3, 2, 0)\n",
        "    )\n",
        "\n",
        "    self.branch2 = ConvolutionBlock(in_channels, 384, 3, 2, 0)\n",
        "\n",
        "    self.branch3 = nn.MaxPool2d(kernel_size=(3, 3), stride=2, padding=0)\n",
        "\n",
        "  def forward(self, x):\n",
        "\n",
        "    branch1 = self.branch1(x)\n",
        "    branch2 = self.branch2(x)\n",
        "    branch3 = self.branch3(x)\n",
        "\n",
        "    out = torch.cat([branch1, branch2, branch3], 1)\n",
        "\n",
        "    return out"
      ],
      "metadata": {
        "id": "eN_2UuxbePS1"
      },
      "execution_count": 16,
      "outputs": []
    },
    {
      "cell_type": "code",
      "source": [
        "class ReductionBlock_B(nn.Module):\n",
        "\n",
        "  def __init__(self, in_channels):\n",
        "    super(ReductionBlock_B, self).__init__()\n",
        "\n",
        "    self.branch1 = nn.Sequential(\n",
        "        ConvolutionBlock(in_channels, 192, 1, 1, 0),\n",
        "        ConvolutionBlock(192, 192, (1, 7), 1, (0, 3)),\n",
        "        ConvolutionBlock(192, 192, (7, 1), 1, (3, 0)),\n",
        "        ConvolutionBlock(192, 192, 3, 2, 0)\n",
        "    )\n",
        "\n",
        "    self.branch2 = nn.Sequential(\n",
        "        ConvolutionBlock(in_channels, 192, 1, 1, 0),\n",
        "        ConvolutionBlock(192, 320, 3, 2, 0)\n",
        "    )\n",
        "\n",
        "    self.branch3 = nn.MaxPool2d(kernel_size=(3, 3), stride=2)\n",
        "\n",
        "  def forward(self, x):\n",
        "\n",
        "    branch1 = self.branch1(x)\n",
        "    branch2 = self.branch2(x)\n",
        "    branch3 = self.branch3(x)\n",
        "\n",
        "    out = torch.cat([branch1, branch2, branch3], 1)\n",
        "\n",
        "    return out\n"
      ],
      "metadata": {
        "id": "4YOGeFW8e-Gj"
      },
      "execution_count": 17,
      "outputs": []
    },
    {
      "cell_type": "code",
      "source": [
        "class Aux_Block(nn.Module):\n",
        "\n",
        "  def __init__(self, in_channels, num_classes):\n",
        "    super(Aux_Block, self).__init__()\n",
        "\n",
        "    self.avgPool = nn.AvgPool2d(kernel_size=(5, 5), stride=3, padding=0)\n",
        "\n",
        "    self.conv1 = ConvolutionBlock(in_channels, 128, 1, 1, 0)\n",
        "    self.conv2 = ConvolutionBlock(128, 768, 5, 1, 0)\n",
        "\n",
        "    self.fc1 = nn.Linear(in_features=768, out_features=1024)\n",
        "    self.fc2 = nn.Linear(in_features=1024, out_features=num_classes)\n",
        "\n",
        "\n",
        "  def forward(self, x):\n",
        "\n",
        "    out = self.conv2(self.conv1(self.avgPool(x)))\n",
        "    out = torch.flatten(out, 1)\n",
        "    out = nn.ReLU()(self.fc1(out))\n",
        "    out = nn.Softmax()(self.fc2(out))\n",
        "\n",
        "    return out"
      ],
      "metadata": {
        "id": "QM_Xg6g-kKNJ"
      },
      "execution_count": 18,
      "outputs": []
    },
    {
      "cell_type": "code",
      "source": [
        "class InceptionV3(nn.Module):\n",
        "  def __init__(self, num_classes=50):\n",
        "    super(InceptionV3, self).__init__()\n",
        "    self.stem = StemBlock()\n",
        "\n",
        "    self.inceptionA_1 = InceptionBlock_A(192, 32)\n",
        "    self.inceptionA_2 = InceptionBlock_A(288, 64)\n",
        "    self.inceptionA_3 = InceptionBlock_A(288, 64)\n",
        "\n",
        "    self.reductionA = ReductionBlock_A(288)\n",
        "\n",
        "    self.inceptionB_1 = InceptionBlock_B(768, 128)\n",
        "    self.inceptionB_2 = InceptionBlock_B(768, 160)\n",
        "    self.inceptionB_3 = InceptionBlock_B(768, 160)\n",
        "    self.inceptionB_4 = InceptionBlock_B(768, 192)\n",
        "\n",
        "    self.aux = Aux_Block(768, num_classes=num_classes)\n",
        "\n",
        "    self.reductionB = ReductionBlock_B(768)\n",
        "\n",
        "    self.inceptionC_1 = InceptionBlock_C(1280)\n",
        "    self.inceptionC_2 = InceptionBlock_C(2048)\n",
        "\n",
        "    self.avgpool = nn.AdaptiveAvgPool2d((1, 1))\n",
        "    self.fc1 = nn.Linear(in_features=2048, out_features=2048)\n",
        "    self.fc2 = nn.Linear(in_features=2048, out_features=num_classes)\n",
        "\n",
        "  def forward(self, x):\n",
        "    out = self.stem(x)\n",
        "\n",
        "    out = self.inceptionA_3(self.inceptionA_2(self.inceptionA_1(out)))\n",
        "    out = self.reductionA(out)\n",
        "\n",
        "    out = self.inceptionB_4(self.inceptionB_3(self.inceptionB_2(self.inceptionB_1(out))))\n",
        "    aux = self.aux(out)\n",
        "    out = self.reductionB(out)\n",
        "\n",
        "    out = self.inceptionC_2(self.inceptionC_1(out))\n",
        "    out = self.avgpool(out)\n",
        "    out = out.reshape(out.shape[0], -1)\n",
        "\n",
        "    out = nn.ReLU()(self.fc1(out))\n",
        "    out = nn.Softmax()(self.fc2(out))\n",
        "\n",
        "    return out, aux"
      ],
      "metadata": {
        "id": "HXHWyVR1lAjT"
      },
      "execution_count": 19,
      "outputs": []
    },
    {
      "cell_type": "code",
      "source": [
        "device = torch.device('cuda' if torch.cuda.is_available() else 'cpu')\n",
        "input = torch.randn((1, 299, 299)).to(device)"
      ],
      "metadata": {
        "id": "AKN8ldG4xYxW"
      },
      "execution_count": 20,
      "outputs": []
    },
    {
      "cell_type": "code",
      "source": [
        "summary(InceptionV3().to(device), input.shape)"
      ],
      "metadata": {
        "colab": {
          "base_uri": "https://localhost:8080/"
        },
        "outputId": "d4f2282c-69a9-4290-bce7-689286ada303",
        "id": "82lp4TCkxYxk"
      },
      "execution_count": 21,
      "outputs": [
        {
          "output_type": "stream",
          "name": "stderr",
          "text": [
            "<ipython-input-18-9943274d968c>:20: UserWarning: Implicit dimension choice for softmax has been deprecated. Change the call to include dim=X as an argument.\n",
            "  out = nn.Softmax()(self.fc2(out))\n",
            "<ipython-input-19-75fd0a5d5900>:43: UserWarning: Implicit dimension choice for softmax has been deprecated. Change the call to include dim=X as an argument.\n",
            "  out = nn.Softmax()(self.fc2(out))\n"
          ]
        },
        {
          "output_type": "stream",
          "name": "stdout",
          "text": [
            "----------------------------------------------------------------\n",
            "        Layer (type)               Output Shape         Param #\n",
            "================================================================\n",
            "            Conv2d-1         [-1, 32, 149, 149]             320\n",
            "       BatchNorm2d-2         [-1, 32, 149, 149]              64\n",
            "              ReLU-3         [-1, 32, 149, 149]               0\n",
            "  ConvolutionBlock-4         [-1, 32, 149, 149]               0\n",
            "            Conv2d-5         [-1, 32, 147, 147]           9,248\n",
            "       BatchNorm2d-6         [-1, 32, 147, 147]              64\n",
            "              ReLU-7         [-1, 32, 147, 147]               0\n",
            "  ConvolutionBlock-8         [-1, 32, 147, 147]               0\n",
            "            Conv2d-9         [-1, 64, 147, 147]          18,496\n",
            "      BatchNorm2d-10         [-1, 64, 147, 147]             128\n",
            "             ReLU-11         [-1, 64, 147, 147]               0\n",
            " ConvolutionBlock-12         [-1, 64, 147, 147]               0\n",
            "        MaxPool2d-13           [-1, 64, 73, 73]               0\n",
            "           Conv2d-14           [-1, 80, 71, 71]          46,160\n",
            "      BatchNorm2d-15           [-1, 80, 71, 71]             160\n",
            "             ReLU-16           [-1, 80, 71, 71]               0\n",
            " ConvolutionBlock-17           [-1, 80, 71, 71]               0\n",
            "           Conv2d-18          [-1, 192, 71, 71]         138,432\n",
            "      BatchNorm2d-19          [-1, 192, 71, 71]             384\n",
            "             ReLU-20          [-1, 192, 71, 71]               0\n",
            " ConvolutionBlock-21          [-1, 192, 71, 71]               0\n",
            "        MaxPool2d-22          [-1, 192, 35, 35]               0\n",
            "        StemBlock-23          [-1, 192, 35, 35]               0\n",
            "           Conv2d-24           [-1, 64, 35, 35]          12,352\n",
            "      BatchNorm2d-25           [-1, 64, 35, 35]             128\n",
            "             ReLU-26           [-1, 64, 35, 35]               0\n",
            " ConvolutionBlock-27           [-1, 64, 35, 35]               0\n",
            "           Conv2d-28           [-1, 96, 35, 35]          55,392\n",
            "      BatchNorm2d-29           [-1, 96, 35, 35]             192\n",
            "             ReLU-30           [-1, 96, 35, 35]               0\n",
            " ConvolutionBlock-31           [-1, 96, 35, 35]               0\n",
            "           Conv2d-32           [-1, 96, 35, 35]          83,040\n",
            "      BatchNorm2d-33           [-1, 96, 35, 35]             192\n",
            "             ReLU-34           [-1, 96, 35, 35]               0\n",
            " ConvolutionBlock-35           [-1, 96, 35, 35]               0\n",
            "           Conv2d-36           [-1, 48, 35, 35]           9,264\n",
            "      BatchNorm2d-37           [-1, 48, 35, 35]              96\n",
            "             ReLU-38           [-1, 48, 35, 35]               0\n",
            " ConvolutionBlock-39           [-1, 48, 35, 35]               0\n",
            "           Conv2d-40           [-1, 64, 35, 35]          27,712\n",
            "      BatchNorm2d-41           [-1, 64, 35, 35]             128\n",
            "             ReLU-42           [-1, 64, 35, 35]               0\n",
            " ConvolutionBlock-43           [-1, 64, 35, 35]               0\n",
            "        AvgPool2d-44          [-1, 192, 35, 35]               0\n",
            "           Conv2d-45           [-1, 64, 35, 35]          12,352\n",
            "      BatchNorm2d-46           [-1, 64, 35, 35]             128\n",
            "             ReLU-47           [-1, 64, 35, 35]               0\n",
            " ConvolutionBlock-48           [-1, 64, 35, 35]               0\n",
            "           Conv2d-49           [-1, 64, 35, 35]          12,352\n",
            "      BatchNorm2d-50           [-1, 64, 35, 35]             128\n",
            "             ReLU-51           [-1, 64, 35, 35]               0\n",
            " ConvolutionBlock-52           [-1, 64, 35, 35]               0\n",
            " InceptionBlock_A-53          [-1, 288, 35, 35]               0\n",
            "           Conv2d-54           [-1, 64, 35, 35]          18,496\n",
            "      BatchNorm2d-55           [-1, 64, 35, 35]             128\n",
            "             ReLU-56           [-1, 64, 35, 35]               0\n",
            " ConvolutionBlock-57           [-1, 64, 35, 35]               0\n",
            "           Conv2d-58           [-1, 96, 35, 35]          55,392\n",
            "      BatchNorm2d-59           [-1, 96, 35, 35]             192\n",
            "             ReLU-60           [-1, 96, 35, 35]               0\n",
            " ConvolutionBlock-61           [-1, 96, 35, 35]               0\n",
            "           Conv2d-62           [-1, 96, 35, 35]          83,040\n",
            "      BatchNorm2d-63           [-1, 96, 35, 35]             192\n",
            "             ReLU-64           [-1, 96, 35, 35]               0\n",
            " ConvolutionBlock-65           [-1, 96, 35, 35]               0\n",
            "           Conv2d-66           [-1, 48, 35, 35]          13,872\n",
            "      BatchNorm2d-67           [-1, 48, 35, 35]              96\n",
            "             ReLU-68           [-1, 48, 35, 35]               0\n",
            " ConvolutionBlock-69           [-1, 48, 35, 35]               0\n",
            "           Conv2d-70           [-1, 64, 35, 35]          27,712\n",
            "      BatchNorm2d-71           [-1, 64, 35, 35]             128\n",
            "             ReLU-72           [-1, 64, 35, 35]               0\n",
            " ConvolutionBlock-73           [-1, 64, 35, 35]               0\n",
            "        AvgPool2d-74          [-1, 288, 35, 35]               0\n",
            "           Conv2d-75           [-1, 64, 35, 35]          18,496\n",
            "      BatchNorm2d-76           [-1, 64, 35, 35]             128\n",
            "             ReLU-77           [-1, 64, 35, 35]               0\n",
            " ConvolutionBlock-78           [-1, 64, 35, 35]               0\n",
            "           Conv2d-79           [-1, 64, 35, 35]          18,496\n",
            "      BatchNorm2d-80           [-1, 64, 35, 35]             128\n",
            "             ReLU-81           [-1, 64, 35, 35]               0\n",
            " ConvolutionBlock-82           [-1, 64, 35, 35]               0\n",
            " InceptionBlock_A-83          [-1, 288, 35, 35]               0\n",
            "           Conv2d-84           [-1, 64, 35, 35]          18,496\n",
            "      BatchNorm2d-85           [-1, 64, 35, 35]             128\n",
            "             ReLU-86           [-1, 64, 35, 35]               0\n",
            " ConvolutionBlock-87           [-1, 64, 35, 35]               0\n",
            "           Conv2d-88           [-1, 96, 35, 35]          55,392\n",
            "      BatchNorm2d-89           [-1, 96, 35, 35]             192\n",
            "             ReLU-90           [-1, 96, 35, 35]               0\n",
            " ConvolutionBlock-91           [-1, 96, 35, 35]               0\n",
            "           Conv2d-92           [-1, 96, 35, 35]          83,040\n",
            "      BatchNorm2d-93           [-1, 96, 35, 35]             192\n",
            "             ReLU-94           [-1, 96, 35, 35]               0\n",
            " ConvolutionBlock-95           [-1, 96, 35, 35]               0\n",
            "           Conv2d-96           [-1, 48, 35, 35]          13,872\n",
            "      BatchNorm2d-97           [-1, 48, 35, 35]              96\n",
            "             ReLU-98           [-1, 48, 35, 35]               0\n",
            " ConvolutionBlock-99           [-1, 48, 35, 35]               0\n",
            "          Conv2d-100           [-1, 64, 35, 35]          27,712\n",
            "     BatchNorm2d-101           [-1, 64, 35, 35]             128\n",
            "            ReLU-102           [-1, 64, 35, 35]               0\n",
            "ConvolutionBlock-103           [-1, 64, 35, 35]               0\n",
            "       AvgPool2d-104          [-1, 288, 35, 35]               0\n",
            "          Conv2d-105           [-1, 64, 35, 35]          18,496\n",
            "     BatchNorm2d-106           [-1, 64, 35, 35]             128\n",
            "            ReLU-107           [-1, 64, 35, 35]               0\n",
            "ConvolutionBlock-108           [-1, 64, 35, 35]               0\n",
            "          Conv2d-109           [-1, 64, 35, 35]          18,496\n",
            "     BatchNorm2d-110           [-1, 64, 35, 35]             128\n",
            "            ReLU-111           [-1, 64, 35, 35]               0\n",
            "ConvolutionBlock-112           [-1, 64, 35, 35]               0\n",
            "InceptionBlock_A-113          [-1, 288, 35, 35]               0\n",
            "          Conv2d-114           [-1, 64, 35, 35]          18,496\n",
            "     BatchNorm2d-115           [-1, 64, 35, 35]             128\n",
            "            ReLU-116           [-1, 64, 35, 35]               0\n",
            "ConvolutionBlock-117           [-1, 64, 35, 35]               0\n",
            "          Conv2d-118           [-1, 96, 35, 35]          55,392\n",
            "     BatchNorm2d-119           [-1, 96, 35, 35]             192\n",
            "            ReLU-120           [-1, 96, 35, 35]               0\n",
            "ConvolutionBlock-121           [-1, 96, 35, 35]               0\n",
            "          Conv2d-122           [-1, 96, 17, 17]          83,040\n",
            "     BatchNorm2d-123           [-1, 96, 17, 17]             192\n",
            "            ReLU-124           [-1, 96, 17, 17]               0\n",
            "ConvolutionBlock-125           [-1, 96, 17, 17]               0\n",
            "          Conv2d-126          [-1, 384, 17, 17]         995,712\n",
            "     BatchNorm2d-127          [-1, 384, 17, 17]             768\n",
            "            ReLU-128          [-1, 384, 17, 17]               0\n",
            "ConvolutionBlock-129          [-1, 384, 17, 17]               0\n",
            "       MaxPool2d-130          [-1, 288, 17, 17]               0\n",
            "ReductionBlock_A-131          [-1, 768, 17, 17]               0\n",
            "          Conv2d-132          [-1, 192, 17, 17]         147,648\n",
            "     BatchNorm2d-133          [-1, 192, 17, 17]             384\n",
            "            ReLU-134          [-1, 192, 17, 17]               0\n",
            "ConvolutionBlock-135          [-1, 192, 17, 17]               0\n",
            "          Conv2d-136          [-1, 128, 17, 17]          98,432\n",
            "     BatchNorm2d-137          [-1, 128, 17, 17]             256\n",
            "            ReLU-138          [-1, 128, 17, 17]               0\n",
            "ConvolutionBlock-139          [-1, 128, 17, 17]               0\n",
            "          Conv2d-140          [-1, 128, 17, 17]         114,816\n",
            "     BatchNorm2d-141          [-1, 128, 17, 17]             256\n",
            "            ReLU-142          [-1, 128, 17, 17]               0\n",
            "ConvolutionBlock-143          [-1, 128, 17, 17]               0\n",
            "          Conv2d-144          [-1, 192, 17, 17]         172,224\n",
            "     BatchNorm2d-145          [-1, 192, 17, 17]             384\n",
            "            ReLU-146          [-1, 192, 17, 17]               0\n",
            "ConvolutionBlock-147          [-1, 192, 17, 17]               0\n",
            "          Conv2d-148          [-1, 128, 17, 17]          98,432\n",
            "     BatchNorm2d-149          [-1, 128, 17, 17]             256\n",
            "            ReLU-150          [-1, 128, 17, 17]               0\n",
            "ConvolutionBlock-151          [-1, 128, 17, 17]               0\n",
            "          Conv2d-152          [-1, 128, 17, 17]         114,816\n",
            "     BatchNorm2d-153          [-1, 128, 17, 17]             256\n",
            "            ReLU-154          [-1, 128, 17, 17]               0\n",
            "ConvolutionBlock-155          [-1, 128, 17, 17]               0\n",
            "          Conv2d-156          [-1, 128, 17, 17]         114,816\n",
            "     BatchNorm2d-157          [-1, 128, 17, 17]             256\n",
            "            ReLU-158          [-1, 128, 17, 17]               0\n",
            "ConvolutionBlock-159          [-1, 128, 17, 17]               0\n",
            "          Conv2d-160          [-1, 128, 17, 17]         114,816\n",
            "     BatchNorm2d-161          [-1, 128, 17, 17]             256\n",
            "            ReLU-162          [-1, 128, 17, 17]               0\n",
            "ConvolutionBlock-163          [-1, 128, 17, 17]               0\n",
            "          Conv2d-164          [-1, 192, 17, 17]         172,224\n",
            "     BatchNorm2d-165          [-1, 192, 17, 17]             384\n",
            "            ReLU-166          [-1, 192, 17, 17]               0\n",
            "ConvolutionBlock-167          [-1, 192, 17, 17]               0\n",
            "       AvgPool2d-168          [-1, 768, 17, 17]               0\n",
            "          Conv2d-169          [-1, 192, 17, 17]         147,648\n",
            "     BatchNorm2d-170          [-1, 192, 17, 17]             384\n",
            "            ReLU-171          [-1, 192, 17, 17]               0\n",
            "ConvolutionBlock-172          [-1, 192, 17, 17]               0\n",
            "InceptionBlock_B-173          [-1, 768, 17, 17]               0\n",
            "          Conv2d-174          [-1, 192, 17, 17]         147,648\n",
            "     BatchNorm2d-175          [-1, 192, 17, 17]             384\n",
            "            ReLU-176          [-1, 192, 17, 17]               0\n",
            "ConvolutionBlock-177          [-1, 192, 17, 17]               0\n",
            "          Conv2d-178          [-1, 160, 17, 17]         123,040\n",
            "     BatchNorm2d-179          [-1, 160, 17, 17]             320\n",
            "            ReLU-180          [-1, 160, 17, 17]               0\n",
            "ConvolutionBlock-181          [-1, 160, 17, 17]               0\n",
            "          Conv2d-182          [-1, 160, 17, 17]         179,360\n",
            "     BatchNorm2d-183          [-1, 160, 17, 17]             320\n",
            "            ReLU-184          [-1, 160, 17, 17]               0\n",
            "ConvolutionBlock-185          [-1, 160, 17, 17]               0\n",
            "          Conv2d-186          [-1, 192, 17, 17]         215,232\n",
            "     BatchNorm2d-187          [-1, 192, 17, 17]             384\n",
            "            ReLU-188          [-1, 192, 17, 17]               0\n",
            "ConvolutionBlock-189          [-1, 192, 17, 17]               0\n",
            "          Conv2d-190          [-1, 160, 17, 17]         123,040\n",
            "     BatchNorm2d-191          [-1, 160, 17, 17]             320\n",
            "            ReLU-192          [-1, 160, 17, 17]               0\n",
            "ConvolutionBlock-193          [-1, 160, 17, 17]               0\n",
            "          Conv2d-194          [-1, 160, 17, 17]         179,360\n",
            "     BatchNorm2d-195          [-1, 160, 17, 17]             320\n",
            "            ReLU-196          [-1, 160, 17, 17]               0\n",
            "ConvolutionBlock-197          [-1, 160, 17, 17]               0\n",
            "          Conv2d-198          [-1, 160, 17, 17]         179,360\n",
            "     BatchNorm2d-199          [-1, 160, 17, 17]             320\n",
            "            ReLU-200          [-1, 160, 17, 17]               0\n",
            "ConvolutionBlock-201          [-1, 160, 17, 17]               0\n",
            "          Conv2d-202          [-1, 160, 17, 17]         179,360\n",
            "     BatchNorm2d-203          [-1, 160, 17, 17]             320\n",
            "            ReLU-204          [-1, 160, 17, 17]               0\n",
            "ConvolutionBlock-205          [-1, 160, 17, 17]               0\n",
            "          Conv2d-206          [-1, 192, 17, 17]         215,232\n",
            "     BatchNorm2d-207          [-1, 192, 17, 17]             384\n",
            "            ReLU-208          [-1, 192, 17, 17]               0\n",
            "ConvolutionBlock-209          [-1, 192, 17, 17]               0\n",
            "       AvgPool2d-210          [-1, 768, 17, 17]               0\n",
            "          Conv2d-211          [-1, 192, 17, 17]         147,648\n",
            "     BatchNorm2d-212          [-1, 192, 17, 17]             384\n",
            "            ReLU-213          [-1, 192, 17, 17]               0\n",
            "ConvolutionBlock-214          [-1, 192, 17, 17]               0\n",
            "InceptionBlock_B-215          [-1, 768, 17, 17]               0\n",
            "          Conv2d-216          [-1, 192, 17, 17]         147,648\n",
            "     BatchNorm2d-217          [-1, 192, 17, 17]             384\n",
            "            ReLU-218          [-1, 192, 17, 17]               0\n",
            "ConvolutionBlock-219          [-1, 192, 17, 17]               0\n",
            "          Conv2d-220          [-1, 160, 17, 17]         123,040\n",
            "     BatchNorm2d-221          [-1, 160, 17, 17]             320\n",
            "            ReLU-222          [-1, 160, 17, 17]               0\n",
            "ConvolutionBlock-223          [-1, 160, 17, 17]               0\n",
            "          Conv2d-224          [-1, 160, 17, 17]         179,360\n",
            "     BatchNorm2d-225          [-1, 160, 17, 17]             320\n",
            "            ReLU-226          [-1, 160, 17, 17]               0\n",
            "ConvolutionBlock-227          [-1, 160, 17, 17]               0\n",
            "          Conv2d-228          [-1, 192, 17, 17]         215,232\n",
            "     BatchNorm2d-229          [-1, 192, 17, 17]             384\n",
            "            ReLU-230          [-1, 192, 17, 17]               0\n",
            "ConvolutionBlock-231          [-1, 192, 17, 17]               0\n",
            "          Conv2d-232          [-1, 160, 17, 17]         123,040\n",
            "     BatchNorm2d-233          [-1, 160, 17, 17]             320\n",
            "            ReLU-234          [-1, 160, 17, 17]               0\n",
            "ConvolutionBlock-235          [-1, 160, 17, 17]               0\n",
            "          Conv2d-236          [-1, 160, 17, 17]         179,360\n",
            "     BatchNorm2d-237          [-1, 160, 17, 17]             320\n",
            "            ReLU-238          [-1, 160, 17, 17]               0\n",
            "ConvolutionBlock-239          [-1, 160, 17, 17]               0\n",
            "          Conv2d-240          [-1, 160, 17, 17]         179,360\n",
            "     BatchNorm2d-241          [-1, 160, 17, 17]             320\n",
            "            ReLU-242          [-1, 160, 17, 17]               0\n",
            "ConvolutionBlock-243          [-1, 160, 17, 17]               0\n",
            "          Conv2d-244          [-1, 160, 17, 17]         179,360\n",
            "     BatchNorm2d-245          [-1, 160, 17, 17]             320\n",
            "            ReLU-246          [-1, 160, 17, 17]               0\n",
            "ConvolutionBlock-247          [-1, 160, 17, 17]               0\n",
            "          Conv2d-248          [-1, 192, 17, 17]         215,232\n",
            "     BatchNorm2d-249          [-1, 192, 17, 17]             384\n",
            "            ReLU-250          [-1, 192, 17, 17]               0\n",
            "ConvolutionBlock-251          [-1, 192, 17, 17]               0\n",
            "       AvgPool2d-252          [-1, 768, 17, 17]               0\n",
            "          Conv2d-253          [-1, 192, 17, 17]         147,648\n",
            "     BatchNorm2d-254          [-1, 192, 17, 17]             384\n",
            "            ReLU-255          [-1, 192, 17, 17]               0\n",
            "ConvolutionBlock-256          [-1, 192, 17, 17]               0\n",
            "InceptionBlock_B-257          [-1, 768, 17, 17]               0\n",
            "          Conv2d-258          [-1, 192, 17, 17]         147,648\n",
            "     BatchNorm2d-259          [-1, 192, 17, 17]             384\n",
            "            ReLU-260          [-1, 192, 17, 17]               0\n",
            "ConvolutionBlock-261          [-1, 192, 17, 17]               0\n",
            "          Conv2d-262          [-1, 192, 17, 17]         147,648\n",
            "     BatchNorm2d-263          [-1, 192, 17, 17]             384\n",
            "            ReLU-264          [-1, 192, 17, 17]               0\n",
            "ConvolutionBlock-265          [-1, 192, 17, 17]               0\n",
            "          Conv2d-266          [-1, 192, 17, 17]         258,240\n",
            "     BatchNorm2d-267          [-1, 192, 17, 17]             384\n",
            "            ReLU-268          [-1, 192, 17, 17]               0\n",
            "ConvolutionBlock-269          [-1, 192, 17, 17]               0\n",
            "          Conv2d-270          [-1, 192, 17, 17]         258,240\n",
            "     BatchNorm2d-271          [-1, 192, 17, 17]             384\n",
            "            ReLU-272          [-1, 192, 17, 17]               0\n",
            "ConvolutionBlock-273          [-1, 192, 17, 17]               0\n",
            "          Conv2d-274          [-1, 192, 17, 17]         147,648\n",
            "     BatchNorm2d-275          [-1, 192, 17, 17]             384\n",
            "            ReLU-276          [-1, 192, 17, 17]               0\n",
            "ConvolutionBlock-277          [-1, 192, 17, 17]               0\n",
            "          Conv2d-278          [-1, 192, 17, 17]         258,240\n",
            "     BatchNorm2d-279          [-1, 192, 17, 17]             384\n",
            "            ReLU-280          [-1, 192, 17, 17]               0\n",
            "ConvolutionBlock-281          [-1, 192, 17, 17]               0\n",
            "          Conv2d-282          [-1, 192, 17, 17]         258,240\n",
            "     BatchNorm2d-283          [-1, 192, 17, 17]             384\n",
            "            ReLU-284          [-1, 192, 17, 17]               0\n",
            "ConvolutionBlock-285          [-1, 192, 17, 17]               0\n",
            "          Conv2d-286          [-1, 192, 17, 17]         258,240\n",
            "     BatchNorm2d-287          [-1, 192, 17, 17]             384\n",
            "            ReLU-288          [-1, 192, 17, 17]               0\n",
            "ConvolutionBlock-289          [-1, 192, 17, 17]               0\n",
            "          Conv2d-290          [-1, 192, 17, 17]         258,240\n",
            "     BatchNorm2d-291          [-1, 192, 17, 17]             384\n",
            "            ReLU-292          [-1, 192, 17, 17]               0\n",
            "ConvolutionBlock-293          [-1, 192, 17, 17]               0\n",
            "       AvgPool2d-294          [-1, 768, 17, 17]               0\n",
            "          Conv2d-295          [-1, 192, 17, 17]         147,648\n",
            "     BatchNorm2d-296          [-1, 192, 17, 17]             384\n",
            "            ReLU-297          [-1, 192, 17, 17]               0\n",
            "ConvolutionBlock-298          [-1, 192, 17, 17]               0\n",
            "InceptionBlock_B-299          [-1, 768, 17, 17]               0\n",
            "       AvgPool2d-300            [-1, 768, 5, 5]               0\n",
            "          Conv2d-301            [-1, 128, 5, 5]          98,432\n",
            "     BatchNorm2d-302            [-1, 128, 5, 5]             256\n",
            "            ReLU-303            [-1, 128, 5, 5]               0\n",
            "ConvolutionBlock-304            [-1, 128, 5, 5]               0\n",
            "          Conv2d-305            [-1, 768, 1, 1]       2,458,368\n",
            "     BatchNorm2d-306            [-1, 768, 1, 1]           1,536\n",
            "            ReLU-307            [-1, 768, 1, 1]               0\n",
            "ConvolutionBlock-308            [-1, 768, 1, 1]               0\n",
            "          Linear-309                 [-1, 1024]         787,456\n",
            "          Linear-310                   [-1, 50]          51,250\n",
            "       Aux_Block-311                   [-1, 50]               0\n",
            "          Conv2d-312          [-1, 192, 17, 17]         147,648\n",
            "     BatchNorm2d-313          [-1, 192, 17, 17]             384\n",
            "            ReLU-314          [-1, 192, 17, 17]               0\n",
            "ConvolutionBlock-315          [-1, 192, 17, 17]               0\n",
            "          Conv2d-316          [-1, 192, 17, 17]         258,240\n",
            "     BatchNorm2d-317          [-1, 192, 17, 17]             384\n",
            "            ReLU-318          [-1, 192, 17, 17]               0\n",
            "ConvolutionBlock-319          [-1, 192, 17, 17]               0\n",
            "          Conv2d-320          [-1, 192, 17, 17]         258,240\n",
            "     BatchNorm2d-321          [-1, 192, 17, 17]             384\n",
            "            ReLU-322          [-1, 192, 17, 17]               0\n",
            "ConvolutionBlock-323          [-1, 192, 17, 17]               0\n",
            "          Conv2d-324            [-1, 192, 8, 8]         331,968\n",
            "     BatchNorm2d-325            [-1, 192, 8, 8]             384\n",
            "            ReLU-326            [-1, 192, 8, 8]               0\n",
            "ConvolutionBlock-327            [-1, 192, 8, 8]               0\n",
            "          Conv2d-328          [-1, 192, 17, 17]         147,648\n",
            "     BatchNorm2d-329          [-1, 192, 17, 17]             384\n",
            "            ReLU-330          [-1, 192, 17, 17]               0\n",
            "ConvolutionBlock-331          [-1, 192, 17, 17]               0\n",
            "          Conv2d-332            [-1, 320, 8, 8]         553,280\n",
            "     BatchNorm2d-333            [-1, 320, 8, 8]             640\n",
            "            ReLU-334            [-1, 320, 8, 8]               0\n",
            "ConvolutionBlock-335            [-1, 320, 8, 8]               0\n",
            "       MaxPool2d-336            [-1, 768, 8, 8]               0\n",
            "ReductionBlock_B-337           [-1, 1280, 8, 8]               0\n",
            "          Conv2d-338            [-1, 320, 8, 8]         409,920\n",
            "     BatchNorm2d-339            [-1, 320, 8, 8]             640\n",
            "            ReLU-340            [-1, 320, 8, 8]               0\n",
            "ConvolutionBlock-341            [-1, 320, 8, 8]               0\n",
            "       AvgPool2d-342           [-1, 1280, 8, 8]               0\n",
            "          Conv2d-343            [-1, 192, 8, 8]         245,952\n",
            "     BatchNorm2d-344            [-1, 192, 8, 8]             384\n",
            "            ReLU-345            [-1, 192, 8, 8]               0\n",
            "ConvolutionBlock-346            [-1, 192, 8, 8]               0\n",
            "          Conv2d-347            [-1, 384, 8, 8]       1,474,944\n",
            "     BatchNorm2d-348            [-1, 384, 8, 8]             768\n",
            "            ReLU-349            [-1, 384, 8, 8]               0\n",
            "ConvolutionBlock-350            [-1, 384, 8, 8]               0\n",
            "          Conv2d-351            [-1, 384, 8, 8]         442,752\n",
            "     BatchNorm2d-352            [-1, 384, 8, 8]             768\n",
            "            ReLU-353            [-1, 384, 8, 8]               0\n",
            "ConvolutionBlock-354            [-1, 384, 8, 8]               0\n",
            "          Conv2d-355            [-1, 384, 8, 8]         442,752\n",
            "     BatchNorm2d-356            [-1, 384, 8, 8]             768\n",
            "            ReLU-357            [-1, 384, 8, 8]               0\n",
            "ConvolutionBlock-358            [-1, 384, 8, 8]               0\n",
            "          Conv2d-359            [-1, 448, 8, 8]         573,888\n",
            "     BatchNorm2d-360            [-1, 448, 8, 8]             896\n",
            "            ReLU-361            [-1, 448, 8, 8]               0\n",
            "ConvolutionBlock-362            [-1, 448, 8, 8]               0\n",
            "          Conv2d-363            [-1, 384, 8, 8]       1,548,672\n",
            "     BatchNorm2d-364            [-1, 384, 8, 8]             768\n",
            "            ReLU-365            [-1, 384, 8, 8]               0\n",
            "ConvolutionBlock-366            [-1, 384, 8, 8]               0\n",
            "          Conv2d-367            [-1, 384, 8, 8]         442,752\n",
            "     BatchNorm2d-368            [-1, 384, 8, 8]             768\n",
            "            ReLU-369            [-1, 384, 8, 8]               0\n",
            "ConvolutionBlock-370            [-1, 384, 8, 8]               0\n",
            "          Conv2d-371            [-1, 384, 8, 8]         442,752\n",
            "     BatchNorm2d-372            [-1, 384, 8, 8]             768\n",
            "            ReLU-373            [-1, 384, 8, 8]               0\n",
            "ConvolutionBlock-374            [-1, 384, 8, 8]               0\n",
            "InceptionBlock_C-375           [-1, 2048, 8, 8]               0\n",
            "          Conv2d-376            [-1, 320, 8, 8]         655,680\n",
            "     BatchNorm2d-377            [-1, 320, 8, 8]             640\n",
            "            ReLU-378            [-1, 320, 8, 8]               0\n",
            "ConvolutionBlock-379            [-1, 320, 8, 8]               0\n",
            "       AvgPool2d-380           [-1, 2048, 8, 8]               0\n",
            "          Conv2d-381            [-1, 192, 8, 8]         393,408\n",
            "     BatchNorm2d-382            [-1, 192, 8, 8]             384\n",
            "            ReLU-383            [-1, 192, 8, 8]               0\n",
            "ConvolutionBlock-384            [-1, 192, 8, 8]               0\n",
            "          Conv2d-385            [-1, 384, 8, 8]       2,359,680\n",
            "     BatchNorm2d-386            [-1, 384, 8, 8]             768\n",
            "            ReLU-387            [-1, 384, 8, 8]               0\n",
            "ConvolutionBlock-388            [-1, 384, 8, 8]               0\n",
            "          Conv2d-389            [-1, 384, 8, 8]         442,752\n",
            "     BatchNorm2d-390            [-1, 384, 8, 8]             768\n",
            "            ReLU-391            [-1, 384, 8, 8]               0\n",
            "ConvolutionBlock-392            [-1, 384, 8, 8]               0\n",
            "          Conv2d-393            [-1, 384, 8, 8]         442,752\n",
            "     BatchNorm2d-394            [-1, 384, 8, 8]             768\n",
            "            ReLU-395            [-1, 384, 8, 8]               0\n",
            "ConvolutionBlock-396            [-1, 384, 8, 8]               0\n",
            "          Conv2d-397            [-1, 448, 8, 8]         917,952\n",
            "     BatchNorm2d-398            [-1, 448, 8, 8]             896\n",
            "            ReLU-399            [-1, 448, 8, 8]               0\n",
            "ConvolutionBlock-400            [-1, 448, 8, 8]               0\n",
            "          Conv2d-401            [-1, 384, 8, 8]       1,548,672\n",
            "     BatchNorm2d-402            [-1, 384, 8, 8]             768\n",
            "            ReLU-403            [-1, 384, 8, 8]               0\n",
            "ConvolutionBlock-404            [-1, 384, 8, 8]               0\n",
            "          Conv2d-405            [-1, 384, 8, 8]         442,752\n",
            "     BatchNorm2d-406            [-1, 384, 8, 8]             768\n",
            "            ReLU-407            [-1, 384, 8, 8]               0\n",
            "ConvolutionBlock-408            [-1, 384, 8, 8]               0\n",
            "          Conv2d-409            [-1, 384, 8, 8]         442,752\n",
            "     BatchNorm2d-410            [-1, 384, 8, 8]             768\n",
            "            ReLU-411            [-1, 384, 8, 8]               0\n",
            "ConvolutionBlock-412            [-1, 384, 8, 8]               0\n",
            "InceptionBlock_C-413           [-1, 2048, 8, 8]               0\n",
            "AdaptiveAvgPool2d-414           [-1, 2048, 1, 1]               0\n",
            "          Linear-415                 [-1, 2048]       4,196,352\n",
            "          Linear-416                   [-1, 50]         102,450\n",
            "================================================================\n",
            "Total params: 31,961,636\n",
            "Trainable params: 31,961,636\n",
            "Non-trainable params: 0\n",
            "----------------------------------------------------------------\n",
            "Input size (MB): 0.34\n",
            "Forward/backward pass size (MB): 316.41\n",
            "Params size (MB): 121.92\n",
            "Estimated Total Size (MB): 438.68\n",
            "----------------------------------------------------------------\n"
          ]
        }
      ]
    },
    {
      "cell_type": "markdown",
      "source": [
        "# self-implemented ResNet50"
      ],
      "metadata": {
        "id": "kLgDemBTUA6n"
      }
    },
    {
      "cell_type": "code",
      "source": [
        "class my_relu(nn.Module):\n",
        "\n",
        "  def __init__(self):\n",
        "    super().__init__()\n",
        "\n",
        "\n",
        "  def forward(self, x):\n",
        "    return torch.maximum(x, torch.zeros_like(x))"
      ],
      "metadata": {
        "id": "wVlzjjBUhold"
      },
      "execution_count": 22,
      "outputs": []
    },
    {
      "cell_type": "code",
      "source": [
        "class ResidualBlock(nn.Module):\n",
        "\n",
        "  def __init__(self, in_channels, out_channels, i_downsample=None, stride=1):\n",
        "    super(ResidualBlock, self).__init__()\n",
        "\n",
        "    self.conv1 = nn.Conv2d(in_channels, out_channels, kernel_size=1, stride=1, padding=0)\n",
        "    self.batch_norm1 = nn.BatchNorm2d(out_channels, eps=1e-3, track_running_stats=False)\n",
        "\n",
        "    self.conv2 = nn.Conv2d(out_channels, out_channels, kernel_size=3, stride=stride, padding=1)\n",
        "    self.batch_norm2 = nn.BatchNorm2d(out_channels, eps=1e-3, track_running_stats=False)\n",
        "\n",
        "    self.conv3 = nn.Conv2d(out_channels, out_channels * 4, kernel_size=1, stride=1, padding=0)\n",
        "    self.batch_norm3 = nn.BatchNorm2d(out_channels * 4, eps=1e-3, track_running_stats=False)\n",
        "\n",
        "    self.i_downsample = i_downsample\n",
        "    self.stride = stride\n",
        "    self.relu = my_relu()\n",
        "\n",
        "  def initialize_weights(self):\n",
        "    for module in self.modules():\n",
        "      if isinstance(module, nn.Conv2d):\n",
        "        # Initialize the weights of convolutional layers\n",
        "        nn.init.xavier_uniform_(module.weight)\n",
        "        if module.bias is not None:\n",
        "          nn.init.zeros_(module.bias)\n",
        "      elif isinstance(module, nn.BatchNorm2d):\n",
        "        # Initialize the weights and biases of batch normalization layers\n",
        "        nn.init.ones_(module.weight)\n",
        "        nn.init.zeros_(module.bias)\n",
        "      elif isinstance(module, nn.Linear):\n",
        "        # Initialize the weights and biases of linear layers\n",
        "        nn.init.xavier_uniform_(module.weight)\n",
        "        if module.bias is not None:\n",
        "          nn.init.zeros_(module.bias)\n",
        "\n",
        "  def forward(self, x):\n",
        "    y = x.clone()\n",
        "    y = self.relu(self.batch_norm1(self.conv1(y)))\n",
        "    y = self.relu(self.batch_norm2(self.conv2(y)))\n",
        "    y = self.batch_norm3(self.conv3(y))\n",
        "\n",
        "    if self.i_downsample is not None:\n",
        "      x = self.i_downsample(x)\n",
        "\n",
        "    x += y\n",
        "    return self.relu(x)"
      ],
      "metadata": {
        "id": "ZMdWbLgQtFkF"
      },
      "execution_count": 23,
      "outputs": []
    },
    {
      "cell_type": "code",
      "source": [
        "class ResNet(nn.Module):\n",
        "  def __init__(self, arch, num_classes, num_channels = 1):\n",
        "    super().__init__()\n",
        "\n",
        "    self.start_block = nn.Sequential(nn.Conv2d(num_channels, 64, kernel_size=7, stride=2, padding=3,\n",
        "                                               bias=False),\n",
        "                                     nn.BatchNorm2d(64, eps=1e-3, track_running_stats=False),\n",
        "                                     my_relu(),\n",
        "                                     nn.MaxPool2d(kernel_size=3, stride=2, padding=1))\n",
        "\n",
        "    self.in_channel = 64\n",
        "    self.mid_block = nn.Sequential()\n",
        "    for i, (iter, out_channel) in enumerate(arch):\n",
        "      stride = 1 if i == 0 else 2\n",
        "      self.mid_block.add_module(f'resBlock {i + 1}', self.make_layer(iter, out_channel, stride))\n",
        "\n",
        "    self.end_block = nn.Sequential(nn.AdaptiveAvgPool2d((1, 1)),\n",
        "                                   nn.Flatten(),\n",
        "                                   nn.Linear(2048, 512),\n",
        "                                   nn.ReLU(),\n",
        "                                   nn.Dropout(0.5),\n",
        "                                   nn.Linear(512, 128),\n",
        "                                   nn.ReLU(),\n",
        "                                   nn.Dropout(0.5),\n",
        "                                   nn.Linear(128, num_classes))\n",
        "\n",
        "  def initialize_weights(self):\n",
        "    for module in self.modules():\n",
        "      if isinstance(module, nn.Conv2d):\n",
        "        # Initialize the weights of convolutional layers\n",
        "        nn.init.xavier_uniform_(module.weight)\n",
        "        if module.bias is not None:\n",
        "          nn.init.zeros_(module.bias)\n",
        "      elif isinstance(module, nn.BatchNorm2d):\n",
        "        # Initialize the weights and biases of batch normalization layers\n",
        "        nn.init.ones_(module.weight)\n",
        "        nn.init.zeros_(module.bias)\n",
        "      elif isinstance(module, nn.Linear):\n",
        "        # Initialize the weights and biases of linear layers\n",
        "        nn.init.xavier_uniform_(module.weight)\n",
        "        if module.bias is not None:\n",
        "          nn.init.zeros_(module.bias)\n",
        "\n",
        "  def make_layer(self, iter, out_channel, stride):\n",
        "    i_downsample = None\n",
        "    layers = nn.Sequential()\n",
        "    if stride != 1 or self.in_channel != out_channel * 4:\n",
        "      i_downsample = nn.Sequential(\n",
        "          nn.Conv2d(self.in_channel, out_channel * 4, kernel_size=1, stride=stride),\n",
        "          nn.BatchNorm2d(out_channel * 4, eps=1e-3, track_running_stats=False)\n",
        "      )\n",
        "    layers.add_module(f'chan {out_channel}: res 1', ResidualBlock(self.in_channel, out_channel, i_downsample=i_downsample,\n",
        "                               stride=stride))\n",
        "    self.in_channel = out_channel * 4\n",
        "    for i in range(iter - 1):\n",
        "      layers.add_module(f'chan {out_channel}: res {i + 2}', ResidualBlock(self.in_channel, out_channel))\n",
        "\n",
        "    return layers\n",
        "\n",
        "\n",
        "  def forward(self, x):\n",
        "    return self.end_block(self.mid_block(self.start_block(x)))"
      ],
      "metadata": {
        "id": "t9EGBrMew2tw"
      },
      "execution_count": 24,
      "outputs": []
    },
    {
      "cell_type": "code",
      "source": [
        "class ResNet50(ResNet):\n",
        "  def __init__(self, num_classes, num_channels=1):\n",
        "    super().__init__(((3, 64), (4, 128), (6, 256), (3, 512)), num_classes, num_channels)"
      ],
      "metadata": {
        "id": "LBNp3nmF2U-y"
      },
      "execution_count": 25,
      "outputs": []
    },
    {
      "cell_type": "markdown",
      "source": [
        "# Pre-trained torchvision resnet 50"
      ],
      "metadata": {
        "id": "enYm5A8jUHpT"
      }
    },
    {
      "cell_type": "code",
      "source": [
        "device = torch.device('cuda' if torch.cuda.is_available() else 'cpu')"
      ],
      "metadata": {
        "id": "kr76cCBTF9JT"
      },
      "execution_count": 26,
      "outputs": []
    },
    {
      "cell_type": "code",
      "source": [
        "pretrained_resnet50 = torchvision.models.resnet50(pretrained=True).to(device)\n",
        "\n",
        "for param in pretrained_resnet50.parameters():\n",
        "  param.requires_grad = False\n",
        "\n",
        "\n",
        "# grayscale modificaton\n",
        "conv_weight = pretrained_resnet50.conv1.weight\n",
        "new_conv1 = nn.Conv2d(1, 64, kernel_size=7, stride=2, padding=3, bias=False)\n",
        "\n",
        "# Copy the weights from the original layer to the new layer\n",
        "new_conv1.weight = nn.Parameter(conv_weight.sum(dim=1, keepdim=True))\n",
        "\n",
        "# Replace the first layer in the model with the new layer\n",
        "pretrained_resnet50.conv1 = new_conv1\n",
        "\n",
        "pretrained_resnet50.fc = nn.Sequential(\n",
        "    nn.Linear(2048, 128),\n",
        "    nn.ReLU(inplace=True),\n",
        "    nn.Linear(128, 10)\n",
        ").to(device)"
      ],
      "metadata": {
        "id": "WtJX_PoYJJuv",
        "colab": {
          "base_uri": "https://localhost:8080/"
        },
        "outputId": "658c1a78-e468-4e94-c6c3-ee03a3991fd5"
      },
      "execution_count": 27,
      "outputs": [
        {
          "output_type": "stream",
          "name": "stderr",
          "text": [
            "/usr/local/lib/python3.10/dist-packages/torchvision/models/_utils.py:208: UserWarning: The parameter 'pretrained' is deprecated since 0.13 and may be removed in the future, please use 'weights' instead.\n",
            "  warnings.warn(\n",
            "/usr/local/lib/python3.10/dist-packages/torchvision/models/_utils.py:223: UserWarning: Arguments other than a weight enum or `None` for 'weights' are deprecated since 0.13 and may be removed in the future. The current behavior is equivalent to passing `weights=ResNet50_Weights.IMAGENET1K_V1`. You can also use `weights=ResNet50_Weights.DEFAULT` to get the most up-to-date weights.\n",
            "  warnings.warn(msg)\n"
          ]
        }
      ]
    },
    {
      "cell_type": "code",
      "source": [
        "device = torch.device('cuda' if torch.cuda.is_available() else 'cpu')\n",
        "input = torch.randn((1, 512, 256)).to(device)"
      ],
      "metadata": {
        "id": "pmcSVG2DheoR"
      },
      "execution_count": 28,
      "outputs": []
    },
    {
      "cell_type": "code",
      "source": [
        "summary(ResNet50(num_classes=32).to(device), input.shape)"
      ],
      "metadata": {
        "id": "A6qbrRUw2yZC",
        "colab": {
          "base_uri": "https://localhost:8080/"
        },
        "outputId": "3debe5a9-151b-4a1d-c584-d9921d9460b1"
      },
      "execution_count": 29,
      "outputs": [
        {
          "output_type": "stream",
          "name": "stdout",
          "text": [
            "----------------------------------------------------------------\n",
            "        Layer (type)               Output Shape         Param #\n",
            "================================================================\n",
            "            Conv2d-1         [-1, 64, 256, 128]           3,136\n",
            "       BatchNorm2d-2         [-1, 64, 256, 128]             128\n",
            "           my_relu-3         [-1, 64, 256, 128]               0\n",
            "         MaxPool2d-4          [-1, 64, 128, 64]               0\n",
            "            Conv2d-5          [-1, 64, 128, 64]           4,160\n",
            "       BatchNorm2d-6          [-1, 64, 128, 64]             128\n",
            "           my_relu-7          [-1, 64, 128, 64]               0\n",
            "            Conv2d-8          [-1, 64, 128, 64]          36,928\n",
            "       BatchNorm2d-9          [-1, 64, 128, 64]             128\n",
            "          my_relu-10          [-1, 64, 128, 64]               0\n",
            "           Conv2d-11         [-1, 256, 128, 64]          16,640\n",
            "      BatchNorm2d-12         [-1, 256, 128, 64]             512\n",
            "           Conv2d-13         [-1, 256, 128, 64]          16,640\n",
            "      BatchNorm2d-14         [-1, 256, 128, 64]             512\n",
            "          my_relu-15         [-1, 256, 128, 64]               0\n",
            "    ResidualBlock-16         [-1, 256, 128, 64]               0\n",
            "           Conv2d-17          [-1, 64, 128, 64]          16,448\n",
            "      BatchNorm2d-18          [-1, 64, 128, 64]             128\n",
            "          my_relu-19          [-1, 64, 128, 64]               0\n",
            "           Conv2d-20          [-1, 64, 128, 64]          36,928\n",
            "      BatchNorm2d-21          [-1, 64, 128, 64]             128\n",
            "          my_relu-22          [-1, 64, 128, 64]               0\n",
            "           Conv2d-23         [-1, 256, 128, 64]          16,640\n",
            "      BatchNorm2d-24         [-1, 256, 128, 64]             512\n",
            "          my_relu-25         [-1, 256, 128, 64]               0\n",
            "    ResidualBlock-26         [-1, 256, 128, 64]               0\n",
            "           Conv2d-27          [-1, 64, 128, 64]          16,448\n",
            "      BatchNorm2d-28          [-1, 64, 128, 64]             128\n",
            "          my_relu-29          [-1, 64, 128, 64]               0\n",
            "           Conv2d-30          [-1, 64, 128, 64]          36,928\n",
            "      BatchNorm2d-31          [-1, 64, 128, 64]             128\n",
            "          my_relu-32          [-1, 64, 128, 64]               0\n",
            "           Conv2d-33         [-1, 256, 128, 64]          16,640\n",
            "      BatchNorm2d-34         [-1, 256, 128, 64]             512\n",
            "          my_relu-35         [-1, 256, 128, 64]               0\n",
            "    ResidualBlock-36         [-1, 256, 128, 64]               0\n",
            "           Conv2d-37         [-1, 128, 128, 64]          32,896\n",
            "      BatchNorm2d-38         [-1, 128, 128, 64]             256\n",
            "          my_relu-39         [-1, 128, 128, 64]               0\n",
            "           Conv2d-40          [-1, 128, 64, 32]         147,584\n",
            "      BatchNorm2d-41          [-1, 128, 64, 32]             256\n",
            "          my_relu-42          [-1, 128, 64, 32]               0\n",
            "           Conv2d-43          [-1, 512, 64, 32]          66,048\n",
            "      BatchNorm2d-44          [-1, 512, 64, 32]           1,024\n",
            "           Conv2d-45          [-1, 512, 64, 32]         131,584\n",
            "      BatchNorm2d-46          [-1, 512, 64, 32]           1,024\n",
            "          my_relu-47          [-1, 512, 64, 32]               0\n",
            "    ResidualBlock-48          [-1, 512, 64, 32]               0\n",
            "           Conv2d-49          [-1, 128, 64, 32]          65,664\n",
            "      BatchNorm2d-50          [-1, 128, 64, 32]             256\n",
            "          my_relu-51          [-1, 128, 64, 32]               0\n",
            "           Conv2d-52          [-1, 128, 64, 32]         147,584\n",
            "      BatchNorm2d-53          [-1, 128, 64, 32]             256\n",
            "          my_relu-54          [-1, 128, 64, 32]               0\n",
            "           Conv2d-55          [-1, 512, 64, 32]          66,048\n",
            "      BatchNorm2d-56          [-1, 512, 64, 32]           1,024\n",
            "          my_relu-57          [-1, 512, 64, 32]               0\n",
            "    ResidualBlock-58          [-1, 512, 64, 32]               0\n",
            "           Conv2d-59          [-1, 128, 64, 32]          65,664\n",
            "      BatchNorm2d-60          [-1, 128, 64, 32]             256\n",
            "          my_relu-61          [-1, 128, 64, 32]               0\n",
            "           Conv2d-62          [-1, 128, 64, 32]         147,584\n",
            "      BatchNorm2d-63          [-1, 128, 64, 32]             256\n",
            "          my_relu-64          [-1, 128, 64, 32]               0\n",
            "           Conv2d-65          [-1, 512, 64, 32]          66,048\n",
            "      BatchNorm2d-66          [-1, 512, 64, 32]           1,024\n",
            "          my_relu-67          [-1, 512, 64, 32]               0\n",
            "    ResidualBlock-68          [-1, 512, 64, 32]               0\n",
            "           Conv2d-69          [-1, 128, 64, 32]          65,664\n",
            "      BatchNorm2d-70          [-1, 128, 64, 32]             256\n",
            "          my_relu-71          [-1, 128, 64, 32]               0\n",
            "           Conv2d-72          [-1, 128, 64, 32]         147,584\n",
            "      BatchNorm2d-73          [-1, 128, 64, 32]             256\n",
            "          my_relu-74          [-1, 128, 64, 32]               0\n",
            "           Conv2d-75          [-1, 512, 64, 32]          66,048\n",
            "      BatchNorm2d-76          [-1, 512, 64, 32]           1,024\n",
            "          my_relu-77          [-1, 512, 64, 32]               0\n",
            "    ResidualBlock-78          [-1, 512, 64, 32]               0\n",
            "           Conv2d-79          [-1, 256, 64, 32]         131,328\n",
            "      BatchNorm2d-80          [-1, 256, 64, 32]             512\n",
            "          my_relu-81          [-1, 256, 64, 32]               0\n",
            "           Conv2d-82          [-1, 256, 32, 16]         590,080\n",
            "      BatchNorm2d-83          [-1, 256, 32, 16]             512\n",
            "          my_relu-84          [-1, 256, 32, 16]               0\n",
            "           Conv2d-85         [-1, 1024, 32, 16]         263,168\n",
            "      BatchNorm2d-86         [-1, 1024, 32, 16]           2,048\n",
            "           Conv2d-87         [-1, 1024, 32, 16]         525,312\n",
            "      BatchNorm2d-88         [-1, 1024, 32, 16]           2,048\n",
            "          my_relu-89         [-1, 1024, 32, 16]               0\n",
            "    ResidualBlock-90         [-1, 1024, 32, 16]               0\n",
            "           Conv2d-91          [-1, 256, 32, 16]         262,400\n",
            "      BatchNorm2d-92          [-1, 256, 32, 16]             512\n",
            "          my_relu-93          [-1, 256, 32, 16]               0\n",
            "           Conv2d-94          [-1, 256, 32, 16]         590,080\n",
            "      BatchNorm2d-95          [-1, 256, 32, 16]             512\n",
            "          my_relu-96          [-1, 256, 32, 16]               0\n",
            "           Conv2d-97         [-1, 1024, 32, 16]         263,168\n",
            "      BatchNorm2d-98         [-1, 1024, 32, 16]           2,048\n",
            "          my_relu-99         [-1, 1024, 32, 16]               0\n",
            "   ResidualBlock-100         [-1, 1024, 32, 16]               0\n",
            "          Conv2d-101          [-1, 256, 32, 16]         262,400\n",
            "     BatchNorm2d-102          [-1, 256, 32, 16]             512\n",
            "         my_relu-103          [-1, 256, 32, 16]               0\n",
            "          Conv2d-104          [-1, 256, 32, 16]         590,080\n",
            "     BatchNorm2d-105          [-1, 256, 32, 16]             512\n",
            "         my_relu-106          [-1, 256, 32, 16]               0\n",
            "          Conv2d-107         [-1, 1024, 32, 16]         263,168\n",
            "     BatchNorm2d-108         [-1, 1024, 32, 16]           2,048\n",
            "         my_relu-109         [-1, 1024, 32, 16]               0\n",
            "   ResidualBlock-110         [-1, 1024, 32, 16]               0\n",
            "          Conv2d-111          [-1, 256, 32, 16]         262,400\n",
            "     BatchNorm2d-112          [-1, 256, 32, 16]             512\n",
            "         my_relu-113          [-1, 256, 32, 16]               0\n",
            "          Conv2d-114          [-1, 256, 32, 16]         590,080\n",
            "     BatchNorm2d-115          [-1, 256, 32, 16]             512\n",
            "         my_relu-116          [-1, 256, 32, 16]               0\n",
            "          Conv2d-117         [-1, 1024, 32, 16]         263,168\n",
            "     BatchNorm2d-118         [-1, 1024, 32, 16]           2,048\n",
            "         my_relu-119         [-1, 1024, 32, 16]               0\n",
            "   ResidualBlock-120         [-1, 1024, 32, 16]               0\n",
            "          Conv2d-121          [-1, 256, 32, 16]         262,400\n",
            "     BatchNorm2d-122          [-1, 256, 32, 16]             512\n",
            "         my_relu-123          [-1, 256, 32, 16]               0\n",
            "          Conv2d-124          [-1, 256, 32, 16]         590,080\n",
            "     BatchNorm2d-125          [-1, 256, 32, 16]             512\n",
            "         my_relu-126          [-1, 256, 32, 16]               0\n",
            "          Conv2d-127         [-1, 1024, 32, 16]         263,168\n",
            "     BatchNorm2d-128         [-1, 1024, 32, 16]           2,048\n",
            "         my_relu-129         [-1, 1024, 32, 16]               0\n",
            "   ResidualBlock-130         [-1, 1024, 32, 16]               0\n",
            "          Conv2d-131          [-1, 256, 32, 16]         262,400\n",
            "     BatchNorm2d-132          [-1, 256, 32, 16]             512\n",
            "         my_relu-133          [-1, 256, 32, 16]               0\n",
            "          Conv2d-134          [-1, 256, 32, 16]         590,080\n",
            "     BatchNorm2d-135          [-1, 256, 32, 16]             512\n",
            "         my_relu-136          [-1, 256, 32, 16]               0\n",
            "          Conv2d-137         [-1, 1024, 32, 16]         263,168\n",
            "     BatchNorm2d-138         [-1, 1024, 32, 16]           2,048\n",
            "         my_relu-139         [-1, 1024, 32, 16]               0\n",
            "   ResidualBlock-140         [-1, 1024, 32, 16]               0\n",
            "          Conv2d-141          [-1, 512, 32, 16]         524,800\n",
            "     BatchNorm2d-142          [-1, 512, 32, 16]           1,024\n",
            "         my_relu-143          [-1, 512, 32, 16]               0\n",
            "          Conv2d-144           [-1, 512, 16, 8]       2,359,808\n",
            "     BatchNorm2d-145           [-1, 512, 16, 8]           1,024\n",
            "         my_relu-146           [-1, 512, 16, 8]               0\n",
            "          Conv2d-147          [-1, 2048, 16, 8]       1,050,624\n",
            "     BatchNorm2d-148          [-1, 2048, 16, 8]           4,096\n",
            "          Conv2d-149          [-1, 2048, 16, 8]       2,099,200\n",
            "     BatchNorm2d-150          [-1, 2048, 16, 8]           4,096\n",
            "         my_relu-151          [-1, 2048, 16, 8]               0\n",
            "   ResidualBlock-152          [-1, 2048, 16, 8]               0\n",
            "          Conv2d-153           [-1, 512, 16, 8]       1,049,088\n",
            "     BatchNorm2d-154           [-1, 512, 16, 8]           1,024\n",
            "         my_relu-155           [-1, 512, 16, 8]               0\n",
            "          Conv2d-156           [-1, 512, 16, 8]       2,359,808\n",
            "     BatchNorm2d-157           [-1, 512, 16, 8]           1,024\n",
            "         my_relu-158           [-1, 512, 16, 8]               0\n",
            "          Conv2d-159          [-1, 2048, 16, 8]       1,050,624\n",
            "     BatchNorm2d-160          [-1, 2048, 16, 8]           4,096\n",
            "         my_relu-161          [-1, 2048, 16, 8]               0\n",
            "   ResidualBlock-162          [-1, 2048, 16, 8]               0\n",
            "          Conv2d-163           [-1, 512, 16, 8]       1,049,088\n",
            "     BatchNorm2d-164           [-1, 512, 16, 8]           1,024\n",
            "         my_relu-165           [-1, 512, 16, 8]               0\n",
            "          Conv2d-166           [-1, 512, 16, 8]       2,359,808\n",
            "     BatchNorm2d-167           [-1, 512, 16, 8]           1,024\n",
            "         my_relu-168           [-1, 512, 16, 8]               0\n",
            "          Conv2d-169          [-1, 2048, 16, 8]       1,050,624\n",
            "     BatchNorm2d-170          [-1, 2048, 16, 8]           4,096\n",
            "         my_relu-171          [-1, 2048, 16, 8]               0\n",
            "   ResidualBlock-172          [-1, 2048, 16, 8]               0\n",
            "AdaptiveAvgPool2d-173           [-1, 2048, 1, 1]               0\n",
            "         Flatten-174                 [-1, 2048]               0\n",
            "          Linear-175                  [-1, 512]       1,049,088\n",
            "            ReLU-176                  [-1, 512]               0\n",
            "         Dropout-177                  [-1, 512]               0\n",
            "          Linear-178                  [-1, 128]          65,664\n",
            "            ReLU-179                  [-1, 128]               0\n",
            "         Dropout-180                  [-1, 128]               0\n",
            "          Linear-181                   [-1, 32]           4,128\n",
            "================================================================\n",
            "Total params: 24,647,136\n",
            "Trainable params: 24,647,136\n",
            "Non-trainable params: 0\n",
            "----------------------------------------------------------------\n",
            "Input size (MB): 0.50\n",
            "Forward/backward pass size (MB): 748.55\n",
            "Params size (MB): 94.02\n",
            "Estimated Total Size (MB): 843.07\n",
            "----------------------------------------------------------------\n"
          ]
        }
      ]
    },
    {
      "cell_type": "markdown",
      "source": [
        "# Siamese Network"
      ],
      "metadata": {
        "id": "jQajRwxeUQzZ"
      }
    },
    {
      "cell_type": "code",
      "source": [
        "class SiameseNetwork(nn.Module):\n",
        "  def __init__(self, num_classes=32):\n",
        "    super().__init__()\n",
        "\n",
        "    self.resnet50 = ResNet50(num_classes=num_classes)\n",
        "\n",
        "  def initialize_weights(self):\n",
        "    for module in self.modules():\n",
        "      if isinstance(module, nn.Conv2d):\n",
        "        # Initialize the weights of convolutional layers\n",
        "        nn.init.xavier_uniform_(module.weight)\n",
        "        if module.bias is not None:\n",
        "          nn.init.zeros_(module.bias)\n",
        "      elif isinstance(module, nn.BatchNorm2d):\n",
        "        # Initialize the weights and biases of batch normalization layers\n",
        "        nn.init.ones_(module.weight)\n",
        "        nn.init.zeros_(module.bias)\n",
        "      elif isinstance(module, nn.Linear):\n",
        "        # Initialize the weights and biases of linear layers\n",
        "        nn.init.xavier_uniform_(module.weight)\n",
        "        if module.bias is not None:\n",
        "          nn.init.zeros_(module.bias)\n",
        "\n",
        "  def forward(self, x):\n",
        "    raise NotImplementedError"
      ],
      "metadata": {
        "id": "Dz23Oancuc5t"
      },
      "execution_count": 30,
      "outputs": []
    },
    {
      "cell_type": "code",
      "source": [
        "class SiameseNetworkQuadret(SiameseNetwork):\n",
        "  def __init__(self, **kwargs):\n",
        "    super().__init__(**kwargs)\n",
        "\n",
        "  def forward(self, x):\n",
        "    x1, x2, x3, x4 = x\n",
        "    x1, _ = self.resnet50(x1)\n",
        "    x2, _ = self.resnet50(x2)\n",
        "    x3, _ = self.resnet50(x3)\n",
        "    x4, _ = self.resnet50(x4)\n",
        "\n",
        "    return x1, x2"
      ],
      "metadata": {
        "id": "IA4-Ph993SFi"
      },
      "execution_count": 31,
      "outputs": []
    },
    {
      "cell_type": "code",
      "source": [
        "class SiameseNetworkTriplet(SiameseNetwork):\n",
        "  def __init__(self, **kwargs):\n",
        "    super().__init__(**kwargs)\n",
        "\n",
        "  def forward(self, x):\n",
        "    x1, x2, x3= x\n",
        "    x1 = self.resnet50(x1)\n",
        "    x2 = self.resnet50(x2)\n",
        "    x3 = self.resnet50(x3)\n",
        "\n",
        "    return x1, x2, x3"
      ],
      "metadata": {
        "id": "28d_9Brh0-Tt"
      },
      "execution_count": 32,
      "outputs": []
    },
    {
      "cell_type": "code",
      "source": [
        "class SiameseNetworkDouble(SiameseNetwork):\n",
        "  def __init__(self, **kwargs):\n",
        "    super().__init__(**kwargs)\n",
        "\n",
        "  def forward(self, x):\n",
        "    x1, x2= x\n",
        "    x1 = self.resnet50(x1)\n",
        "    x2 = self.resnet50(x2)\n",
        "\n",
        "    return x1, x2"
      ],
      "metadata": {
        "id": "HidQCLJmvqi_"
      },
      "execution_count": 33,
      "outputs": []
    },
    {
      "cell_type": "markdown",
      "source": [
        "# Loss Function"
      ],
      "metadata": {
        "id": "k-kjvN2tUUSj"
      }
    },
    {
      "cell_type": "code",
      "source": [
        "class ContrastiveLoss(torch.nn.Module):\n",
        "    \"\"\"\n",
        "    Contrastive loss function.\n",
        "    Based on: http://yann.lecun.com/exdb/publis/pdf/hadsell-chopra-lecun-06.pdf\n",
        "    \"\"\"\n",
        "\n",
        "    def __init__(self, margin=2.0):\n",
        "        super(ContrastiveLoss, self).__init__()\n",
        "        self.margin = margin\n",
        "\n",
        "    def forward(self, x1, x2, label):\n",
        "\n",
        "      epsilon = 1e-8\n",
        "\n",
        "      dist = F.pairwise_distance(x1, x2, keepdim=True)\n",
        "\n",
        "      loss = torch.mean(0.5*(label) * torch.pow(dist, 2) +\n",
        "                        0.5*(1-label) * torch.pow(torch.clamp(self.margin - dist, min=0.0), 2)) + epsilon\n",
        "\n",
        "\n",
        "      return loss"
      ],
      "metadata": {
        "id": "V3P1wF-UuRFG"
      },
      "execution_count": 34,
      "outputs": []
    },
    {
      "cell_type": "code",
      "source": [
        "class TripletLoss(torch.nn.Module):\n",
        "    \"\"\"\n",
        "    Triplet loss function.\n",
        "    \"\"\"\n",
        "\n",
        "    def __init__(self, margin=2.0):\n",
        "        super(TripletLoss, self).__init__()\n",
        "        self.margin = margin\n",
        "        self.relu = my_relu()\n",
        "\n",
        "    def forward(self, anchor, positive, negative):\n",
        "\n",
        "        distance_1 = F.pairwise_distance(anchor, positive, keepdim=True).sum(1)\n",
        "\n",
        "        distance_2 = F.pairwise_distance(anchor, negative, keepdim=True).sum(1)\n",
        "\n",
        "        triplet_loss = self.relu( self.margin + distance_1 - distance_2 ).mean()\n",
        "\n",
        "        return triplet_loss"
      ],
      "metadata": {
        "id": "gZaJJzkdzhiS"
      },
      "execution_count": 35,
      "outputs": []
    },
    {
      "cell_type": "code",
      "source": [
        "class QuadrupletLoss(nn.Module):\n",
        "    \"\"\"\n",
        "    Quadruplet loss function.\n",
        "    Builds on the Triplet Loss and takes 4 data input: one anchor, one positive and two negative examples.\n",
        "    The negative examples needs not to be matching the anchor, the positive and each other.\n",
        "    \"\"\"\n",
        "    def __init__(self, margin1=2.0, margin2=2.0):\n",
        "        super(QuadrupletLoss, self).__init__()\n",
        "        self.margin1 = margin1\n",
        "        self.margin2 = margin2\n",
        "        self.relu = my_relu()\n",
        "\n",
        "    # x1: anchor\n",
        "    # x2: positive\n",
        "    # x3: negative 1\n",
        "    # x4: negative 2\n",
        "    def forward(self, anchor, positive, negative1, negative2):\n",
        "\n",
        "        squarred_distance_pos = (anchor - positive).pow(2).sum(1)\n",
        "        squarred_distance_neg = (anchor - negative1).pow(2).sum(1)\n",
        "        squarred_distance_neg_b = (negative1 - negative2).pow(2).sum(1)\n",
        "\n",
        "        quadruplet_loss = \\\n",
        "            self.relu(self.margin1 + squarred_distance_pos - squarred_distance_neg) \\\n",
        "            + self.relu(self.margin2 + squarred_distance_pos - squarred_distance_neg_b)\n",
        "\n",
        "        return quadruplet_loss.mean()"
      ],
      "metadata": {
        "id": "Pknv9lAkSu3g"
      },
      "execution_count": 36,
      "outputs": []
    },
    {
      "cell_type": "markdown",
      "source": [
        "# Siamese Dataloader"
      ],
      "metadata": {
        "id": "UGRmjBjrUYgT"
      }
    },
    {
      "cell_type": "code",
      "source": [
        "class SiameseDataset(torch.utils.data.Dataset):\n",
        "    def __init__(self, features, cat_num, data_len, sample_expansion, transform=None):\n",
        "      self.cat_num = cat_num\n",
        "      self.features = []\n",
        "      for i in range(self.cat_num):\n",
        "        feature = torch.stack([transform(img) for img in features[i]]).type(torch.FloatTensor)\n",
        "        self.features.append(feature)\n",
        "      self.data_len = data_len\n",
        "      self.sample_expansion = sample_expansion\n",
        "\n",
        "    def __len__(self):\n",
        "        return self.data_len * self.sample_expansion\n",
        "\n",
        "    def getRandomCats(self):\n",
        "      raise NotImplementedError\n",
        "\n",
        "    def __getitem__(self, idx):\n",
        "      raise NotImplementedError"
      ],
      "metadata": {
        "id": "miGj0h1DwEyx"
      },
      "execution_count": 37,
      "outputs": []
    },
    {
      "cell_type": "code",
      "source": [
        "class SiameseDoubleDataset(SiameseDataset):\n",
        "    def __init__(self, **kwargs):\n",
        "      super().__init__(**kwargs)\n",
        "\n",
        "    def getRandomCats(self):\n",
        "      anchor_cat = random.randint(0, self.cat_num - 1)\n",
        "      pos = random.randint(0, 1)\n",
        "      if pos:\n",
        "        return anchor_cat, anchor_cat\n",
        "      else:\n",
        "        comp_cat = random.randint(0, self.cat_num - 2)\n",
        "        if comp_cat >= anchor_cat:\n",
        "          comp_cat += 1\n",
        "        return anchor_cat, comp_cat\n",
        "\n",
        "    def __getitem__(self, idx):\n",
        "      anchor_cat, comp_cat = self.getRandomCats()\n",
        "      anchor_idx = random.randint(0, len(self.features[anchor_cat]) - 1)\n",
        "      comp_idx = 0\n",
        "      if anchor_cat == comp_cat:\n",
        "        comp_idx = random.randint(0, len(self.features[comp_cat]) - 2)\n",
        "        comp_idx = comp_idx + 1 if comp_idx >= anchor_idx else comp_idx\n",
        "      else:\n",
        "        comp_idx = random.randint(0, len(self.features[comp_cat]) - 1)\n",
        "\n",
        "      anchor_img = self.features[anchor_cat][anchor_idx]\n",
        "      comp_img = self.features[comp_cat][comp_idx]\n",
        "\n",
        "      return (anchor_img, comp_img), torch.tensor(anchor_cat == comp_cat, dtype=torch.long)"
      ],
      "metadata": {
        "id": "BGrdPb1KwiyM"
      },
      "execution_count": 38,
      "outputs": []
    },
    {
      "cell_type": "code",
      "source": [
        "class SiameseTripleDataset(SiameseDataset):\n",
        "    def __init__(self, **kwargs):\n",
        "      super().__init__(**kwargs)\n",
        "\n",
        "    def getRandomCats(self):\n",
        "      anchor_cat = random.randint(0, self.cat_num - 1)\n",
        "      comp_cat = random.randint(0, self.cat_num - 2)\n",
        "      if comp_cat >= anchor_cat:\n",
        "        comp_cat += 1\n",
        "      return anchor_cat, comp_cat\n",
        "\n",
        "    def __getitem__(self, idx):\n",
        "      anchor_cat, comp_cat = self.getRandomCats()\n",
        "      anchor_idx = random.randint(0, len(self.features[anchor_cat]) - 1)\n",
        "      pos_idx = random.randint(0, len(self.features[anchor_cat]) - 2)\n",
        "      pos_idx = pos_idx + 1 if pos_idx >= anchor_idx else pos_idx\n",
        "      neg_idx = random.randint(0, len(self.features[comp_cat]) - 1)\n",
        "\n",
        "      anchor_img = self.features[anchor_cat][anchor_idx]\n",
        "      pos_img = self.features[anchor_cat][pos_idx]\n",
        "      neg_img = self.features[comp_cat][neg_idx]\n",
        "\n",
        "      return anchor_img, pos_img, neg_img"
      ],
      "metadata": {
        "id": "_j8yJLVB0C2a"
      },
      "execution_count": 39,
      "outputs": []
    },
    {
      "cell_type": "code",
      "source": [
        "class SiameseQuadretDataset(SiameseDataset):\n",
        "    def __init__(self, **kwargs):\n",
        "      super().__init__(**kwargs)\n",
        "\n",
        "    def getRandomCats(self):\n",
        "      anchor_cat = random.randint(0, self.cat_num - 1)\n",
        "      neg_cat1 = random.randint(0, self.cat_num - 2)\n",
        "      neg_cat2 = random.randint(0, self.cat_num - 3)\n",
        "\n",
        "      if neg_cat2 >= neg_cat1:\n",
        "        neg_cat2 += 1\n",
        "      if neg_cat2 >= anchor_cat:\n",
        "        neg_cat2 += 1\n",
        "      if neg_cat1 >= anchor_cat:\n",
        "        neg_cat1 += 1\n",
        "\n",
        "      return anchor_cat, neg_cat1, neg_cat2\n",
        "\n",
        "    def __getitem__(self, idx):\n",
        "      anchor_cat, neg_cat1, neg_cat2 = self.getRandomCats()\n",
        "      anchor_idx = idx % len(self.features[anchor_cat])\n",
        "      pos_idx = random.randint(0, len(self.features[anchor_cat]) - 2)\n",
        "      if pos_idx >= anchor_idx:\n",
        "        pos_idx += 1\n",
        "      neg1_idx = random.randint(0, len(self.features[neg_cat1]) - 1)\n",
        "      neg2_idx = random.randint(0, len(self.features[neg_cat2]) - 1)\n",
        "\n",
        "      anchor_img = self.features[anchor_cat][anchor_idx]\n",
        "      pos_img = self.features[anchor_cat][pos_idx]\n",
        "      neg1_img = self.features[neg_cat1][neg1_idx]\n",
        "      neg2_img = self.features[neg_cat2][neg2_idx]\n",
        "\n",
        "      return anchor_img, pos_img, neg1_img, neg2_img"
      ],
      "metadata": {
        "id": "T-vrHWVqTKX0"
      },
      "execution_count": 40,
      "outputs": []
    },
    {
      "cell_type": "code",
      "source": [
        "class SiameseDataLoader:\n",
        "    def __init__(self, data):\n",
        "      self.data = data\n",
        "\n",
        "    def get_trainLoader(self):\n",
        "        return torch.utils.data.DataLoader(self.data,\n",
        "                                           batch_size=8, shuffle=True)\n",
        "    def get_valLoader(self):\n",
        "        return None"
      ],
      "metadata": {
        "id": "PE3QvDiqTwM3"
      },
      "execution_count": 41,
      "outputs": []
    },
    {
      "cell_type": "markdown",
      "source": [
        "# Obtain data from dataframe"
      ],
      "metadata": {
        "id": "r7IuDWTJUc8H"
      }
    },
    {
      "cell_type": "code",
      "source": [
        "df.head()"
      ],
      "metadata": {
        "id": "RMavTLSibgMm",
        "colab": {
          "base_uri": "https://localhost:8080/",
          "height": 528
        },
        "outputId": "b4037590-9ccd-4e7c-85d3-053d628fcc28"
      },
      "execution_count": 42,
      "outputs": [
        {
          "output_type": "execute_result",
          "data": {
            "text/plain": [
              "   extent_right_numerical  density_right_numerical  extent_left_numerical  \\\n",
              "0                       4                        3                      4   \n",
              "1                       3                        3                      3   \n",
              "2                       1                        1                      1   \n",
              "3                       0                        0                      0   \n",
              "4                       0                        0                      0   \n",
              "\n",
              "   density_left_numerical  mRALE Score  \\\n",
              "0                       2           20   \n",
              "1                       2           15   \n",
              "2                       1            2   \n",
              "3                       0            0   \n",
              "4                       0            0   \n",
              "\n",
              "                                                 img  \\\n",
              "0  [[0.0, 0.0, 0.0, 0.0, 0.0, 0.0, 0.0, 0.0, 0.0,...   \n",
              "1  [[0.0, 0.0, 0.0, 0.0, 0.0, 0.0, 0.0, 0.0, 0.0,...   \n",
              "2  [[0.0, 0.0, 0.0, 0.0, 0.0, 0.0, 0.0, 0.0, 0.0,...   \n",
              "3  [[0.0, 0.0, 0.0, 0.0, 0.0, 0.0, 0.0, 0.0, 0.0,...   \n",
              "4  [[0.0, 0.0, 0.0, 0.0, 0.0, 0.0, 0.0, 0.0, 0.0,...   \n",
              "\n",
              "                                       processed_img  \\\n",
              "0  [[0.0, 0.0, 0.0, 0.0, 0.0, 0.0, 0.0, 0.0, 0.0,...   \n",
              "1  [[0.0, 0.0, 0.0, 0.0, 0.0, 0.0, 0.0, 0.0, 0.0,...   \n",
              "2  [[0.0, 0.0, 0.0, 0.0, 0.0, 0.0, 0.0, 0.0, 0.0,...   \n",
              "3  [[0.0, 0.0, 0.0, 0.0, 0.0, 0.0, 0.0, 0.0, 0.0,...   \n",
              "4  [[0.0, 0.0, 0.0, 0.0, 0.0, 0.0, 0.0, 0.0, 0.0,...   \n",
              "\n",
              "                                              masked  divide  \n",
              "0  [[0.0, 0.0, 0.0, 0.0, 0.0, 0.0, 0.0, 0.0, 0.0,...      64  \n",
              "1  [[0.0, 0.0, 0.0, 0.0, 0.0, 0.0, 0.0, 0.0, 0.0,...     120  \n",
              "2  [[0.0, 0.0, 0.0, 0.0, 0.0, 0.0, 0.0, 0.0, 0.0,...     137  \n",
              "3  [[0.0, 0.0, 0.0, 0.0, 0.0, 0.0, 0.0, 0.0, 0.0,...     132  \n",
              "4  [[0.0, 0.0, 0.0, 0.0, 0.0, 0.0, 0.0, 0.0, 0.0,...     137  "
            ],
            "text/html": [
              "\n",
              "\n",
              "  <div id=\"df-9d84a54c-0d77-49ce-ac48-37ea7e19710c\">\n",
              "    <div class=\"colab-df-container\">\n",
              "      <div>\n",
              "<style scoped>\n",
              "    .dataframe tbody tr th:only-of-type {\n",
              "        vertical-align: middle;\n",
              "    }\n",
              "\n",
              "    .dataframe tbody tr th {\n",
              "        vertical-align: top;\n",
              "    }\n",
              "\n",
              "    .dataframe thead th {\n",
              "        text-align: right;\n",
              "    }\n",
              "</style>\n",
              "<table border=\"1\" class=\"dataframe\">\n",
              "  <thead>\n",
              "    <tr style=\"text-align: right;\">\n",
              "      <th></th>\n",
              "      <th>extent_right_numerical</th>\n",
              "      <th>density_right_numerical</th>\n",
              "      <th>extent_left_numerical</th>\n",
              "      <th>density_left_numerical</th>\n",
              "      <th>mRALE Score</th>\n",
              "      <th>img</th>\n",
              "      <th>processed_img</th>\n",
              "      <th>masked</th>\n",
              "      <th>divide</th>\n",
              "    </tr>\n",
              "  </thead>\n",
              "  <tbody>\n",
              "    <tr>\n",
              "      <th>0</th>\n",
              "      <td>4</td>\n",
              "      <td>3</td>\n",
              "      <td>4</td>\n",
              "      <td>2</td>\n",
              "      <td>20</td>\n",
              "      <td>[[0.0, 0.0, 0.0, 0.0, 0.0, 0.0, 0.0, 0.0, 0.0,...</td>\n",
              "      <td>[[0.0, 0.0, 0.0, 0.0, 0.0, 0.0, 0.0, 0.0, 0.0,...</td>\n",
              "      <td>[[0.0, 0.0, 0.0, 0.0, 0.0, 0.0, 0.0, 0.0, 0.0,...</td>\n",
              "      <td>64</td>\n",
              "    </tr>\n",
              "    <tr>\n",
              "      <th>1</th>\n",
              "      <td>3</td>\n",
              "      <td>3</td>\n",
              "      <td>3</td>\n",
              "      <td>2</td>\n",
              "      <td>15</td>\n",
              "      <td>[[0.0, 0.0, 0.0, 0.0, 0.0, 0.0, 0.0, 0.0, 0.0,...</td>\n",
              "      <td>[[0.0, 0.0, 0.0, 0.0, 0.0, 0.0, 0.0, 0.0, 0.0,...</td>\n",
              "      <td>[[0.0, 0.0, 0.0, 0.0, 0.0, 0.0, 0.0, 0.0, 0.0,...</td>\n",
              "      <td>120</td>\n",
              "    </tr>\n",
              "    <tr>\n",
              "      <th>2</th>\n",
              "      <td>1</td>\n",
              "      <td>1</td>\n",
              "      <td>1</td>\n",
              "      <td>1</td>\n",
              "      <td>2</td>\n",
              "      <td>[[0.0, 0.0, 0.0, 0.0, 0.0, 0.0, 0.0, 0.0, 0.0,...</td>\n",
              "      <td>[[0.0, 0.0, 0.0, 0.0, 0.0, 0.0, 0.0, 0.0, 0.0,...</td>\n",
              "      <td>[[0.0, 0.0, 0.0, 0.0, 0.0, 0.0, 0.0, 0.0, 0.0,...</td>\n",
              "      <td>137</td>\n",
              "    </tr>\n",
              "    <tr>\n",
              "      <th>3</th>\n",
              "      <td>0</td>\n",
              "      <td>0</td>\n",
              "      <td>0</td>\n",
              "      <td>0</td>\n",
              "      <td>0</td>\n",
              "      <td>[[0.0, 0.0, 0.0, 0.0, 0.0, 0.0, 0.0, 0.0, 0.0,...</td>\n",
              "      <td>[[0.0, 0.0, 0.0, 0.0, 0.0, 0.0, 0.0, 0.0, 0.0,...</td>\n",
              "      <td>[[0.0, 0.0, 0.0, 0.0, 0.0, 0.0, 0.0, 0.0, 0.0,...</td>\n",
              "      <td>132</td>\n",
              "    </tr>\n",
              "    <tr>\n",
              "      <th>4</th>\n",
              "      <td>0</td>\n",
              "      <td>0</td>\n",
              "      <td>0</td>\n",
              "      <td>0</td>\n",
              "      <td>0</td>\n",
              "      <td>[[0.0, 0.0, 0.0, 0.0, 0.0, 0.0, 0.0, 0.0, 0.0,...</td>\n",
              "      <td>[[0.0, 0.0, 0.0, 0.0, 0.0, 0.0, 0.0, 0.0, 0.0,...</td>\n",
              "      <td>[[0.0, 0.0, 0.0, 0.0, 0.0, 0.0, 0.0, 0.0, 0.0,...</td>\n",
              "      <td>137</td>\n",
              "    </tr>\n",
              "  </tbody>\n",
              "</table>\n",
              "</div>\n",
              "      <button class=\"colab-df-convert\" onclick=\"convertToInteractive('df-9d84a54c-0d77-49ce-ac48-37ea7e19710c')\"\n",
              "              title=\"Convert this dataframe to an interactive table.\"\n",
              "              style=\"display:none;\">\n",
              "\n",
              "  <svg xmlns=\"http://www.w3.org/2000/svg\" height=\"24px\"viewBox=\"0 0 24 24\"\n",
              "       width=\"24px\">\n",
              "    <path d=\"M0 0h24v24H0V0z\" fill=\"none\"/>\n",
              "    <path d=\"M18.56 5.44l.94 2.06.94-2.06 2.06-.94-2.06-.94-.94-2.06-.94 2.06-2.06.94zm-11 1L8.5 8.5l.94-2.06 2.06-.94-2.06-.94L8.5 2.5l-.94 2.06-2.06.94zm10 10l.94 2.06.94-2.06 2.06-.94-2.06-.94-.94-2.06-.94 2.06-2.06.94z\"/><path d=\"M17.41 7.96l-1.37-1.37c-.4-.4-.92-.59-1.43-.59-.52 0-1.04.2-1.43.59L10.3 9.45l-7.72 7.72c-.78.78-.78 2.05 0 2.83L4 21.41c.39.39.9.59 1.41.59.51 0 1.02-.2 1.41-.59l7.78-7.78 2.81-2.81c.8-.78.8-2.07 0-2.86zM5.41 20L4 18.59l7.72-7.72 1.47 1.35L5.41 20z\"/>\n",
              "  </svg>\n",
              "      </button>\n",
              "\n",
              "\n",
              "\n",
              "    <div id=\"df-a44e17e6-77d0-490a-bc4c-85a368b72eca\">\n",
              "      <button class=\"colab-df-quickchart\" onclick=\"quickchart('df-a44e17e6-77d0-490a-bc4c-85a368b72eca')\"\n",
              "              title=\"Suggest charts.\"\n",
              "              style=\"display:none;\">\n",
              "\n",
              "<svg xmlns=\"http://www.w3.org/2000/svg\" height=\"24px\"viewBox=\"0 0 24 24\"\n",
              "     width=\"24px\">\n",
              "    <g>\n",
              "        <path d=\"M19 3H5c-1.1 0-2 .9-2 2v14c0 1.1.9 2 2 2h14c1.1 0 2-.9 2-2V5c0-1.1-.9-2-2-2zM9 17H7v-7h2v7zm4 0h-2V7h2v10zm4 0h-2v-4h2v4z\"/>\n",
              "    </g>\n",
              "</svg>\n",
              "      </button>\n",
              "    </div>\n",
              "\n",
              "<style>\n",
              "  .colab-df-quickchart {\n",
              "    background-color: #E8F0FE;\n",
              "    border: none;\n",
              "    border-radius: 50%;\n",
              "    cursor: pointer;\n",
              "    display: none;\n",
              "    fill: #1967D2;\n",
              "    height: 32px;\n",
              "    padding: 0 0 0 0;\n",
              "    width: 32px;\n",
              "  }\n",
              "\n",
              "  .colab-df-quickchart:hover {\n",
              "    background-color: #E2EBFA;\n",
              "    box-shadow: 0px 1px 2px rgba(60, 64, 67, 0.3), 0px 1px 3px 1px rgba(60, 64, 67, 0.15);\n",
              "    fill: #174EA6;\n",
              "  }\n",
              "\n",
              "  [theme=dark] .colab-df-quickchart {\n",
              "    background-color: #3B4455;\n",
              "    fill: #D2E3FC;\n",
              "  }\n",
              "\n",
              "  [theme=dark] .colab-df-quickchart:hover {\n",
              "    background-color: #434B5C;\n",
              "    box-shadow: 0px 1px 3px 1px rgba(0, 0, 0, 0.15);\n",
              "    filter: drop-shadow(0px 1px 2px rgba(0, 0, 0, 0.3));\n",
              "    fill: #FFFFFF;\n",
              "  }\n",
              "</style>\n",
              "\n",
              "    <script>\n",
              "      async function quickchart(key) {\n",
              "        const containerElement = document.querySelector('#' + key);\n",
              "        const charts = await google.colab.kernel.invokeFunction(\n",
              "            'suggestCharts', [key], {});\n",
              "      }\n",
              "    </script>\n",
              "\n",
              "      <script>\n",
              "\n",
              "function displayQuickchartButton(domScope) {\n",
              "  let quickchartButtonEl =\n",
              "    domScope.querySelector('#df-a44e17e6-77d0-490a-bc4c-85a368b72eca button.colab-df-quickchart');\n",
              "  quickchartButtonEl.style.display =\n",
              "    google.colab.kernel.accessAllowed ? 'block' : 'none';\n",
              "}\n",
              "\n",
              "        displayQuickchartButton(document);\n",
              "      </script>\n",
              "      <style>\n",
              "    .colab-df-container {\n",
              "      display:flex;\n",
              "      flex-wrap:wrap;\n",
              "      gap: 12px;\n",
              "    }\n",
              "\n",
              "    .colab-df-convert {\n",
              "      background-color: #E8F0FE;\n",
              "      border: none;\n",
              "      border-radius: 50%;\n",
              "      cursor: pointer;\n",
              "      display: none;\n",
              "      fill: #1967D2;\n",
              "      height: 32px;\n",
              "      padding: 0 0 0 0;\n",
              "      width: 32px;\n",
              "    }\n",
              "\n",
              "    .colab-df-convert:hover {\n",
              "      background-color: #E2EBFA;\n",
              "      box-shadow: 0px 1px 2px rgba(60, 64, 67, 0.3), 0px 1px 3px 1px rgba(60, 64, 67, 0.15);\n",
              "      fill: #174EA6;\n",
              "    }\n",
              "\n",
              "    [theme=dark] .colab-df-convert {\n",
              "      background-color: #3B4455;\n",
              "      fill: #D2E3FC;\n",
              "    }\n",
              "\n",
              "    [theme=dark] .colab-df-convert:hover {\n",
              "      background-color: #434B5C;\n",
              "      box-shadow: 0px 1px 3px 1px rgba(0, 0, 0, 0.15);\n",
              "      filter: drop-shadow(0px 1px 2px rgba(0, 0, 0, 0.3));\n",
              "      fill: #FFFFFF;\n",
              "    }\n",
              "  </style>\n",
              "\n",
              "      <script>\n",
              "        const buttonEl =\n",
              "          document.querySelector('#df-9d84a54c-0d77-49ce-ac48-37ea7e19710c button.colab-df-convert');\n",
              "        buttonEl.style.display =\n",
              "          google.colab.kernel.accessAllowed ? 'block' : 'none';\n",
              "\n",
              "        async function convertToInteractive(key) {\n",
              "          const element = document.querySelector('#df-9d84a54c-0d77-49ce-ac48-37ea7e19710c');\n",
              "          const dataTable =\n",
              "            await google.colab.kernel.invokeFunction('convertToInteractive',\n",
              "                                                     [key], {});\n",
              "          if (!dataTable) return;\n",
              "\n",
              "          const docLinkHtml = 'Like what you see? Visit the ' +\n",
              "            '<a target=\"_blank\" href=https://colab.research.google.com/notebooks/data_table.ipynb>data table notebook</a>'\n",
              "            + ' to learn more about interactive tables.';\n",
              "          element.innerHTML = '';\n",
              "          dataTable['output_type'] = 'display_data';\n",
              "          await google.colab.output.renderOutput(dataTable, element);\n",
              "          const docLink = document.createElement('div');\n",
              "          docLink.innerHTML = docLinkHtml;\n",
              "          element.appendChild(docLink);\n",
              "        }\n",
              "      </script>\n",
              "    </div>\n",
              "  </div>\n"
            ]
          },
          "metadata": {},
          "execution_count": 42
        }
      ]
    },
    {
      "cell_type": "code",
      "source": [
        "# df_left = []\n",
        "# df_right = []\n",
        "# for i in range(len(df)):\n",
        "#   divide = df.iloc[i]['divide']\n",
        "#   df_right.append(cv2.resize(df.iloc[i]['processed_img'][:, :divide * 2], (256, 512)))\n",
        "#   df_left.append(cv2.resize(df.iloc[i]['processed_img'][:, divide * 2:], (256, 512)))\n",
        "\n",
        "# df['left'] = df_left\n",
        "# df['right'] = df_right"
      ],
      "metadata": {
        "id": "W7JlKsEQrXVq"
      },
      "execution_count": 43,
      "outputs": []
    },
    {
      "cell_type": "code",
      "source": [
        "trans_img = transforms.Compose([transforms.ToTensor(),\n",
        "                                transforms.Normalize((0.5, ), (0.5, )),])\n",
        "\n",
        "cat_num = df['extent_right_numerical'].nunique()\n",
        "\n",
        "features = []\n",
        "\n",
        "for i in range(cat_num):\n",
        "  features.append(df[df['extent_right_numerical'] == i]['masked'].tolist())"
      ],
      "metadata": {
        "id": "RKYuYmlgak3e"
      },
      "execution_count": 44,
      "outputs": []
    },
    {
      "cell_type": "code",
      "source": [
        "features[0][0].shape"
      ],
      "metadata": {
        "colab": {
          "base_uri": "https://localhost:8080/"
        },
        "id": "PHT1GVC6sPcT",
        "outputId": "2b4e2ed0-cf21-481e-9a46-225dc35c9ec3"
      },
      "execution_count": 45,
      "outputs": [
        {
          "output_type": "execute_result",
          "data": {
            "text/plain": [
              "(256, 256)"
            ]
          },
          "metadata": {},
          "execution_count": 45
        }
      ]
    },
    {
      "cell_type": "markdown",
      "source": [
        "# Trainer"
      ],
      "metadata": {
        "id": "13UdFQ87Ug0s"
      }
    },
    {
      "cell_type": "code",
      "source": [
        "class Trainer:\n",
        "    def __init__(self, max_epochs):\n",
        "        self.max_epochs = max_epochs\n",
        "        self.use_cuda = torch.cuda.is_available()\n",
        "        self.device = torch.device('cuda' if self.use_cuda else 'cpu')\n",
        "\n",
        "    def initData(self, data):\n",
        "        data = SiameseDataLoader(data)\n",
        "        self.train_dataloader = data.get_trainLoader()\n",
        "        self.val_dataloader = data.get_valLoader()\n",
        "        self.num_train_batches = len(self.train_dataloader)\n",
        "        self.num_val_batches = (len(self.val_dataloader)\n",
        "                               if self.val_dataloader is not None\n",
        "                               else 0)\n",
        "\n",
        "    def prepare_batch(self, batch):\n",
        "        batch, tag = batch\n",
        "        batch = [a.to(self.device) for a in batch]\n",
        "        tag = tag.to(self.device)\n",
        "        return batch, tag\n",
        "\n",
        "    def initModel(self, model):\n",
        "        if self.use_cuda:\n",
        "            if torch.cuda.device_count() > 1:\n",
        "                model = nn.DataParallel(model)\n",
        "            model = model.to(self.device)\n",
        "        self.model = model\n",
        "        self.model.initialize_weights()\n",
        "\n",
        "    def configure_optimizers(self):\n",
        "        self.optim = torch.optim.SGD(params=self.model.parameters(),\n",
        "                                     lr=0.1,\n",
        "                                     momentum = 0.9)\n",
        "        # Apply gradient clipping\n",
        "        self.max_norm = 1.0  # Set the maximum norm value\n",
        "        self.lr_scheduler = torch.optim.lr_scheduler.ExponentialLR(self.optim,\n",
        "                                                                  gamma=0.95)\n",
        "#         self.momentum_lambda = lambda epoch: 0.5 + epoch * 0.1 if epoch < 5 else 0.95 # Adjust the increment as needed\n",
        "#         self.momentum_scheduler = torch.optim.lr_scheduler.LambdaLR(self.optim, lr_lambda=self.momentum_lambda)\n",
        "\n",
        "    def initLoss(self):\n",
        "        self.loss_fn = ContrastiveLoss()\n",
        "\n",
        "    def fit(self, model, data):\n",
        "        self.initModel(model)\n",
        "        self.initData(data)\n",
        "        self.initLoss()\n",
        "        self.configure_optimizers()\n",
        "        self.epoch = 0\n",
        "        self.train_batch_idx = 0\n",
        "        self.val_batch_idx = 0\n",
        "        for self.epoch in tqdm(range(self.max_epochs)):\n",
        "            epoch = self.epoch\n",
        "            self.fit_epoch()\n",
        "            self.lr_scheduler.step()\n",
        "#             self.momentum_scheduler.step()\n",
        "\n",
        "    def fit_epoch(self):\n",
        "        self.model.train()\n",
        "        for batch in tqdm(self.train_dataloader):\n",
        "            batch, tag = self.prepare_batch(batch)\n",
        "            x1, x2 = self.model(batch)\n",
        "            loss = self.loss_fn(x1, x2, tag)\n",
        "            if self.train_batch_idx % 500 == 0:\n",
        "              print(f'loss at train batch {self.train_batch_idx}: {loss}')\n",
        "            self.optim.zero_grad()\n",
        "            with torch.no_grad():\n",
        "                loss.backward()\n",
        "                nn.utils.clip_grad_norm_(self.model.parameters(), self.max_norm)\n",
        "                self.optim.step()\n",
        "            self.train_batch_idx += 1\n",
        "        print(f'loss = {loss}')\n",
        "#        print(f'accuracy = {accuracy}')\n",
        "        if self.val_dataloader is None:\n",
        "            return\n",
        "        self.model.eval()\n",
        "        for batch in self.val_dataloader:\n",
        "            batch = self.prepare_batch(batch)\n",
        "            batch_features, batch_label = batch\n",
        "            with torch.no_grad():\n",
        "                Y_hat = self.model(batch_features)\n",
        "                loss = self.loss_fn(batch_label, Y_hat)\n",
        "                accuracy = self.accuracy(batch_label, Y_hat)\n",
        "                self.val_batch_idx += 1\n",
        " #        print(f'validation loss = {loss}')\n",
        " #       print(f'validation accuracy = {accuracy}')"
      ],
      "metadata": {
        "id": "DxXcqTMBdgHb"
      },
      "execution_count": 46,
      "outputs": []
    },
    {
      "cell_type": "code",
      "source": [],
      "metadata": {
        "id": "HJlDNujJ8GlU"
      },
      "execution_count": null,
      "outputs": []
    },
    {
      "cell_type": "markdown",
      "source": [
        "# Initiating Training Process"
      ],
      "metadata": {
        "id": "k_XzBmiWUl6A"
      }
    },
    {
      "cell_type": "code",
      "source": [
        "data = SiameseDoubleDataset(features=features, cat_num=cat_num, data_len=length, sample_expansion=int(length // 100), transform=trans_img)"
      ],
      "metadata": {
        "id": "vSWTNbYnfuZY"
      },
      "execution_count": 47,
      "outputs": []
    },
    {
      "cell_type": "code",
      "source": [
        "model = SiameseNetworkDouble()\n",
        "trainer = Trainer(max_epochs=5)"
      ],
      "metadata": {
        "id": "YrVdn8AMf5cI"
      },
      "execution_count": 48,
      "outputs": []
    },
    {
      "cell_type": "code",
      "source": [
        "trainer.fit(model, data)"
      ],
      "metadata": {
        "id": "zKXHBN8ngL-i",
        "colab": {
          "base_uri": "https://localhost:8080/",
          "height": 497,
          "referenced_widgets": [
            "992b62f3b95c4818a55f01ba232bc3c6",
            "9244f296ab7d4cfb888a8e66425ae87f",
            "1f58230303884579b44e1e9e930605d3",
            "3df042708c36436d9c1450566a5dc8f9",
            "312e76436051479e80fb8ace1e769afa",
            "33c5f33d9bd34bacae79672c0ec8e0b4",
            "9e3441c6d8de452691450c3130a96908",
            "ec2861f00bba4e9c870f1b2109ae91ca",
            "965be06a87c9406a89c6c7dae9b440b6",
            "73701cdc68174da69c28f7f6e829c7ec",
            "21a95f64a4ae4a5996c0e288956155b1",
            "d8f0ff11a8294ee6bee40c3cac034a85",
            "5913dd77d786449dbcba03508ba293ba",
            "13bb86e2370948509671fdb20d1f4a37",
            "696d61131f0940a09aa7a5614decd55c",
            "feb199401efe454a9622b5d8c1eab29e",
            "2725866f547145179ec1eda29560193d",
            "3b2a899f01714aad97cd15702b223982",
            "52d00952fd704a03ab0d59900cb02822",
            "789e9647c4ca434e8bb35ba8e3238df6",
            "0d509f88c2c14a109664f810cbb48356",
            "1235b04fc1a349aa83aac378f655aafa"
          ]
        },
        "outputId": "b4ebe569-202c-4cc1-e0b3-d2129ee35336"
      },
      "execution_count": 49,
      "outputs": [
        {
          "output_type": "display_data",
          "data": {
            "text/plain": [
              "  0%|          | 0/5 [00:00<?, ?it/s]"
            ],
            "application/vnd.jupyter.widget-view+json": {
              "version_major": 2,
              "version_minor": 0,
              "model_id": "992b62f3b95c4818a55f01ba232bc3c6"
            }
          },
          "metadata": {}
        },
        {
          "output_type": "display_data",
          "data": {
            "text/plain": [
              "  0%|          | 0/5060 [00:00<?, ?it/s]"
            ],
            "application/vnd.jupyter.widget-view+json": {
              "version_major": 2,
              "version_minor": 0,
              "model_id": "d8f0ff11a8294ee6bee40c3cac034a85"
            }
          },
          "metadata": {}
        },
        {
          "output_type": "stream",
          "name": "stdout",
          "text": [
            "loss at train batch 0: 31.614748001098633\n",
            "loss at train batch 500: 0.4392239451408386\n",
            "loss at train batch 1000: 0.5812907814979553\n",
            "loss at train batch 1500: 0.927933931350708\n",
            "loss at train batch 2000: 0.633468747138977\n",
            "loss at train batch 2500: 0.48508283495903015\n",
            "loss at train batch 3000: 0.7979942560195923\n"
          ]
        },
        {
          "output_type": "error",
          "ename": "KeyboardInterrupt",
          "evalue": "ignored",
          "traceback": [
            "\u001b[0;31m---------------------------------------------------------------------------\u001b[0m",
            "\u001b[0;31mKeyboardInterrupt\u001b[0m                         Traceback (most recent call last)",
            "\u001b[0;32m<ipython-input-49-099f36836577>\u001b[0m in \u001b[0;36m<cell line: 1>\u001b[0;34m()\u001b[0m\n\u001b[0;32m----> 1\u001b[0;31m \u001b[0mtrainer\u001b[0m\u001b[0;34m.\u001b[0m\u001b[0mfit\u001b[0m\u001b[0;34m(\u001b[0m\u001b[0mmodel\u001b[0m\u001b[0;34m,\u001b[0m \u001b[0mdata\u001b[0m\u001b[0;34m)\u001b[0m\u001b[0;34m\u001b[0m\u001b[0;34m\u001b[0m\u001b[0m\n\u001b[0m",
            "\u001b[0;32m<ipython-input-46-c86c17ca5eab>\u001b[0m in \u001b[0;36mfit\u001b[0;34m(self, model, data)\u001b[0m\n\u001b[1;32m     52\u001b[0m         \u001b[0;32mfor\u001b[0m \u001b[0mself\u001b[0m\u001b[0;34m.\u001b[0m\u001b[0mepoch\u001b[0m \u001b[0;32min\u001b[0m \u001b[0mtqdm\u001b[0m\u001b[0;34m(\u001b[0m\u001b[0mrange\u001b[0m\u001b[0;34m(\u001b[0m\u001b[0mself\u001b[0m\u001b[0;34m.\u001b[0m\u001b[0mmax_epochs\u001b[0m\u001b[0;34m)\u001b[0m\u001b[0;34m)\u001b[0m\u001b[0;34m:\u001b[0m\u001b[0;34m\u001b[0m\u001b[0;34m\u001b[0m\u001b[0m\n\u001b[1;32m     53\u001b[0m             \u001b[0mepoch\u001b[0m \u001b[0;34m=\u001b[0m \u001b[0mself\u001b[0m\u001b[0;34m.\u001b[0m\u001b[0mepoch\u001b[0m\u001b[0;34m\u001b[0m\u001b[0;34m\u001b[0m\u001b[0m\n\u001b[0;32m---> 54\u001b[0;31m             \u001b[0mself\u001b[0m\u001b[0;34m.\u001b[0m\u001b[0mfit_epoch\u001b[0m\u001b[0;34m(\u001b[0m\u001b[0;34m)\u001b[0m\u001b[0;34m\u001b[0m\u001b[0;34m\u001b[0m\u001b[0m\n\u001b[0m\u001b[1;32m     55\u001b[0m             \u001b[0mself\u001b[0m\u001b[0;34m.\u001b[0m\u001b[0mlr_scheduler\u001b[0m\u001b[0;34m.\u001b[0m\u001b[0mstep\u001b[0m\u001b[0;34m(\u001b[0m\u001b[0;34m)\u001b[0m\u001b[0;34m\u001b[0m\u001b[0;34m\u001b[0m\u001b[0m\n\u001b[1;32m     56\u001b[0m \u001b[0;31m#             self.momentum_scheduler.step()\u001b[0m\u001b[0;34m\u001b[0m\u001b[0;34m\u001b[0m\u001b[0m\n",
            "\u001b[0;32m<ipython-input-46-c86c17ca5eab>\u001b[0m in \u001b[0;36mfit_epoch\u001b[0;34m(self)\u001b[0m\n\u001b[1;32m     66\u001b[0m             \u001b[0mself\u001b[0m\u001b[0;34m.\u001b[0m\u001b[0moptim\u001b[0m\u001b[0;34m.\u001b[0m\u001b[0mzero_grad\u001b[0m\u001b[0;34m(\u001b[0m\u001b[0;34m)\u001b[0m\u001b[0;34m\u001b[0m\u001b[0;34m\u001b[0m\u001b[0m\n\u001b[1;32m     67\u001b[0m             \u001b[0;32mwith\u001b[0m \u001b[0mtorch\u001b[0m\u001b[0;34m.\u001b[0m\u001b[0mno_grad\u001b[0m\u001b[0;34m(\u001b[0m\u001b[0;34m)\u001b[0m\u001b[0;34m:\u001b[0m\u001b[0;34m\u001b[0m\u001b[0;34m\u001b[0m\u001b[0m\n\u001b[0;32m---> 68\u001b[0;31m                 \u001b[0mloss\u001b[0m\u001b[0;34m.\u001b[0m\u001b[0mbackward\u001b[0m\u001b[0;34m(\u001b[0m\u001b[0;34m)\u001b[0m\u001b[0;34m\u001b[0m\u001b[0;34m\u001b[0m\u001b[0m\n\u001b[0m\u001b[1;32m     69\u001b[0m                 \u001b[0mnn\u001b[0m\u001b[0;34m.\u001b[0m\u001b[0mutils\u001b[0m\u001b[0;34m.\u001b[0m\u001b[0mclip_grad_norm_\u001b[0m\u001b[0;34m(\u001b[0m\u001b[0mself\u001b[0m\u001b[0;34m.\u001b[0m\u001b[0mmodel\u001b[0m\u001b[0;34m.\u001b[0m\u001b[0mparameters\u001b[0m\u001b[0;34m(\u001b[0m\u001b[0;34m)\u001b[0m\u001b[0;34m,\u001b[0m \u001b[0mself\u001b[0m\u001b[0;34m.\u001b[0m\u001b[0mmax_norm\u001b[0m\u001b[0;34m)\u001b[0m\u001b[0;34m\u001b[0m\u001b[0;34m\u001b[0m\u001b[0m\n\u001b[1;32m     70\u001b[0m                 \u001b[0mself\u001b[0m\u001b[0;34m.\u001b[0m\u001b[0moptim\u001b[0m\u001b[0;34m.\u001b[0m\u001b[0mstep\u001b[0m\u001b[0;34m(\u001b[0m\u001b[0;34m)\u001b[0m\u001b[0;34m\u001b[0m\u001b[0;34m\u001b[0m\u001b[0m\n",
            "\u001b[0;32m/usr/local/lib/python3.10/dist-packages/torch/_tensor.py\u001b[0m in \u001b[0;36mbackward\u001b[0;34m(self, gradient, retain_graph, create_graph, inputs)\u001b[0m\n\u001b[1;32m    485\u001b[0m                 \u001b[0minputs\u001b[0m\u001b[0;34m=\u001b[0m\u001b[0minputs\u001b[0m\u001b[0;34m,\u001b[0m\u001b[0;34m\u001b[0m\u001b[0;34m\u001b[0m\u001b[0m\n\u001b[1;32m    486\u001b[0m             )\n\u001b[0;32m--> 487\u001b[0;31m         torch.autograd.backward(\n\u001b[0m\u001b[1;32m    488\u001b[0m             \u001b[0mself\u001b[0m\u001b[0;34m,\u001b[0m \u001b[0mgradient\u001b[0m\u001b[0;34m,\u001b[0m \u001b[0mretain_graph\u001b[0m\u001b[0;34m,\u001b[0m \u001b[0mcreate_graph\u001b[0m\u001b[0;34m,\u001b[0m \u001b[0minputs\u001b[0m\u001b[0;34m=\u001b[0m\u001b[0minputs\u001b[0m\u001b[0;34m\u001b[0m\u001b[0;34m\u001b[0m\u001b[0m\n\u001b[1;32m    489\u001b[0m         )\n",
            "\u001b[0;32m/usr/local/lib/python3.10/dist-packages/torch/autograd/__init__.py\u001b[0m in \u001b[0;36mbackward\u001b[0;34m(tensors, grad_tensors, retain_graph, create_graph, grad_variables, inputs)\u001b[0m\n\u001b[1;32m    198\u001b[0m     \u001b[0;31m# some Python versions print out the first line of a multi-line function\u001b[0m\u001b[0;34m\u001b[0m\u001b[0;34m\u001b[0m\u001b[0m\n\u001b[1;32m    199\u001b[0m     \u001b[0;31m# calls in the traceback and some print out the last line\u001b[0m\u001b[0;34m\u001b[0m\u001b[0;34m\u001b[0m\u001b[0m\n\u001b[0;32m--> 200\u001b[0;31m     Variable._execution_engine.run_backward(  # Calls into the C++ engine to run the backward pass\n\u001b[0m\u001b[1;32m    201\u001b[0m         \u001b[0mtensors\u001b[0m\u001b[0;34m,\u001b[0m \u001b[0mgrad_tensors_\u001b[0m\u001b[0;34m,\u001b[0m \u001b[0mretain_graph\u001b[0m\u001b[0;34m,\u001b[0m \u001b[0mcreate_graph\u001b[0m\u001b[0;34m,\u001b[0m \u001b[0minputs\u001b[0m\u001b[0;34m,\u001b[0m\u001b[0;34m\u001b[0m\u001b[0;34m\u001b[0m\u001b[0m\n\u001b[1;32m    202\u001b[0m         allow_unreachable=True, accumulate_grad=True)  # Calls into the C++ engine to run the backward pass\n",
            "\u001b[0;31mKeyboardInterrupt\u001b[0m: "
          ]
        }
      ]
    },
    {
      "cell_type": "code",
      "source": [
        "with open('/content/drive/MyDrive/Colab Notebooks/Medical Image/model/right_extent_siamese_triplet.h5', 'wb') as f:\n",
        "  dump(model, f)"
      ],
      "metadata": {
        "id": "waaQLHZUwraJ"
      },
      "execution_count": 55,
      "outputs": []
    },
    {
      "cell_type": "code",
      "source": [],
      "metadata": {
        "id": "O4AbcCYJIm4x"
      },
      "execution_count": null,
      "outputs": []
    },
    {
      "cell_type": "markdown",
      "source": [
        "# Build Saliency Map"
      ],
      "metadata": {
        "id": "o5vbD0LuIpr_"
      }
    },
    {
      "cell_type": "code",
      "source": [
        "input_img = features[0][38]\n",
        "plt.imshow(input_img, 'gray')"
      ],
      "metadata": {
        "colab": {
          "base_uri": "https://localhost:8080/",
          "height": 452
        },
        "id": "QYOYuZbtIwWE",
        "outputId": "a5d1c9a1-b759-4825-dd19-011b5693ba82"
      },
      "execution_count": 52,
      "outputs": [
        {
          "output_type": "execute_result",
          "data": {
            "text/plain": [
              "<matplotlib.image.AxesImage at 0x7e52cef13430>"
            ]
          },
          "metadata": {},
          "execution_count": 52
        },
        {
          "output_type": "display_data",
          "data": {
            "text/plain": [
              "<Figure size 640x480 with 1 Axes>"
            ],
            "image/png": "[encoded data removed]"
          },
          "metadata": {}
        }
      ]
    },
    {
      "cell_type": "code",
      "source": [
        "trans_img = transforms.Compose([transforms.ToTensor(),\n",
        "                                transforms.Normalize((0.5, ), (0.5, )),])\n",
        "\n",
        "input_img_tensor = trans_img(features[0][38]).unsqueeze(0)\n",
        "input_img_tensor.shape"
      ],
      "metadata": {
        "colab": {
          "base_uri": "https://localhost:8080/"
        },
        "id": "Z7HqBvKrVndn",
        "outputId": "04ea0d7a-3c11-4d25-a497-fe30bd1d4895"
      },
      "execution_count": 73,
      "outputs": [
        {
          "output_type": "execute_result",
          "data": {
            "text/plain": [
              "torch.Size([1, 1, 256, 256])"
            ]
          },
          "metadata": {},
          "execution_count": 73
        }
      ]
    },
    {
      "cell_type": "code",
      "source": [
        "occlusion_size = 50\n",
        "occlusion_stride = 10"
      ],
      "metadata": {
        "id": "zfJ7OBFTVv-1"
      },
      "execution_count": 74,
      "outputs": []
    },
    {
      "cell_type": "code",
      "source": [
        "from torch.autograd import Variable\n",
        "\n",
        "def generate_saliency_map(model, input_tensor, target_class=None):\n",
        "    device = torch.device('cuda' if torch.cuda.is_available() else 'cpu')\n",
        "    model = model.to(device)\n",
        "    input_tensor = input_tensor.to(device)\n",
        "    # Set the model to evaluation mode\n",
        "    model.eval()\n",
        "\n",
        "    # Convert the input tensor to a variable with gradient tracking\n",
        "    input_var = Variable(input_tensor, requires_grad=True)\n",
        "\n",
        "    # Forward pass to get the output of the model\n",
        "    output, _ = model((input_var, input_var))\n",
        "\n",
        "    if target_class is None:\n",
        "        # If target_class is not specified, use the class with the highest probability\n",
        "        target_class = torch.argmax(output, dim=1)\n",
        "\n",
        "    # Calculate the scalar loss as the mean of the output tensor for the target class\n",
        "    loss = torch.mean(output[:, target_class])\n",
        "\n",
        "    # Calculate gradients of the loss with respect to the input\n",
        "    loss.backward()\n",
        "\n",
        "    # Get the gradients from the input tensor\n",
        "    saliency_map = input_var.grad.data\n",
        "\n",
        "    # Take the absolute value of the gradients to get the magnitude\n",
        "    saliency_map = torch.abs(saliency_map)\n",
        "\n",
        "    # Convert the saliency map to a grayscale image\n",
        "    saliency_map = torch.mean(saliency_map, dim=1, keepdim=True)\n",
        "\n",
        "    # Normalize the saliency map to the range [0, 1]\n",
        "    saliency_map = (saliency_map - saliency_map.min()) / (saliency_map.max() - saliency_map.min())\n",
        "\n",
        "    # Squeeze the batch dimension if present\n",
        "    if len(saliency_map.size()) == 4:\n",
        "        saliency_map = saliency_map.squeeze(0)\n",
        "\n",
        "    return saliency_map"
      ],
      "metadata": {
        "id": "XPXrNYSgVXxP"
      },
      "execution_count": 79,
      "outputs": []
    },
    {
      "cell_type": "code",
      "source": [
        "def visualize_saliency_map(saliency_map):\n",
        "    # Convert the saliency map tensor to a NumPy array\n",
        "    saliency_np = saliency_map.squeeze().detach().cpu().numpy()\n",
        "\n",
        "    # Normalize the saliency map to a scale of 0 to 1\n",
        "    saliency_np = (saliency_np - saliency_np.min()) / (saliency_np.max() - saliency_np.min())\n",
        "\n",
        "    # Plot the saliency map as a heatmap\n",
        "    plt.imshow(saliency_np, cmap='jet')\n",
        "    plt.colorbar()\n",
        "    plt.axis('off')\n",
        "    plt.show()"
      ],
      "metadata": {
        "id": "DZm17d0aWURa"
      },
      "execution_count": 67,
      "outputs": []
    },
    {
      "cell_type": "code",
      "source": [
        "saliency_map = generate_saliency_map(model, input_img_tensor)\n",
        "\n",
        "# Visualize the saliency map using matplotlib or any other library\n",
        "visualize_saliency_map(saliency_map)"
      ],
      "metadata": {
        "colab": {
          "base_uri": "https://localhost:8080/",
          "height": 420
        },
        "id": "26YDJAYcVw-b",
        "outputId": "565a9973-6460-4b82-b6c8-9a071bb4e557"
      },
      "execution_count": 80,
      "outputs": [
        {
          "output_type": "display_data",
          "data": {
            "text/plain": [
              "<Figure size 640x480 with 2 Axes>"
            ],
            "image/png": "[encoded data removed]"
          },
          "metadata": {}
        }
      ]
    },
    {
      "cell_type": "markdown",
      "source": [
        "# Testing Model"
      ],
      "metadata": {
        "id": "1aiiEDncUp68"
      }
    },
    {
      "cell_type": "code",
      "source": [
        "device = torch.device('cuda' if torch.cuda.is_available() else 'cpu')\n",
        "anchor = trans_img(df.iloc[4]['masked']).to(device)\n",
        "same = trans_img(df.iloc[3]['masked']).to(device)\n",
        "diff1 = trans_img(df.iloc[2]['masked']).to(device)\n",
        "diff2 = trans_img(df.iloc[1]['masked']).to(device)\n",
        "diff3 = trans_img(df.iloc[0]['masked']).to(device)"
      ],
      "metadata": {
        "id": "LcB_6SuhrCmX"
      },
      "execution_count": null,
      "outputs": []
    },
    {
      "cell_type": "code",
      "source": [
        "anchor.unsqueeze(0).shape"
      ],
      "metadata": {
        "colab": {
          "base_uri": "https://localhost:8080/"
        },
        "id": "ToczIHTJr9fV",
        "outputId": "118e9183-7ab7-46a5-8f8c-f4b0613441f7"
      },
      "execution_count": null,
      "outputs": [
        {
          "output_type": "execute_result",
          "data": {
            "text/plain": [
              "torch.Size([1, 1, 256, 256])"
            ]
          },
          "metadata": {},
          "execution_count": 59
        }
      ]
    },
    {
      "cell_type": "code",
      "source": [
        "def getPred(x1, x2, model):\n",
        "  x1 = x1.unsqueeze(0)\n",
        "  x2 = x2.unsqueeze(0)\n",
        "  dist1, dist2 = model((x1, x2))\n",
        "  return float(F.pairwise_distance(dist1, dist2)[0].detach().cpu().numpy())"
      ],
      "metadata": {
        "id": "PXG-06a7scd9"
      },
      "execution_count": null,
      "outputs": []
    },
    {
      "cell_type": "code",
      "source": [
        "getPred(anchor, same, model)"
      ],
      "metadata": {
        "colab": {
          "base_uri": "https://localhost:8080/"
        },
        "id": "GbwTXUVQsawF",
        "outputId": "f4ac58bd-943b-47dc-da7a-99122fc8331d"
      },
      "execution_count": null,
      "outputs": [
        {
          "output_type": "execute_result",
          "data": {
            "text/plain": [
              "1.251429557800293"
            ]
          },
          "metadata": {},
          "execution_count": 61
        }
      ]
    },
    {
      "cell_type": "code",
      "source": [
        "getPred(anchor, diff1, model)"
      ],
      "metadata": {
        "colab": {
          "base_uri": "https://localhost:8080/"
        },
        "id": "I_FcLKFDr3PL",
        "outputId": "395d9c07-1b59-4186-f534-c80dc82194c8"
      },
      "execution_count": null,
      "outputs": [
        {
          "output_type": "execute_result",
          "data": {
            "text/plain": [
              "1.1246811151504517"
            ]
          },
          "metadata": {},
          "execution_count": 64
        }
      ]
    },
    {
      "cell_type": "code",
      "source": [
        "getPred(anchor, diff2, model)"
      ],
      "metadata": {
        "colab": {
          "base_uri": "https://localhost:8080/"
        },
        "id": "ySGKrRrztBLv",
        "outputId": "c9c0b94c-b370-4d50-df05-d4ee7db4da47"
      },
      "execution_count": null,
      "outputs": [
        {
          "output_type": "execute_result",
          "data": {
            "text/plain": [
              "1.1938354969024658"
            ]
          },
          "metadata": {},
          "execution_count": 65
        }
      ]
    },
    {
      "cell_type": "code",
      "source": [
        "getPred(anchor, diff3, model)"
      ],
      "metadata": {
        "colab": {
          "base_uri": "https://localhost:8080/"
        },
        "id": "i2GlH6fntIN-",
        "outputId": "cbfc25c5-b8e1-48bb-d9e7-3f6dcbb23a13"
      },
      "execution_count": null,
      "outputs": [
        {
          "output_type": "execute_result",
          "data": {
            "text/plain": [
              "1.4903411865234375"
            ]
          },
          "metadata": {},
          "execution_count": 66
        }
      ]
    },
    {
      "cell_type": "code",
      "source": [
        "getPred(same, diff3, model)"
      ],
      "metadata": {
        "colab": {
          "base_uri": "https://localhost:8080/"
        },
        "id": "Ni3DwGk-tLGM",
        "outputId": "b696f43d-a080-4cf1-d029-3880f9b25660"
      },
      "execution_count": null,
      "outputs": [
        {
          "output_type": "execute_result",
          "data": {
            "text/plain": [
              "1.8244678974151611"
            ]
          },
          "metadata": {},
          "execution_count": 67
        }
      ]
    },
    {
      "cell_type": "code",
      "source": [
        "def printResult(model, anchor=0, comp=1):\n",
        "  rows = 1\n",
        "  cols = 2\n",
        "  fig = plt.figure(figsize=(cols * 2, rows * 2))\n",
        "  trans_img = transforms.Compose([transforms.ToTensor(),\n",
        "                                transforms.Normalize((0.5, ), (0.5, )),])\n",
        "  device = torch.device('cuda' if torch.cuda.is_available() else 'cpu')\n",
        "  anchor_img = trans_img(df_100.iloc[anchor]['right']).to(device)\n",
        "  comp_img = trans_img(df_100.iloc[comp]['right']).to(device)\n",
        "  print('disimilarity = ', getPred(anchor_img, comp_img, model))\n",
        "  ax = fig.add_subplot(rows, cols, 1)\n",
        "  ax.imshow(df_100.iloc[anchor]['right'], 'gray')\n",
        "  ax.title.set_text(f'extent_right: {df_100.iloc[anchor][\"extent_right_numerical\"]}')\n",
        "  ax = fig.add_subplot(rows, cols, 2)\n",
        "  ax.imshow(df_100.iloc[comp]['right'], 'gray')\n",
        "  ax.title.set_text(f'extent_right=: {df_100.iloc[comp][\"extent_right_numerical\"]}')"
      ],
      "metadata": {
        "id": "PDXLuFlUtM7q"
      },
      "execution_count": null,
      "outputs": []
    },
    {
      "cell_type": "code",
      "source": [
        "printResult(model)"
      ],
      "metadata": {
        "colab": {
          "base_uri": "https://localhost:8080/",
          "height": 254
        },
        "id": "u0RyTHSHwNb5",
        "outputId": "f472df65-fd09-40c3-881d-15b59b784a56"
      },
      "execution_count": null,
      "outputs": [
        {
          "output_type": "stream",
          "name": "stdout",
          "text": [
            "disimilarity =  9.448935508728027\n"
          ]
        },
        {
          "output_type": "display_data",
          "data": {
            "text/plain": [
              "<Figure size 400x200 with 2 Axes>"
            ],
            "image/png": "[encoded data removed]"
          },
          "metadata": {}
        }
      ]
    },
    {
      "cell_type": "code",
      "source": [
        "printResult(model, 50, 71)"
      ],
      "metadata": {
        "colab": {
          "base_uri": "https://localhost:8080/",
          "height": 254
        },
        "id": "1QQlZ7wGwVNv",
        "outputId": "c31649d6-840b-4fe4-d3bd-acb1bf68f5e0"
      },
      "execution_count": null,
      "outputs": [
        {
          "output_type": "stream",
          "name": "stdout",
          "text": [
            "disimilarity =  2.8807287216186523\n"
          ]
        },
        {
          "output_type": "display_data",
          "data": {
            "text/plain": [
              "<Figure size 400x200 with 2 Axes>"
            ],
            "image/png": "[encoded data removed]"
          },
          "metadata": {}
        }
      ]
    },
    {
      "cell_type": "code",
      "source": [],
      "metadata": {
        "id": "W7jr6m_6yQ-r"
      },
      "execution_count": null,
      "outputs": []
    }
  ]
}
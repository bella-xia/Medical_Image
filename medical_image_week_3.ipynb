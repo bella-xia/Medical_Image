{
  "nbformat": 4,
  "nbformat_minor": 0,
  "metadata": {
    "colab": {
      "provenance": [],
      "machine_shape": "hm",
      "gpuType": "V100",
      "mount_file_id": "16JaAefC9u1NexKARbBlM3Y_fg3tN-pJw",
      "authorship_tag": "ABX9TyN/4QiqAquBK/Ugm2PIDxDq",
      "include_colab_link": true
    },
    "kernelspec": {
      "name": "python3",
      "display_name": "Python 3"
    },
    "language_info": {
      "name": "python"
    },
    "accelerator": "GPU"
  },
  "cells": [
    {
      "cell_type": "markdown",
      "metadata": {
        "id": "view-in-github",
        "colab_type": "text"
      },
      "source": [
        "<a href=\"https://colab.research.google.com/github/bella-xia/Medical_Image/blob/main/medical_image_week_3.ipynb\" target=\"_parent\"><img src=\"https://colab.research.google.com/assets/colab-badge.svg\" alt=\"Open In Colab\"/></a>"
      ]
    },
    {
      "cell_type": "code",
      "execution_count": null,
      "metadata": {
        "id": "SsPrI0GMiZ8T"
      },
      "outputs": [],
      "source": []
    },
    {
      "cell_type": "markdown",
      "source": [
        "# Imports"
      ],
      "metadata": {
        "id": "Z4SznzfpzhrE"
      }
    },
    {
      "cell_type": "code",
      "source": [
        "from pickle import dump, load"
      ],
      "metadata": {
        "id": "u6UnNNrNANpF"
      },
      "execution_count": null,
      "outputs": []
    },
    {
      "cell_type": "code",
      "execution_count": null,
      "metadata": {
        "id": "7rEkkY61zZMv"
      },
      "outputs": [],
      "source": [
        "import numpy as np\n",
        "import pandas as pd\n",
        "from matplotlib import pyplot as plt\n",
        "from matplotlib_inline import backend_inline"
      ]
    },
    {
      "cell_type": "code",
      "source": [
        "import torch\n",
        "import torchvision\n",
        "from torch import nn\n",
        "from torch.nn import functional as F\n",
        "from torch.utils import data\n",
        "from torchvision import transforms"
      ],
      "metadata": {
        "id": "F5xtkxKkzrX7"
      },
      "execution_count": null,
      "outputs": []
    },
    {
      "cell_type": "code",
      "source": [
        "import collections\n",
        "import hashlib\n",
        "import inspect\n",
        "import math\n",
        "import os\n",
        "import random\n",
        "import re\n",
        "import shutil\n",
        "import sys\n",
        "import tarfile\n",
        "import time\n",
        "import zipfile\n",
        "from collections import defaultdict\n",
        "import requests\n",
        "from IPython import display"
      ],
      "metadata": {
        "id": "yNipoXu-2NBz"
      },
      "execution_count": null,
      "outputs": []
    },
    {
      "cell_type": "code",
      "source": [
        "from IPython.terminal.pt_inputhooks import get_inputhook_name_and_func\n",
        "from IPython.utils.process import getoutput"
      ],
      "metadata": {
        "id": "O50rftCT63B3"
      },
      "execution_count": null,
      "outputs": []
    },
    {
      "cell_type": "code",
      "source": [
        "import skimage\n",
        "from skimage.color import gray2rgb"
      ],
      "metadata": {
        "id": "9ujup7PaKNut"
      },
      "execution_count": null,
      "outputs": []
    },
    {
      "cell_type": "code",
      "source": [],
      "metadata": {
        "id": "-c6iEKHGimcX"
      },
      "execution_count": null,
      "outputs": []
    },
    {
      "cell_type": "markdown",
      "source": [
        "# Self-Defined Classes and Functions for DL"
      ],
      "metadata": {
        "id": "poicbAXiz1zi"
      }
    },
    {
      "cell_type": "code",
      "source": [
        "def use_svg_display():\n",
        "  backend_inline.set_matplotlib_formats('svg')"
      ],
      "metadata": {
        "id": "MUWTYTRjzztZ"
      },
      "execution_count": null,
      "outputs": []
    },
    {
      "cell_type": "code",
      "source": [
        "def init_cnn(module):\n",
        "  if type(module) == nn.Linear or type(module) == nn.Conv2d:\n",
        "    nn.init.xavier_uniform_(module.weight)"
      ],
      "metadata": {
        "id": "Jc7gZdu50KLB"
      },
      "execution_count": null,
      "outputs": []
    },
    {
      "cell_type": "code",
      "source": [
        "def set_figsize(figsize=(3.5, 2.5)):\n",
        "  use_svg_display()\n",
        "  plt.rcParams['figure.figsize'] = figsize\n"
      ],
      "metadata": {
        "id": "IJ_JbuIy0Dey"
      },
      "execution_count": null,
      "outputs": []
    },
    {
      "cell_type": "code",
      "source": [
        "def set_axes(axes, xlabel, ylabel, xlim, ylim, xscale, yscale, legend):\n",
        "  axes.set_xlabel(xlabel), axes.set_ylabel(ylabel)\n",
        "  axes.set_xscale(xscale), axes.set_yscale(yscale)\n",
        "  axes.set_xlim(xlim), axes.set_ylim(ylim)\n",
        "  if legend:\n",
        "    axes.legend(legend)\n",
        "  axes.grid()"
      ],
      "metadata": {
        "id": "UQhZGObW0WGD"
      },
      "execution_count": null,
      "outputs": []
    },
    {
      "cell_type": "code",
      "source": [
        "def gpu(i=0):\n",
        "    \"\"\"Get a GPU device.\n",
        "\n",
        "    Defined in :numref:`sec_use_gpu`\"\"\"\n",
        "    return torch.device(f'cuda:{i}')\n",
        "\n",
        "def num_gpus():\n",
        "    \"\"\"Get the number of available GPUs.\n",
        "\n",
        "    Defined in :numref:`sec_use_gpu`\"\"\"\n",
        "    return torch.cuda.device_count()\n",
        "\n",
        "def try_gpu(i=0):\n",
        "    \"\"\"Return gpu(i) if exists, otherwise return cpu().\n",
        "\n",
        "    Defined in :numref:`sec_use_gpu`\"\"\"\n",
        "    if num_gpus() >= i + 1:\n",
        "        return gpu(i)\n",
        "    return cpu()\n",
        "\n",
        "def try_all_gpus():\n",
        "    \"\"\"Return all available GPUs, or [cpu(),] if no GPU exists.\n",
        "\n",
        "    Defined in :numref:`sec_use_gpu`\"\"\"\n",
        "    return [gpu(i) for i in range(num_gpus())]"
      ],
      "metadata": {
        "id": "mZrw37q70vs_"
      },
      "execution_count": null,
      "outputs": []
    },
    {
      "cell_type": "code",
      "source": [
        "def plot(X, Y=None, xlabel=None, ylabel=None, legend=[], xlim=None,\n",
        "         ylim=None, xscale='linear', yscale='linear',\n",
        "         fmts=('-', 'm--', 'g-.', 'r:'), figsize=(3.5, 2.5), axes=None):\n",
        "  def has_one_axis(X):\n",
        "    return (hasattr(X, 'ndim') and X.ndim == 1 or isinstance(X, list) and\n",
        "            not hasattr(X[0], '__len__'))\n",
        "  if has_one_axis(X): X = [X]\n",
        "  if Y is None:\n",
        "    X, Y = [[]] * len(X), X\n",
        "  elif has_one_axis(Y):\n",
        "    Y = [Y]\n",
        "  if len(X) != len(Y):\n",
        "    X = X * len(Y)\n",
        "\n",
        "  set_figsize(figsize)\n",
        "  if axes is None:\n",
        "    axes = plt.gca()\n",
        "  axes.cla()\n",
        "  for x, y, fmt in zip(X, Y, fmts):\n",
        "    axes.plot(x, y, fmt) if len(x) else axes.plot(y, fmt)\n",
        "  set_axes(axes, xlabel, ylabel, xlim, ylim, xscale, yscale, legend)"
      ],
      "metadata": {
        "id": "tWaXngAk0h0B"
      },
      "execution_count": null,
      "outputs": []
    },
    {
      "cell_type": "code",
      "source": [
        "class Animator:\n",
        "\n",
        "  def __init__(self, xlabel=None, ylabel=None, legend=None, xlim=None,\n",
        "               ylim=None, xscale='linear', yscale='linear',\n",
        "               fmts = ('-', 'm--', 'g-.', 'r:'),\n",
        "               nrows=1, ncols=1, figsize=(3.5, 2.5)):\n",
        "               if legend is None:\n",
        "                legend = []\n",
        "               use_svg_display()\n",
        "               self.fig, self.axes = plt.subplots(nrows,\n",
        "                                                 ncols, figsize=figsize)\n",
        "               if nrows * ncols == 1:\n",
        "                self.axes = [self.axes, ]\n",
        "               self.config_axes = lambda: set_axes(self.axes[0], xlabel,\n",
        "                                                  ylabel, xlim, ylim,\n",
        "                                                  yscale, legend)\n",
        "               self.X, self.Y, self.fmts = None, None, fmts\n",
        "  def add(self, x, y):\n",
        "    if not hasattr(y, '__len__'):\n",
        "      y = [y]\n",
        "    n = len(y)\n",
        "    if not hasattr(x, '__len__'):\n",
        "      x = [x] * n\n",
        "    if not self.X:\n",
        "      self.X = [[] for _ in range(n)]\n",
        "    if not self.Y:\n",
        "      self.Y = [[] for _ in range(n)]\n",
        "    for i, (a, b) in enumerate(zip(x, y)):\n",
        "      if a is not None and b is not None:\n",
        "        self.X[i].append(a)\n",
        "        self.Y[i].append(b)\n",
        "    self.axes[0].cla()\n",
        "    for x, y, fmt in zip(self.X, self.Y, self.fmts):\n",
        "      self.axes[0].plot(x, y, fmt)\n",
        "    self.config_axes()\n",
        "    display.display(self.fig)\n",
        "    display.clear_output(wait=True)\n",
        "\n"
      ],
      "metadata": {
        "id": "Q5h6IHtyCGJa"
      },
      "execution_count": null,
      "outputs": []
    },
    {
      "cell_type": "code",
      "source": [
        "def add_to_class(Class):\n",
        "  def wrapper(obj):\n",
        "    setattr(Class, obj.__name__, obj)\n",
        "  return wrapper"
      ],
      "metadata": {
        "id": "qXqAypNN1tj7"
      },
      "execution_count": null,
      "outputs": []
    },
    {
      "cell_type": "code",
      "source": [
        "numpy = lambda x, *args, **kwargs: x.detach().numpy(*args, **kwargs)\n",
        "to = lambda x, *args, **kwargs: x.to(*args, **kwargs)"
      ],
      "metadata": {
        "id": "N_aOGgte69FB"
      },
      "execution_count": null,
      "outputs": []
    },
    {
      "cell_type": "code",
      "source": [
        "def cpu():\n",
        "    \"\"\"Get the CPU device.\n",
        "\n",
        "    Defined in :numref:`sec_use_gpu`\"\"\"\n",
        "    return torch.device('cpu')"
      ],
      "metadata": {
        "id": "irFB_7n97IIY"
      },
      "execution_count": null,
      "outputs": []
    },
    {
      "cell_type": "code",
      "source": [
        "class HyperParameters:\n",
        "  def save_hyperparameters(self, ignore=[]):\n",
        "    frame = inspect.currentframe().f_back\n",
        "    _, _, _, local_vars = inspect.getargvalues(frame)\n",
        "    self.hparams = {k:v for k, v in local_vars.items() if k not in set(ignore+['self']) and not k.startswith('_')}\n",
        "    for k, v in self.hparams.items():\n",
        "      setattr(self, k, v)"
      ],
      "metadata": {
        "id": "4mw-98Qv11h6"
      },
      "execution_count": null,
      "outputs": []
    },
    {
      "cell_type": "code",
      "source": [
        "class ProgressBoard(HyperParameters):\n",
        "  def __init__(self, xlabel=None, ylabel=None, xlim=None,\n",
        "               ylim=None, xscale='linear', yscale='linear',\n",
        "               ls=['-', '--', '-.', ':'],\n",
        "               colors=['C0', 'C1', 'C2', 'C3'],\n",
        "               fig=None, axes=None, figsize=(3.5, 2.5), display=True):\n",
        "    self.save_hyperparameters()\n",
        "\n",
        "  def draw(self, x, y, label, every_n=1):\n",
        "    Point = collections.namedtuple('Point', ['x', 'y'])\n",
        "    if not hasattr(self, 'raw_points'):\n",
        "      self.raw_points = collections.OrderedDict()\n",
        "      self.data = collections.OrderedDict()\n",
        "    if label not in self.raw_points:\n",
        "      self.raw_points[label] = []\n",
        "      self.data[label] = []\n",
        "    points = self.raw_points[label]\n",
        "    line = self.data[label]\n",
        "    points.append(Point(x, y))\n",
        "    if len(points) != every_n:\n",
        "      return\n",
        "    mean = lambda x : sum(x) / len(x)\n",
        "    line.append(Point(mean([p.x for p in points]),\n",
        "                      mean([p.y for p in points])))\n",
        "    points.clear()\n",
        "    if not self.display:\n",
        "      return\n",
        "    use_svg_display()\n",
        "    if self.fig is None:\n",
        "      self.fig = plt.figure(figsize=self.figsize)\n",
        "    plt_lines, labels = [], []\n",
        "    for (k, v), ls, color in zip(self.data.items(), self.ls, self.colors):\n",
        "      plt_lines.append(plt.plot([p.x for p in v],\n",
        "                                [p.y for p in v],\n",
        "                                linestyle=ls, color=color)[0])\n",
        "      labels.append(k)\n",
        "    axes = self.axes if self.axes else plt.gca()\n",
        "    if self.xlim: axes.set_xlim(self.xlim)\n",
        "    if self.ylim: axes.set_ylim(self.ylim)\n",
        "    if not self.xlabel: self.xlabel = self.x\n",
        "    axes.set_xlabel(self.xlabel)\n",
        "    axes.set_ylabel(self.ylabel)\n",
        "    axes.set_xscale(self.xscale)\n",
        "    axes.set_yscale(self.yscale)\n",
        "    axes.legend(plt_lines, labels)\n",
        "    display.display(self.fig)\n",
        "    display.clear_output(wait=True)"
      ],
      "metadata": {
        "id": "ybov5FWE4T9i"
      },
      "execution_count": null,
      "outputs": []
    },
    {
      "cell_type": "code",
      "source": [
        "class Module(nn.Module, HyperParameters):\n",
        "  def __init__(self, plot_train_per_epoch = 2, plot_valid_per_epoch=1):\n",
        "    super().__init__()\n",
        "    self.save_hyperparameters()\n",
        "    self.board = ProgressBoard()\n",
        "\n",
        "  def loss(self, y_hat, y):\n",
        "    raise NotImplementedError\n",
        "\n",
        "  def forward(self, X):\n",
        "    assert hasattr(self, 'net'), 'Neural network is defined'\n",
        "    return self.net(X)\n",
        "\n",
        "  def plot(self, key, value, train):\n",
        "     \"\"\"Plot a point in animation.\"\"\"\n",
        "     assert hasattr(self, 'trainer'), 'Trainer is not inited'\n",
        "     self.board.xlabel = 'epoch'\n",
        "     if train:\n",
        "      x = self.trainer.train_batch_idx / \\\n",
        "          self.trainer.num_train_batches\n",
        "      n = self.trainer.num_train_batches / \\\n",
        "          self.plot_train_per_epoch\n",
        "     else:\n",
        "      x = self.trainer.epoch + 1\n",
        "      n = self.trainer.num_val_batches / \\\n",
        "          self.plot_valid_per_epoch\n",
        "      self.board.draw(x, numpy(to(value, cpu())),\n",
        "       ('train_' if train else 'val_') + key,\n",
        "                      every_n=int(n))\n",
        "\n",
        "  def training_step(self, batch):\n",
        "    Y_hat = self(*batch[:-1])\n",
        "    l = self.loss(Y_hat, batch[-1])\n",
        "    self.plot('loss', l, train=True)\n",
        "    return l\n",
        "\n",
        "  def validation_step(self, batch):\n",
        "    l = self.loss(self(*batch[:-1]), batch[-1])\n",
        "    self.plot('loss', l, train=False)\n",
        "\n",
        "  def configure_optimizers(self):\n",
        "    return torch.optim.Adam(self.parameters(), lr=self.lr)\n",
        "\n",
        "  def apply_init(self, inputs, init=None):\n",
        "    self.forward(*inputs)\n",
        "    if init is not None:\n",
        "      self.net.apply(init)\n"
      ],
      "metadata": {
        "id": "Pu4X2Y_Q22sI"
      },
      "execution_count": null,
      "outputs": []
    },
    {
      "cell_type": "code",
      "source": [
        "class DataModule(HyperParameters):\n",
        "\n",
        "    def __init__(self):\n",
        "      super().__init__()\n",
        "\n",
        "    def get_dataloader(self, train):\n",
        "        raise NotImplementedError\n",
        "\n",
        "    def train_dataloader(self):\n",
        "        return self.get_dataloader(train=True)\n",
        "\n",
        "    def val_dataloader(self):\n",
        "        return self.get_dataloader(train=False)\n",
        "\n",
        "    def get_tensorloader(self, tensors, train, indices=slice(0, None)):\n",
        "        tensors = tuple(a[indices] for a in tensors)\n",
        "        dataset = torch.utils.data.TensorDataset(*tensors)\n",
        "        return torch.utils.data.DataLoader(dataset, self.batch_size,\n",
        "                                           shuffle=train)"
      ],
      "metadata": {
        "id": "TU4M0JOP70tH"
      },
      "execution_count": null,
      "outputs": []
    },
    {
      "cell_type": "code",
      "source": [
        "class Timer:\n",
        "\n",
        "  def __init__(self):\n",
        "    self.times = []\n",
        "    self.start()\n",
        "\n",
        "  def start(self):\n",
        "    self.tik = time.time()\n",
        "\n",
        "  def stop(self):\n",
        "    self.times.append(time.time() - self.tik)\n",
        "    return self.times[-1]\n",
        "\n",
        "  def avg(self):\n",
        "    return sum(self.times) / len(self.times)\n",
        "\n",
        "  def sum(self):\n",
        "    return sum(self.times)\n",
        "\n",
        "  def cumsum(self):\n",
        "    return np.array(self.times).cumsum().tolist()"
      ],
      "metadata": {
        "id": "A0fiqD49BcQF"
      },
      "execution_count": null,
      "outputs": []
    },
    {
      "cell_type": "code",
      "source": [
        "class Accumulator:\n",
        "\n",
        "  def __init__(self, n):\n",
        "    self.data = [0.0] * n\n",
        "\n",
        "  def add(self, *args):\n",
        "    self.data = [a + float(b) for a, b in zip(self.data, args)]\n",
        "\n",
        "  def reset(self):\n",
        "    self.data = [0.0] * len(self.data)\n",
        "\n",
        "  def __getitem__(self, idx):\n",
        "    return self.data[idx]"
      ],
      "metadata": {
        "id": "6mJXAhcxF3ug"
      },
      "execution_count": null,
      "outputs": []
    },
    {
      "cell_type": "code",
      "source": [
        "class Trainer(HyperParameters):\n",
        "\n",
        "    def __init__(self, max_epochs, gradient_clip_val=0):\n",
        "        self.save_hyperparameters()\n",
        "        self.gpu = try_gpu()\n",
        "\n",
        "    def prepare_data(self, data):\n",
        "        self.train_dataloader = data.train_dataloader()\n",
        "        self.val_dataloader = data.val_dataloader()\n",
        "        self.num_train_batches = len(self.train_dataloader)\n",
        "        self.num_val_batches = (len(self.val_dataloader)\n",
        "                                if self.val_dataloader is not None else 0)\n",
        "\n",
        "    def prepare_batch(self, batch):\n",
        "        batch = [to(a, self.gpu) for a in batch]\n",
        "        return batch\n",
        "\n",
        "    def prepare_model(self, model):\n",
        "        model.trainer = self\n",
        "        model.board.xlim = [0, self.max_epochs]\n",
        "        model.to(self.gpu)\n",
        "        self.model = model\n",
        "\n",
        "    def fit(self, model, data):\n",
        "        self.prepare_data(data)\n",
        "        self.prepare_model(model)\n",
        "        self.optim = model.configure_optimizers()\n",
        "        self.epoch = 0\n",
        "        self.train_batch_idx = 0\n",
        "        self.val_batch_idx = 0\n",
        "        for self.epoch in range(self.max_epochs):\n",
        "            self.fit_epoch()\n",
        "\n",
        "    def fit_epoch(self):\n",
        "        self.model.train()\n",
        "        for batch in self.train_dataloader:\n",
        "            loss = self.model.training_step(self.prepare_batch(batch))\n",
        "            self.optim.zero_grad()\n",
        "            with torch.no_grad():\n",
        "                loss.backward()\n",
        "                if self.gradient_clip_val > 0:  # To be discussed later\n",
        "                    self.clip_gradients(self.gradient_clip_val, self.model)\n",
        "                self.optim.step()\n",
        "            self.train_batch_idx += 1\n",
        "        if self.val_dataloader is None:\n",
        "            return\n",
        "        self.model.eval()\n",
        "        for batch in self.val_dataloader:\n",
        "            with torch.no_grad():\n",
        "                self.model.validation_step(self.prepare_batch(batch))\n",
        "            self.val_batch_idx += 1\n",
        "\n",
        "    def clip_gradients(self, grad_clip_val, model):\n",
        "        params = [p for p in model.parameters() if p.requires_grad]\n",
        "        norm = torch.sqrt(sum(torch.sum((p.grad ** 2)) for p in params))\n",
        "        if norm > grad_clip_val:\n",
        "            for param in params:\n",
        "                param.grad[:] *= grad_clip_val / norm"
      ],
      "metadata": {
        "id": "KccAy5NuF3gv"
      },
      "execution_count": null,
      "outputs": []
    },
    {
      "cell_type": "code",
      "source": [
        "reshape = lambda x, *args, **kwargs: x.reshape(*args, **kwargs)\n",
        "argmax = lambda x, *args, **kwargs: x.argmax(*args, **kwargs)\n",
        "astype = lambda x, *args, **kwargs: x.type(*args, **kwargs)\n",
        "reduce_mean = lambda x, *args, **kwargs: x.mean(*args, **kwargs)\n",
        "size = lambda x, *args, **kwargs: x.numel(*args, **kwargs)"
      ],
      "metadata": {
        "id": "rgR0yK2PAnVv"
      },
      "execution_count": null,
      "outputs": []
    },
    {
      "cell_type": "code",
      "source": [
        "def accuracy(self, Y_hat, Y, averaged=True):\n",
        "  Y_hat = reshape(Y_hat, (-1, Y_hat.shape[-1]))\n",
        "  preds = astype(argmax(Y_hat, axis=1), Y.dtype)\n",
        "  compare = astype(preds == reshape(Y, -1), torch.float32)\n",
        "  return reduce_mean(compare) if averaged else compare"
      ],
      "metadata": {
        "id": "ySGLbUoaAPZn"
      },
      "execution_count": null,
      "outputs": []
    },
    {
      "cell_type": "code",
      "source": [
        "def evaluate_accuracy_gpu(net, data_iter, device=None):\n",
        "\n",
        "  if isinstance(net, nn.Module):\n",
        "    net.eval()\n",
        "    if not device:\n",
        "      device = next(iter(net.parameters())).device\n",
        "\n",
        "  metric = Accumulator(2)\n",
        "\n",
        "  with torch.no_grad():\n",
        "    for X, y in data_iter:\n",
        "      if isinstance(X, list):\n",
        "        X = [x.to(device) for x in X]\n",
        "      else:\n",
        "        X = X.to(device)\n",
        "      y = y.to(device)\n",
        "      metric.add(accuracy(net(X), y), size(y))\n",
        "  return metric[0] / metric[1]"
      ],
      "metadata": {
        "id": "2CPkztgrGcGM"
      },
      "execution_count": null,
      "outputs": []
    },
    {
      "cell_type": "code",
      "source": [
        "class Classifier(Module):\n",
        "  def validation_step(self, batch):\n",
        "    Y_hat = self(*batch[:-1])\n",
        "    self.plot('loss', self.loss(Y_hat, batch[-1]), train=False)\n",
        "    self.plot('acc', self.accuracy(Y_hat, batch[-1]), train=False)\n",
        "\n",
        "  def accuracy(self, Y_hat, Y, averaged=True):\n",
        "    Y_hat = reshape(Y_hat, -1)\n",
        "    preds = astype(torch.round(torch.sigmoid(Y_hat)), Y.dtype)\n",
        "    compare = astype(preds == reshape(Y, -1), torch.float32)\n",
        "    return reduce_mean(compare) if averaged else compare\n",
        "\n",
        "  def loss(self, Y_hat, Y, averaged=True):\n",
        "    Y_hat = reshape(Y_hat, (-1, Y_hat.shape[-1]))\n",
        "    print(Y_hat)\n",
        "    print(Y)\n",
        "    return F.binary_cross_entropy_with_logits(Y_hat, Y)\n",
        "\n",
        "  def layer_summary(self, X_shape):\n",
        "    X = torch.randn(*X_shape)\n",
        "    for layer in self.net:\n",
        "      X = layer(X)\n",
        "      print(layer.__class__.__name__, 'output shape:\\t', X.shape)"
      ],
      "metadata": {
        "id": "StI7xAW6Vbhy"
      },
      "execution_count": null,
      "outputs": []
    },
    {
      "cell_type": "markdown",
      "source": [
        "# Create Data Module"
      ],
      "metadata": {
        "id": "sJt_cmNs8aWG"
      }
    },
    {
      "cell_type": "code",
      "source": [
        "device = try_gpu()"
      ],
      "metadata": {
        "id": "-D_Sqeti80YX"
      },
      "execution_count": null,
      "outputs": []
    },
    {
      "cell_type": "code",
      "source": [
        "device"
      ],
      "metadata": {
        "colab": {
          "base_uri": "https://localhost:8080/"
        },
        "id": "q9wa1oiN83h-",
        "outputId": "6a402df6-9efc-45d7-c45c-2cd349c68f3f"
      },
      "execution_count": null,
      "outputs": [
        {
          "output_type": "execute_result",
          "data": {
            "text/plain": [
              "device(type='cuda', index=0)"
            ]
          },
          "metadata": {},
          "execution_count": 29
        }
      ]
    },
    {
      "cell_type": "code",
      "source": [
        "with open('/content/drive/MyDrive/Colab Notebooks/Medical Image/data/df_20.h5', 'rb') as f:\n",
        "  df = load(f)"
      ],
      "metadata": {
        "id": "DFJS58tY7E6J"
      },
      "execution_count": null,
      "outputs": []
    },
    {
      "cell_type": "code",
      "source": [
        "df.head()"
      ],
      "metadata": {
        "colab": {
          "base_uri": "https://localhost:8080/",
          "height": 206
        },
        "id": "t_qhxEMKJFgG",
        "outputId": "0c287b77-6182-4dee-c8f5-8e89d9f7be5d"
      },
      "execution_count": null,
      "outputs": [
        {
          "output_type": "execute_result",
          "data": {
            "text/plain": [
              "   extent_right_numerical  density_right_numerical  extent_left_numerical  \\\n",
              "0                       4                        3                      4   \n",
              "1                       3                        3                      3   \n",
              "2                       1                        1                      1   \n",
              "3                       0                        0                      0   \n",
              "4                       0                        0                      0   \n",
              "\n",
              "   density_left_numerical  mRALE Score  \\\n",
              "0                       2           20   \n",
              "1                       2           15   \n",
              "2                       1            2   \n",
              "3                       0            0   \n",
              "4                       0            0   \n",
              "\n",
              "                                                 img  \n",
              "0  [[0.0, 0.0, 0.0, 0.0, 0.0, 0.0, 0.0, 0.0, 0.0,...  \n",
              "1  [[0.0, 0.0, 0.0, 0.0, 0.0, 0.0, 0.0, 0.0, 0.0,...  \n",
              "2  [[0.0, 0.0, 0.0, 0.0, 0.0, 0.0, 0.0, 0.0, 0.0,...  \n",
              "3  [[0.0, 0.0, 0.0, 0.0, 0.0, 0.0, 0.0, 0.0, 0.0,...  \n",
              "4  [[0.0, 0.0, 0.0, 0.0, 0.0, 0.0, 0.0, 0.0, 0.0,...  "
            ],
            "text/html": [
              "\n",
              "  <div id=\"df-16ee1b32-b799-4424-af4d-8d98d317c636\">\n",
              "    <div class=\"colab-df-container\">\n",
              "      <div>\n",
              "<style scoped>\n",
              "    .dataframe tbody tr th:only-of-type {\n",
              "        vertical-align: middle;\n",
              "    }\n",
              "\n",
              "    .dataframe tbody tr th {\n",
              "        vertical-align: top;\n",
              "    }\n",
              "\n",
              "    .dataframe thead th {\n",
              "        text-align: right;\n",
              "    }\n",
              "</style>\n",
              "<table border=\"1\" class=\"dataframe\">\n",
              "  <thead>\n",
              "    <tr style=\"text-align: right;\">\n",
              "      <th></th>\n",
              "      <th>extent_right_numerical</th>\n",
              "      <th>density_right_numerical</th>\n",
              "      <th>extent_left_numerical</th>\n",
              "      <th>density_left_numerical</th>\n",
              "      <th>mRALE Score</th>\n",
              "      <th>img</th>\n",
              "    </tr>\n",
              "  </thead>\n",
              "  <tbody>\n",
              "    <tr>\n",
              "      <th>0</th>\n",
              "      <td>4</td>\n",
              "      <td>3</td>\n",
              "      <td>4</td>\n",
              "      <td>2</td>\n",
              "      <td>20</td>\n",
              "      <td>[[0.0, 0.0, 0.0, 0.0, 0.0, 0.0, 0.0, 0.0, 0.0,...</td>\n",
              "    </tr>\n",
              "    <tr>\n",
              "      <th>1</th>\n",
              "      <td>3</td>\n",
              "      <td>3</td>\n",
              "      <td>3</td>\n",
              "      <td>2</td>\n",
              "      <td>15</td>\n",
              "      <td>[[0.0, 0.0, 0.0, 0.0, 0.0, 0.0, 0.0, 0.0, 0.0,...</td>\n",
              "    </tr>\n",
              "    <tr>\n",
              "      <th>2</th>\n",
              "      <td>1</td>\n",
              "      <td>1</td>\n",
              "      <td>1</td>\n",
              "      <td>1</td>\n",
              "      <td>2</td>\n",
              "      <td>[[0.0, 0.0, 0.0, 0.0, 0.0, 0.0, 0.0, 0.0, 0.0,...</td>\n",
              "    </tr>\n",
              "    <tr>\n",
              "      <th>3</th>\n",
              "      <td>0</td>\n",
              "      <td>0</td>\n",
              "      <td>0</td>\n",
              "      <td>0</td>\n",
              "      <td>0</td>\n",
              "      <td>[[0.0, 0.0, 0.0, 0.0, 0.0, 0.0, 0.0, 0.0, 0.0,...</td>\n",
              "    </tr>\n",
              "    <tr>\n",
              "      <th>4</th>\n",
              "      <td>0</td>\n",
              "      <td>0</td>\n",
              "      <td>0</td>\n",
              "      <td>0</td>\n",
              "      <td>0</td>\n",
              "      <td>[[0.0, 0.0, 0.0, 0.0, 0.0, 0.0, 0.0, 0.0, 0.0,...</td>\n",
              "    </tr>\n",
              "  </tbody>\n",
              "</table>\n",
              "</div>\n",
              "      <button class=\"colab-df-convert\" onclick=\"convertToInteractive('df-16ee1b32-b799-4424-af4d-8d98d317c636')\"\n",
              "              title=\"Convert this dataframe to an interactive table.\"\n",
              "              style=\"display:none;\">\n",
              "        \n",
              "  <svg xmlns=\"http://www.w3.org/2000/svg\" height=\"24px\"viewBox=\"0 0 24 24\"\n",
              "       width=\"24px\">\n",
              "    <path d=\"M0 0h24v24H0V0z\" fill=\"none\"/>\n",
              "    <path d=\"M18.56 5.44l.94 2.06.94-2.06 2.06-.94-2.06-.94-.94-2.06-.94 2.06-2.06.94zm-11 1L8.5 8.5l.94-2.06 2.06-.94-2.06-.94L8.5 2.5l-.94 2.06-2.06.94zm10 10l.94 2.06.94-2.06 2.06-.94-2.06-.94-.94-2.06-.94 2.06-2.06.94z\"/><path d=\"M17.41 7.96l-1.37-1.37c-.4-.4-.92-.59-1.43-.59-.52 0-1.04.2-1.43.59L10.3 9.45l-7.72 7.72c-.78.78-.78 2.05 0 2.83L4 21.41c.39.39.9.59 1.41.59.51 0 1.02-.2 1.41-.59l7.78-7.78 2.81-2.81c.8-.78.8-2.07 0-2.86zM5.41 20L4 18.59l7.72-7.72 1.47 1.35L5.41 20z\"/>\n",
              "  </svg>\n",
              "      </button>\n",
              "      \n",
              "  <style>\n",
              "    .colab-df-container {\n",
              "      display:flex;\n",
              "      flex-wrap:wrap;\n",
              "      gap: 12px;\n",
              "    }\n",
              "\n",
              "    .colab-df-convert {\n",
              "      background-color: #E8F0FE;\n",
              "      border: none;\n",
              "      border-radius: 50%;\n",
              "      cursor: pointer;\n",
              "      display: none;\n",
              "      fill: #1967D2;\n",
              "      height: 32px;\n",
              "      padding: 0 0 0 0;\n",
              "      width: 32px;\n",
              "    }\n",
              "\n",
              "    .colab-df-convert:hover {\n",
              "      background-color: #E2EBFA;\n",
              "      box-shadow: 0px 1px 2px rgba(60, 64, 67, 0.3), 0px 1px 3px 1px rgba(60, 64, 67, 0.15);\n",
              "      fill: #174EA6;\n",
              "    }\n",
              "\n",
              "    [theme=dark] .colab-df-convert {\n",
              "      background-color: #3B4455;\n",
              "      fill: #D2E3FC;\n",
              "    }\n",
              "\n",
              "    [theme=dark] .colab-df-convert:hover {\n",
              "      background-color: #434B5C;\n",
              "      box-shadow: 0px 1px 3px 1px rgba(0, 0, 0, 0.15);\n",
              "      filter: drop-shadow(0px 1px 2px rgba(0, 0, 0, 0.3));\n",
              "      fill: #FFFFFF;\n",
              "    }\n",
              "  </style>\n",
              "\n",
              "      <script>\n",
              "        const buttonEl =\n",
              "          document.querySelector('#df-16ee1b32-b799-4424-af4d-8d98d317c636 button.colab-df-convert');\n",
              "        buttonEl.style.display =\n",
              "          google.colab.kernel.accessAllowed ? 'block' : 'none';\n",
              "\n",
              "        async function convertToInteractive(key) {\n",
              "          const element = document.querySelector('#df-16ee1b32-b799-4424-af4d-8d98d317c636');\n",
              "          const dataTable =\n",
              "            await google.colab.kernel.invokeFunction('convertToInteractive',\n",
              "                                                     [key], {});\n",
              "          if (!dataTable) return;\n",
              "\n",
              "          const docLinkHtml = 'Like what you see? Visit the ' +\n",
              "            '<a target=\"_blank\" href=https://colab.research.google.com/notebooks/data_table.ipynb>data table notebook</a>'\n",
              "            + ' to learn more about interactive tables.';\n",
              "          element.innerHTML = '';\n",
              "          dataTable['output_type'] = 'display_data';\n",
              "          await google.colab.output.renderOutput(dataTable, element);\n",
              "          const docLink = document.createElement('div');\n",
              "          docLink.innerHTML = docLinkHtml;\n",
              "          element.appendChild(docLink);\n",
              "        }\n",
              "      </script>\n",
              "    </div>\n",
              "  </div>\n",
              "  "
            ]
          },
          "metadata": {},
          "execution_count": 31
        }
      ]
    },
    {
      "cell_type": "code",
      "source": [
        "def encode_ordinal(num_levels, curr_level):\n",
        "  arr = torch.zeros(num_levels)\n",
        "  for i in range(curr_level):\n",
        "    arr[i] = 1\n",
        "  return arr"
      ],
      "metadata": {
        "id": "SyXNvduncNH_"
      },
      "execution_count": null,
      "outputs": []
    },
    {
      "cell_type": "code",
      "source": [
        "def encode_arr(arr):\n",
        "  num_levels = arr.max()\n",
        "  length = arr.shape[0]\n",
        "  tensor = encode_ordinal(num_levels, arr[0]).unsqueeze(dim=0)\n",
        "  for i in range(1, length):\n",
        "    tensor = torch.cat((tensor, encode_ordinal(num_levels, arr[i]).unsqueeze(dim=0)), 0)\n",
        "  return tensor"
      ],
      "metadata": {
        "id": "kE-EXJAbc1Bz"
      },
      "execution_count": null,
      "outputs": []
    },
    {
      "cell_type": "code",
      "source": [
        "def prepare_data(df):\n",
        "  img = torch.tensor(np.asarray(df['img'].tolist()), dtype=torch.float32)\n",
        "  img = img.unsqueeze(dim=1)\n",
        "  extent_right = encode_arr(np.asarray(df['extent_right_numerical'].tolist()))\n",
        "  density_right = encode_arr(np.asarray(df['density_right_numerical'].tolist()))\n",
        "  extent_left = encode_arr(np.asarray(df['extent_left_numerical'].tolist()))\n",
        "  density_left = encode_arr(np.asarray(df['density_left_numerical'].tolist()))\n",
        "  return img, extent_right, density_right, extent_left, density_left"
      ],
      "metadata": {
        "id": "6QhDWX6RjkIt"
      },
      "execution_count": null,
      "outputs": []
    },
    {
      "cell_type": "code",
      "source": [
        "img, extent_right, density_right, extent_left, density_left = prepare_data(df)"
      ],
      "metadata": {
        "id": "GMQwfgnx5q2b"
      },
      "execution_count": null,
      "outputs": []
    },
    {
      "cell_type": "code",
      "source": [],
      "metadata": {
        "id": "9BAjTkyAaOHH"
      },
      "execution_count": null,
      "outputs": []
    },
    {
      "cell_type": "code",
      "source": [
        "img"
      ],
      "metadata": {
        "colab": {
          "base_uri": "https://localhost:8080/"
        },
        "id": "Qs0_uRScaNCp",
        "outputId": "dc598c67-cdfe-4221-9274-a54527ee2bfb"
      },
      "execution_count": null,
      "outputs": [
        {
          "output_type": "execute_result",
          "data": {
            "text/plain": [
              "tensor([[[[0.0000, 0.0000, 0.0000,  ..., 0.0000, 0.0000, 0.0000],\n",
              "          [0.0000, 0.0000, 0.0000,  ..., 0.0000, 0.0000, 0.0000],\n",
              "          [0.0000, 0.0000, 0.0000,  ..., 0.0000, 0.0000, 0.0000],\n",
              "          ...,\n",
              "          [0.6952, 0.6919, 0.6931,  ..., 0.8220, 0.7709, 0.1727],\n",
              "          [0.6955, 0.6977, 0.6937,  ..., 0.8255, 0.7735, 0.1742],\n",
              "          [0.6204, 0.6198, 0.6227,  ..., 0.7348, 0.6995, 0.2174]]],\n",
              "\n",
              "\n",
              "        [[[0.0000, 0.0000, 0.0000,  ..., 0.0000, 0.0000, 0.0000],\n",
              "          [0.0000, 0.0000, 0.0000,  ..., 0.0000, 0.0000, 0.0000],\n",
              "          [0.0000, 0.0000, 0.0000,  ..., 0.0000, 0.0000, 0.0000],\n",
              "          ...,\n",
              "          [0.4016, 0.7693, 0.7804,  ..., 0.7333, 0.7304, 0.7232],\n",
              "          [0.4219, 0.7231, 0.7474,  ..., 0.7308, 0.7155, 0.7104],\n",
              "          [0.5713, 0.4116, 0.4075,  ..., 0.7202, 0.7175, 0.7141]]],\n",
              "\n",
              "\n",
              "        [[[0.0000, 0.0000, 0.0000,  ..., 0.0000, 0.0000, 0.0000],\n",
              "          [0.0000, 0.0000, 0.0000,  ..., 0.0000, 0.0000, 0.0000],\n",
              "          [0.0000, 0.0000, 0.0000,  ..., 0.0000, 0.0000, 0.0000],\n",
              "          ...,\n",
              "          [0.0000, 0.0000, 0.0000,  ..., 0.8396, 0.8058, 0.2872],\n",
              "          [0.0000, 0.0000, 0.0000,  ..., 0.8447, 0.8154, 0.2895],\n",
              "          [0.0000, 0.0000, 0.0000,  ..., 0.8443, 0.8144, 0.2897]]],\n",
              "\n",
              "\n",
              "        ...,\n",
              "\n",
              "\n",
              "        [[[0.0000, 0.0000, 0.0000,  ..., 0.0000, 0.0000, 0.0000],\n",
              "          [0.0000, 0.0000, 0.0000,  ..., 0.0000, 0.0000, 0.0000],\n",
              "          [0.0000, 0.0000, 0.0000,  ..., 0.0000, 0.0000, 0.0000],\n",
              "          ...,\n",
              "          [0.0000, 0.0000, 0.0000,  ..., 0.0000, 0.0000, 0.0000],\n",
              "          [0.0000, 0.0000, 0.0000,  ..., 0.0000, 0.0000, 0.0000],\n",
              "          [0.0000, 0.0000, 0.0000,  ..., 0.0000, 0.0000, 0.0000]]],\n",
              "\n",
              "\n",
              "        [[[0.0000, 0.0000, 0.0000,  ..., 0.0000, 0.0000, 0.0000],\n",
              "          [0.0000, 0.0000, 0.0000,  ..., 0.0000, 0.0000, 0.0000],\n",
              "          [0.0000, 0.0000, 0.0000,  ..., 0.0000, 0.0000, 0.0000],\n",
              "          ...,\n",
              "          [0.0000, 0.0000, 0.0000,  ..., 0.0000, 0.0000, 0.0000],\n",
              "          [0.0000, 0.0000, 0.0000,  ..., 0.0000, 0.0000, 0.0000],\n",
              "          [0.0000, 0.0000, 0.0000,  ..., 0.0000, 0.0000, 0.0000]]],\n",
              "\n",
              "\n",
              "        [[[0.0461, 0.0221, 0.0075,  ..., 0.6218, 0.6243, 0.6304],\n",
              "          [0.0428, 0.0204, 0.0062,  ..., 0.6109, 0.6159, 0.6235],\n",
              "          [0.0387, 0.0173, 0.0038,  ..., 0.6082, 0.6117, 0.6191],\n",
              "          ...,\n",
              "          [0.4382, 0.7806, 0.6404,  ..., 0.0000, 0.0000, 0.0000],\n",
              "          [0.4138, 0.7601, 0.5799,  ..., 0.0000, 0.0000, 0.0000],\n",
              "          [0.2239, 0.3722, 0.3259,  ..., 0.0000, 0.0000, 0.0000]]]])"
            ]
          },
          "metadata": {},
          "execution_count": 36
        }
      ]
    },
    {
      "cell_type": "code",
      "source": [
        "class MedicalImage(DataModule):\n",
        "  def __init__(self, index, X, y, batch_size=32):\n",
        "    super().__init__()\n",
        "    self.save_hyperparameters()\n",
        "    self.num_train =int(len(self.X) / 10 * 9)\n",
        "    self.num_val = len(self.X) - self.num_train\n",
        "    print(self.num_train)\n",
        "    print(self.num_val)\n",
        "\n",
        "  def get_dataloader(self, train):\n",
        "    i = slice(0, self.num_train) if train else slice(self.num_train, None)\n",
        "    return self.get_tensorloader((self.X, self.y), train, i)"
      ],
      "metadata": {
        "id": "-_PJgWdJ7i68"
      },
      "execution_count": null,
      "outputs": []
    },
    {
      "cell_type": "code",
      "source": [],
      "metadata": {
        "id": "HGlbMhcMkM05"
      },
      "execution_count": null,
      "outputs": []
    },
    {
      "cell_type": "code",
      "source": [],
      "metadata": {
        "id": "HZiCLv3klQrH"
      },
      "execution_count": null,
      "outputs": []
    },
    {
      "cell_type": "markdown",
      "source": [
        "# self-constructed resnet"
      ],
      "metadata": {
        "id": "3ypmB105Pmb6"
      }
    },
    {
      "cell_type": "code",
      "source": [
        "class Residual(nn.Module):\n",
        "  def __init__(self, num_channels, use1x1conv=False, stride=1):\n",
        "    super().__init__()\n",
        "    self.conv1 = nn.LazyConv2d(num_channels,kernel_size=3,\n",
        "                               padding=1, stride=stride)\n",
        "    self.conv2 = nn.LazyConv2d(num_channels, kernel_size=3,\n",
        "                               padding=1)\n",
        "    if use1x1conv:\n",
        "      self.conv3 = nn.LazyConv2d(num_channels, kernel_size=1,\n",
        "                                 stride=stride)\n",
        "    else:\n",
        "      self.conv3 = None\n",
        "    self.bn1 = nn.LazyBatchNorm2d()\n",
        "    self.bn2 = nn.LazyBatchNorm2d()\n",
        "\n",
        "  def forward(self, X):\n",
        "    Y = F.relu(self.bn1(self.conv1(X)))\n",
        "    Y = self.bn2(self.conv2(Y))\n",
        "    if self.conv3:\n",
        "      X = self.conv3(X)\n",
        "    Y += X\n",
        "    return F.relu(Y)"
      ],
      "metadata": {
        "id": "uqhCc6a-HPuB"
      },
      "execution_count": null,
      "outputs": []
    },
    {
      "cell_type": "code",
      "source": [
        "class ResNet(Classifier):\n",
        "\n",
        "  def __init__(self, arch, lr=0.1, num_classes=10):\n",
        "    super().__init__()\n",
        "    self.save_hyperparameters()\n",
        "    self.net = nn.Sequential(self.b1())\n",
        "    for i, b in enumerate(arch):\n",
        "        self.net.add_module(f'b{i+2}', self.block(*b, first_block=(i==0)))\n",
        "    self.net.add_module('last', nn.Sequential(\n",
        "    nn.AdaptiveAvgPool2d((1, 1)), nn.Flatten(),\n",
        "    nn.LazyLinear(num_classes)))\n",
        "    self.net.apply(init_cnn)\n",
        "\n",
        "  def b1(self):\n",
        "    return nn.Sequential(nn.LazyConv2d(64, kernel_size=7,\n",
        "                                       stride=2, padding=3),\n",
        "                         nn.LazyBatchNorm2d(), nn.ReLU(),\n",
        "                         nn.MaxPool2d(kernel_size=3, stride=2, padding=1))\n",
        "\n",
        "  def block(self, num_residuals, num_channels, first_block=False):\n",
        "    blk = []\n",
        "    for i in range(num_residuals):\n",
        "      if i == 0 and not first_block:\n",
        "        blk.append(Residual(num_channels, use1x1conv=True, stride=2))\n",
        "      else:\n",
        "        blk.append(Residual(num_channels))\n",
        "    return nn.Sequential(*blk)"
      ],
      "metadata": {
        "id": "R20coZQ2Sifj"
      },
      "execution_count": null,
      "outputs": []
    },
    {
      "cell_type": "code",
      "source": [
        "class ResNet18(ResNet):\n",
        "  def __init__(self, lr=0.1, num_classes=10):\n",
        "    super().__init__(((2, 64), (2, 128), (2, 256), (2, 512)),\n",
        "                     lr, num_classes)"
      ],
      "metadata": {
        "id": "ONJ0nXaSaCe2"
      },
      "execution_count": null,
      "outputs": []
    },
    {
      "cell_type": "code",
      "source": [
        "ResNet18().layer_summary((1, 1, 96, 96))"
      ],
      "metadata": {
        "colab": {
          "base_uri": "https://localhost:8080/"
        },
        "id": "7QLJWXuBaawp",
        "outputId": "a3ee5156-b6ce-4899-e196-2d1548bd0c1f"
      },
      "execution_count": null,
      "outputs": [
        {
          "output_type": "stream",
          "name": "stdout",
          "text": [
            "Sequential output shape:\t torch.Size([1, 64, 24, 24])\n",
            "Sequential output shape:\t torch.Size([1, 64, 24, 24])\n",
            "Sequential output shape:\t torch.Size([1, 128, 12, 12])\n",
            "Sequential output shape:\t torch.Size([1, 256, 6, 6])\n",
            "Sequential output shape:\t torch.Size([1, 512, 3, 3])\n",
            "Sequential output shape:\t torch.Size([1, 10])\n"
          ]
        },
        {
          "output_type": "stream",
          "name": "stderr",
          "text": [
            "/usr/local/lib/python3.10/dist-packages/torch/nn/modules/lazy.py:180: UserWarning: Lazy modules are a new feature under heavy development so changes to the API or functionality can happen at any moment.\n",
            "  warnings.warn('Lazy modules are a new feature under heavy development '\n"
          ]
        }
      ]
    },
    {
      "cell_type": "code",
      "source": [
        "model = ResNet18(lr=0.01, num_classes=4)\n",
        "trainer = Trainer(max_epochs=10)\n",
        "data = MedicalImage(0, img, extent_right, batch_size=64)\n",
        "model.apply_init([next(iter(data.get_dataloader(True)))[0]], init_cnn)"
      ],
      "metadata": {
        "id": "bFLWNwBVaeNB",
        "colab": {
          "base_uri": "https://localhost:8080/"
        },
        "outputId": "e6164b75-b36f-498e-99c7-880ea3130ccf"
      },
      "execution_count": null,
      "outputs": [
        {
          "output_type": "stream",
          "name": "stdout",
          "text": [
            "18\n",
            "2\n"
          ]
        }
      ]
    },
    {
      "cell_type": "code",
      "source": [
        "trainer.fit(model, data);"
      ],
      "metadata": {
        "id": "HWeZTTHBjUnL",
        "colab": {
          "base_uri": "https://localhost:8080/",
          "height": 280
        },
        "outputId": "430e579e-43e4-4f2c-ca13-09e9fea80c51"
      },
      "execution_count": null,
      "outputs": [
        {
          "output_type": "display_data",
          "data": {
            "text/plain": [
              "<Figure size 350x250 with 1 Axes>"
            ],
            "image/svg+xml": "<?xml version=\"1.0\" encoding=\"utf-8\" standalone=\"no\"?>\n<!DOCTYPE svg PUBLIC \"-//W3C//DTD SVG 1.1//EN\"\n  \"http://www.w3.org/Graphics/SVG/1.1/DTD/svg11.dtd\">\n<svg xmlns:xlink=\"http://www.w3.org/1999/xlink\" width=\"229.425pt\" height=\"193.954688pt\" viewBox=\"0 0 229.425 193.954688\" xmlns=\"http://www.w3.org/2000/svg\" version=\"1.1\">\n <metadata>\n  <rdf:RDF xmlns:dc=\"http://purl.org/dc/elements/1.1/\" xmlns:cc=\"http://creativecommons.org/ns#\" xmlns:rdf=\"http://www.w3.org/1999/02/22-rdf-syntax-ns#\">\n   <cc:Work>\n    <dc:type rdf:resource=\"http://purl.org/dc/dcmitype/StillImage\"/>\n    <dc:date>2023-06-24T12:35:04.383251</dc:date>\n    <dc:format>image/svg+xml</dc:format>\n    <dc:creator>\n     <cc:Agent>\n      <dc:title>Matplotlib v3.7.1, https://matplotlib.org/</dc:title>\n     </cc:Agent>\n    </dc:creator>\n   </cc:Work>\n  </rdf:RDF>\n </metadata>\n <defs>\n  <style type=\"text/css\">*{stroke-linejoin: round; stroke-linecap: butt}</style>\n </defs>\n <g id=\"figure_1\">\n  <g id=\"patch_1\">\n   <path d=\"M 0 193.954688 \nL 229.425 193.954688 \nL 229.425 0 \nL 0 0 \nz\n\" style=\"fill: #ffffff\"/>\n  </g>\n  <g id=\"axes_1\">\n   <g id=\"patch_2\">\n    <path d=\"M 20.5625 156.398438 \nL 215.8625 156.398438 \nL 215.8625 17.798438 \nL 20.5625 17.798438 \nz\n\" style=\"fill: #ffffff\"/>\n   </g>\n   <g id=\"matplotlib.axis_1\">\n    <g id=\"xtick_1\">\n     <g id=\"line2d_1\">\n      <defs>\n       <path id=\"md1a494f1a2\" d=\"M 0 0 \nL 0 3.5 \n\" style=\"stroke: #000000; stroke-width: 0.8\"/>\n      </defs>\n      <g>\n       <use xlink:href=\"#md1a494f1a2\" x=\"20.5625\" y=\"156.398438\" style=\"stroke: #000000; stroke-width: 0.8\"/>\n      </g>\n     </g>\n     <g id=\"text_1\">\n      <!-- 0 -->\n      <g transform=\"translate(17.38125 170.996875) scale(0.1 -0.1)\">\n       <defs>\n        <path id=\"DejaVuSans-30\" d=\"M 2034 4250 \nQ 1547 4250 1301 3770 \nQ 1056 3291 1056 2328 \nQ 1056 1369 1301 889 \nQ 1547 409 2034 409 \nQ 2525 409 2770 889 \nQ 3016 1369 3016 2328 \nQ 3016 3291 2770 3770 \nQ 2525 4250 2034 4250 \nz\nM 2034 4750 \nQ 2819 4750 3233 4129 \nQ 3647 3509 3647 2328 \nQ 3647 1150 3233 529 \nQ 2819 -91 2034 -91 \nQ 1250 -91 836 529 \nQ 422 1150 422 2328 \nQ 422 3509 836 4129 \nQ 1250 4750 2034 4750 \nz\n\" transform=\"scale(0.015625)\"/>\n       </defs>\n       <use xlink:href=\"#DejaVuSans-30\"/>\n      </g>\n     </g>\n    </g>\n    <g id=\"xtick_2\">\n     <g id=\"line2d_2\">\n      <g>\n       <use xlink:href=\"#md1a494f1a2\" x=\"59.6225\" y=\"156.398438\" style=\"stroke: #000000; stroke-width: 0.8\"/>\n      </g>\n     </g>\n     <g id=\"text_2\">\n      <!-- 2 -->\n      <g transform=\"translate(56.44125 170.996875) scale(0.1 -0.1)\">\n       <defs>\n        <path id=\"DejaVuSans-32\" d=\"M 1228 531 \nL 3431 531 \nL 3431 0 \nL 469 0 \nL 469 531 \nQ 828 903 1448 1529 \nQ 2069 2156 2228 2338 \nQ 2531 2678 2651 2914 \nQ 2772 3150 2772 3378 \nQ 2772 3750 2511 3984 \nQ 2250 4219 1831 4219 \nQ 1534 4219 1204 4116 \nQ 875 4013 500 3803 \nL 500 4441 \nQ 881 4594 1212 4672 \nQ 1544 4750 1819 4750 \nQ 2544 4750 2975 4387 \nQ 3406 4025 3406 3419 \nQ 3406 3131 3298 2873 \nQ 3191 2616 2906 2266 \nQ 2828 2175 2409 1742 \nQ 1991 1309 1228 531 \nz\n\" transform=\"scale(0.015625)\"/>\n       </defs>\n       <use xlink:href=\"#DejaVuSans-32\"/>\n      </g>\n     </g>\n    </g>\n    <g id=\"xtick_3\">\n     <g id=\"line2d_3\">\n      <g>\n       <use xlink:href=\"#md1a494f1a2\" x=\"98.6825\" y=\"156.398438\" style=\"stroke: #000000; stroke-width: 0.8\"/>\n      </g>\n     </g>\n     <g id=\"text_3\">\n      <!-- 4 -->\n      <g transform=\"translate(95.50125 170.996875) scale(0.1 -0.1)\">\n       <defs>\n        <path id=\"DejaVuSans-34\" d=\"M 2419 4116 \nL 825 1625 \nL 2419 1625 \nL 2419 4116 \nz\nM 2253 4666 \nL 3047 4666 \nL 3047 1625 \nL 3713 1625 \nL 3713 1100 \nL 3047 1100 \nL 3047 0 \nL 2419 0 \nL 2419 1100 \nL 313 1100 \nL 313 1709 \nL 2253 4666 \nz\n\" transform=\"scale(0.015625)\"/>\n       </defs>\n       <use xlink:href=\"#DejaVuSans-34\"/>\n      </g>\n     </g>\n    </g>\n    <g id=\"xtick_4\">\n     <g id=\"line2d_4\">\n      <g>\n       <use xlink:href=\"#md1a494f1a2\" x=\"137.7425\" y=\"156.398438\" style=\"stroke: #000000; stroke-width: 0.8\"/>\n      </g>\n     </g>\n     <g id=\"text_4\">\n      <!-- 6 -->\n      <g transform=\"translate(134.56125 170.996875) scale(0.1 -0.1)\">\n       <defs>\n        <path id=\"DejaVuSans-36\" d=\"M 2113 2584 \nQ 1688 2584 1439 2293 \nQ 1191 2003 1191 1497 \nQ 1191 994 1439 701 \nQ 1688 409 2113 409 \nQ 2538 409 2786 701 \nQ 3034 994 3034 1497 \nQ 3034 2003 2786 2293 \nQ 2538 2584 2113 2584 \nz\nM 3366 4563 \nL 3366 3988 \nQ 3128 4100 2886 4159 \nQ 2644 4219 2406 4219 \nQ 1781 4219 1451 3797 \nQ 1122 3375 1075 2522 \nQ 1259 2794 1537 2939 \nQ 1816 3084 2150 3084 \nQ 2853 3084 3261 2657 \nQ 3669 2231 3669 1497 \nQ 3669 778 3244 343 \nQ 2819 -91 2113 -91 \nQ 1303 -91 875 529 \nQ 447 1150 447 2328 \nQ 447 3434 972 4092 \nQ 1497 4750 2381 4750 \nQ 2619 4750 2861 4703 \nQ 3103 4656 3366 4563 \nz\n\" transform=\"scale(0.015625)\"/>\n       </defs>\n       <use xlink:href=\"#DejaVuSans-36\"/>\n      </g>\n     </g>\n    </g>\n    <g id=\"xtick_5\">\n     <g id=\"line2d_5\">\n      <g>\n       <use xlink:href=\"#md1a494f1a2\" x=\"176.8025\" y=\"156.398438\" style=\"stroke: #000000; stroke-width: 0.8\"/>\n      </g>\n     </g>\n     <g id=\"text_5\">\n      <!-- 8 -->\n      <g transform=\"translate(173.62125 170.996875) scale(0.1 -0.1)\">\n       <defs>\n        <path id=\"DejaVuSans-38\" d=\"M 2034 2216 \nQ 1584 2216 1326 1975 \nQ 1069 1734 1069 1313 \nQ 1069 891 1326 650 \nQ 1584 409 2034 409 \nQ 2484 409 2743 651 \nQ 3003 894 3003 1313 \nQ 3003 1734 2745 1975 \nQ 2488 2216 2034 2216 \nz\nM 1403 2484 \nQ 997 2584 770 2862 \nQ 544 3141 544 3541 \nQ 544 4100 942 4425 \nQ 1341 4750 2034 4750 \nQ 2731 4750 3128 4425 \nQ 3525 4100 3525 3541 \nQ 3525 3141 3298 2862 \nQ 3072 2584 2669 2484 \nQ 3125 2378 3379 2068 \nQ 3634 1759 3634 1313 \nQ 3634 634 3220 271 \nQ 2806 -91 2034 -91 \nQ 1263 -91 848 271 \nQ 434 634 434 1313 \nQ 434 1759 690 2068 \nQ 947 2378 1403 2484 \nz\nM 1172 3481 \nQ 1172 3119 1398 2916 \nQ 1625 2713 2034 2713 \nQ 2441 2713 2670 2916 \nQ 2900 3119 2900 3481 \nQ 2900 3844 2670 4047 \nQ 2441 4250 2034 4250 \nQ 1625 4250 1398 4047 \nQ 1172 3844 1172 3481 \nz\n\" transform=\"scale(0.015625)\"/>\n       </defs>\n       <use xlink:href=\"#DejaVuSans-38\"/>\n      </g>\n     </g>\n    </g>\n    <g id=\"xtick_6\">\n     <g id=\"line2d_6\">\n      <g>\n       <use xlink:href=\"#md1a494f1a2\" x=\"215.8625\" y=\"156.398438\" style=\"stroke: #000000; stroke-width: 0.8\"/>\n      </g>\n     </g>\n     <g id=\"text_6\">\n      <!-- 10 -->\n      <g transform=\"translate(209.5 170.996875) scale(0.1 -0.1)\">\n       <defs>\n        <path id=\"DejaVuSans-31\" d=\"M 794 531 \nL 1825 531 \nL 1825 4091 \nL 703 3866 \nL 703 4441 \nL 1819 4666 \nL 2450 4666 \nL 2450 531 \nL 3481 531 \nL 3481 0 \nL 794 0 \nL 794 531 \nz\n\" transform=\"scale(0.015625)\"/>\n       </defs>\n       <use xlink:href=\"#DejaVuSans-31\"/>\n       <use xlink:href=\"#DejaVuSans-30\" x=\"63.623047\"/>\n      </g>\n     </g>\n    </g>\n    <g id=\"text_7\">\n     <!-- epoch -->\n     <g transform=\"translate(102.984375 184.675) scale(0.1 -0.1)\">\n      <defs>\n       <path id=\"DejaVuSans-65\" d=\"M 3597 1894 \nL 3597 1613 \nL 953 1613 \nQ 991 1019 1311 708 \nQ 1631 397 2203 397 \nQ 2534 397 2845 478 \nQ 3156 559 3463 722 \nL 3463 178 \nQ 3153 47 2828 -22 \nQ 2503 -91 2169 -91 \nQ 1331 -91 842 396 \nQ 353 884 353 1716 \nQ 353 2575 817 3079 \nQ 1281 3584 2069 3584 \nQ 2775 3584 3186 3129 \nQ 3597 2675 3597 1894 \nz\nM 3022 2063 \nQ 3016 2534 2758 2815 \nQ 2500 3097 2075 3097 \nQ 1594 3097 1305 2825 \nQ 1016 2553 972 2059 \nL 3022 2063 \nz\n\" transform=\"scale(0.015625)\"/>\n       <path id=\"DejaVuSans-70\" d=\"M 1159 525 \nL 1159 -1331 \nL 581 -1331 \nL 581 3500 \nL 1159 3500 \nL 1159 2969 \nQ 1341 3281 1617 3432 \nQ 1894 3584 2278 3584 \nQ 2916 3584 3314 3078 \nQ 3713 2572 3713 1747 \nQ 3713 922 3314 415 \nQ 2916 -91 2278 -91 \nQ 1894 -91 1617 61 \nQ 1341 213 1159 525 \nz\nM 3116 1747 \nQ 3116 2381 2855 2742 \nQ 2594 3103 2138 3103 \nQ 1681 3103 1420 2742 \nQ 1159 2381 1159 1747 \nQ 1159 1113 1420 752 \nQ 1681 391 2138 391 \nQ 2594 391 2855 752 \nQ 3116 1113 3116 1747 \nz\n\" transform=\"scale(0.015625)\"/>\n       <path id=\"DejaVuSans-6f\" d=\"M 1959 3097 \nQ 1497 3097 1228 2736 \nQ 959 2375 959 1747 \nQ 959 1119 1226 758 \nQ 1494 397 1959 397 \nQ 2419 397 2687 759 \nQ 2956 1122 2956 1747 \nQ 2956 2369 2687 2733 \nQ 2419 3097 1959 3097 \nz\nM 1959 3584 \nQ 2709 3584 3137 3096 \nQ 3566 2609 3566 1747 \nQ 3566 888 3137 398 \nQ 2709 -91 1959 -91 \nQ 1206 -91 779 398 \nQ 353 888 353 1747 \nQ 353 2609 779 3096 \nQ 1206 3584 1959 3584 \nz\n\" transform=\"scale(0.015625)\"/>\n       <path id=\"DejaVuSans-63\" d=\"M 3122 3366 \nL 3122 2828 \nQ 2878 2963 2633 3030 \nQ 2388 3097 2138 3097 \nQ 1578 3097 1268 2742 \nQ 959 2388 959 1747 \nQ 959 1106 1268 751 \nQ 1578 397 2138 397 \nQ 2388 397 2633 464 \nQ 2878 531 3122 666 \nL 3122 134 \nQ 2881 22 2623 -34 \nQ 2366 -91 2075 -91 \nQ 1284 -91 818 406 \nQ 353 903 353 1747 \nQ 353 2603 823 3093 \nQ 1294 3584 2113 3584 \nQ 2378 3584 2631 3529 \nQ 2884 3475 3122 3366 \nz\n\" transform=\"scale(0.015625)\"/>\n       <path id=\"DejaVuSans-68\" d=\"M 3513 2113 \nL 3513 0 \nL 2938 0 \nL 2938 2094 \nQ 2938 2591 2744 2837 \nQ 2550 3084 2163 3084 \nQ 1697 3084 1428 2787 \nQ 1159 2491 1159 1978 \nL 1159 0 \nL 581 0 \nL 581 4863 \nL 1159 4863 \nL 1159 2956 \nQ 1366 3272 1645 3428 \nQ 1925 3584 2291 3584 \nQ 2894 3584 3203 3211 \nQ 3513 2838 3513 2113 \nz\n\" transform=\"scale(0.015625)\"/>\n      </defs>\n      <use xlink:href=\"#DejaVuSans-65\"/>\n      <use xlink:href=\"#DejaVuSans-70\" x=\"61.523438\"/>\n      <use xlink:href=\"#DejaVuSans-6f\" x=\"125\"/>\n      <use xlink:href=\"#DejaVuSans-63\" x=\"186.181641\"/>\n      <use xlink:href=\"#DejaVuSans-68\" x=\"241.162109\"/>\n     </g>\n    </g>\n   </g>\n   <g id=\"matplotlib.axis_2\">\n    <g id=\"ytick_1\">\n     <g id=\"line2d_7\">\n      <defs>\n       <path id=\"meca949ab7c\" d=\"M 0 0 \nL -3.5 0 \n\" style=\"stroke: #000000; stroke-width: 0.8\"/>\n      </defs>\n      <g>\n       <use xlink:href=\"#meca949ab7c\" x=\"20.5625\" y=\"150.098438\" style=\"stroke: #000000; stroke-width: 0.8\"/>\n      </g>\n     </g>\n     <g id=\"text_8\">\n      <!-- 0 -->\n      <g transform=\"translate(7.2 153.897657) scale(0.1 -0.1)\">\n       <use xlink:href=\"#DejaVuSans-30\"/>\n      </g>\n     </g>\n    </g>\n    <g id=\"ytick_2\">\n     <g id=\"line2d_8\">\n      <g>\n       <use xlink:href=\"#meca949ab7c\" x=\"20.5625\" y=\"104.307245\" style=\"stroke: #000000; stroke-width: 0.8\"/>\n      </g>\n     </g>\n     <g id=\"text_9\">\n      <!-- 2 -->\n      <g transform=\"translate(7.2 108.106463) scale(0.1 -0.1)\">\n       <use xlink:href=\"#DejaVuSans-32\"/>\n      </g>\n     </g>\n    </g>\n    <g id=\"ytick_3\">\n     <g id=\"line2d_9\">\n      <g>\n       <use xlink:href=\"#meca949ab7c\" x=\"20.5625\" y=\"58.516051\" style=\"stroke: #000000; stroke-width: 0.8\"/>\n      </g>\n     </g>\n     <g id=\"text_10\">\n      <!-- 4 -->\n      <g transform=\"translate(7.2 62.31527) scale(0.1 -0.1)\">\n       <use xlink:href=\"#DejaVuSans-34\"/>\n      </g>\n     </g>\n    </g>\n    <g id=\"text_11\">\n     <!-- 1e7 -->\n     <g transform=\"translate(20.5625 14.798438) scale(0.1 -0.1)\">\n      <defs>\n       <path id=\"DejaVuSans-37\" d=\"M 525 4666 \nL 3525 4666 \nL 3525 4397 \nL 1831 0 \nL 1172 0 \nL 2766 4134 \nL 525 4134 \nL 525 4666 \nz\n\" transform=\"scale(0.015625)\"/>\n      </defs>\n      <use xlink:href=\"#DejaVuSans-31\"/>\n      <use xlink:href=\"#DejaVuSans-65\" x=\"63.623047\"/>\n      <use xlink:href=\"#DejaVuSans-37\" x=\"125.146484\"/>\n     </g>\n    </g>\n   </g>\n   <g id=\"line2d_10\">\n    <path d=\"M 40.0925 24.098437 \n\" clip-path=\"url(#p1120e8f299)\" style=\"fill: none; stroke: #1f77b4; stroke-width: 1.5; stroke-linecap: square\"/>\n   </g>\n   <g id=\"line2d_11\">\n    <path d=\"M 40.0925 24.098437 \n\" clip-path=\"url(#p1120e8f299)\" style=\"fill: none; stroke: #1f77b4; stroke-width: 1.5; stroke-linecap: square\"/>\n   </g>\n   <g id=\"line2d_12\">\n    <path d=\"M 40.0925 150.098437 \n\" clip-path=\"url(#p1120e8f299)\" style=\"fill: none; stroke-dasharray: 5.55,2.4; stroke-dashoffset: 0; stroke: #ff7f0e; stroke-width: 1.5\"/>\n   </g>\n   <g id=\"line2d_13\">\n    <path d=\"M 40.0925 24.098437 \nL 59.6225 120.881734 \n\" clip-path=\"url(#p1120e8f299)\" style=\"fill: none; stroke: #1f77b4; stroke-width: 1.5; stroke-linecap: square\"/>\n   </g>\n   <g id=\"line2d_14\">\n    <path d=\"M 40.0925 150.098437 \n\" clip-path=\"url(#p1120e8f299)\" style=\"fill: none; stroke-dasharray: 5.55,2.4; stroke-dashoffset: 0; stroke: #ff7f0e; stroke-width: 1.5\"/>\n   </g>\n   <g id=\"line2d_15\">\n    <path d=\"M 40.0925 24.098437 \nL 59.6225 120.881734 \n\" clip-path=\"url(#p1120e8f299)\" style=\"fill: none; stroke: #1f77b4; stroke-width: 1.5; stroke-linecap: square\"/>\n   </g>\n   <g id=\"line2d_16\">\n    <path d=\"M 40.0925 150.098437 \nL 59.6225 150.098436 \n\" clip-path=\"url(#p1120e8f299)\" style=\"fill: none; stroke-dasharray: 5.55,2.4; stroke-dashoffset: 0; stroke: #ff7f0e; stroke-width: 1.5\"/>\n   </g>\n   <g id=\"line2d_17\">\n    <path d=\"M 40.0925 24.098437 \nL 59.6225 120.881734 \nL 79.1525 148.828732 \n\" clip-path=\"url(#p1120e8f299)\" style=\"fill: none; stroke: #1f77b4; stroke-width: 1.5; stroke-linecap: square\"/>\n   </g>\n   <g id=\"line2d_18\">\n    <path d=\"M 40.0925 150.098437 \nL 59.6225 150.098436 \n\" clip-path=\"url(#p1120e8f299)\" style=\"fill: none; stroke-dasharray: 5.55,2.4; stroke-dashoffset: 0; stroke: #ff7f0e; stroke-width: 1.5\"/>\n   </g>\n   <g id=\"line2d_19\">\n    <path d=\"M 40.0925 24.098437 \nL 59.6225 120.881734 \nL 79.1525 148.828732 \n\" clip-path=\"url(#p1120e8f299)\" style=\"fill: none; stroke: #1f77b4; stroke-width: 1.5; stroke-linecap: square\"/>\n   </g>\n   <g id=\"line2d_20\">\n    <path d=\"M 40.0925 150.098437 \nL 59.6225 150.098436 \nL 79.1525 150.098436 \n\" clip-path=\"url(#p1120e8f299)\" style=\"fill: none; stroke-dasharray: 5.55,2.4; stroke-dashoffset: 0; stroke: #ff7f0e; stroke-width: 1.5\"/>\n   </g>\n   <g id=\"line2d_21\">\n    <path d=\"M 40.0925 24.098437 \nL 59.6225 120.881734 \nL 79.1525 148.828732 \nL 98.6825 132.170852 \n\" clip-path=\"url(#p1120e8f299)\" style=\"fill: none; stroke: #1f77b4; stroke-width: 1.5; stroke-linecap: square\"/>\n   </g>\n   <g id=\"line2d_22\">\n    <path d=\"M 40.0925 150.098437 \nL 59.6225 150.098436 \nL 79.1525 150.098436 \n\" clip-path=\"url(#p1120e8f299)\" style=\"fill: none; stroke-dasharray: 5.55,2.4; stroke-dashoffset: 0; stroke: #ff7f0e; stroke-width: 1.5\"/>\n   </g>\n   <g id=\"line2d_23\">\n    <path d=\"M 40.0925 24.098437 \nL 59.6225 120.881734 \nL 79.1525 148.828732 \nL 98.6825 132.170852 \n\" clip-path=\"url(#p1120e8f299)\" style=\"fill: none; stroke: #1f77b4; stroke-width: 1.5; stroke-linecap: square\"/>\n   </g>\n   <g id=\"line2d_24\">\n    <path d=\"M 40.0925 150.098437 \nL 59.6225 150.098436 \nL 79.1525 150.098436 \nL 98.6825 150.098436 \n\" clip-path=\"url(#p1120e8f299)\" style=\"fill: none; stroke-dasharray: 5.55,2.4; stroke-dashoffset: 0; stroke: #ff7f0e; stroke-width: 1.5\"/>\n   </g>\n   <g id=\"line2d_25\">\n    <path d=\"M 40.0925 24.098437 \nL 59.6225 120.881734 \nL 79.1525 148.828732 \nL 98.6825 132.170852 \nL 118.2125 129.166448 \n\" clip-path=\"url(#p1120e8f299)\" style=\"fill: none; stroke: #1f77b4; stroke-width: 1.5; stroke-linecap: square\"/>\n   </g>\n   <g id=\"line2d_26\">\n    <path d=\"M 40.0925 150.098437 \nL 59.6225 150.098436 \nL 79.1525 150.098436 \nL 98.6825 150.098436 \n\" clip-path=\"url(#p1120e8f299)\" style=\"fill: none; stroke-dasharray: 5.55,2.4; stroke-dashoffset: 0; stroke: #ff7f0e; stroke-width: 1.5\"/>\n   </g>\n   <g id=\"line2d_27\">\n    <path d=\"M 40.0925 24.098437 \nL 59.6225 120.881734 \nL 79.1525 148.828732 \nL 98.6825 132.170852 \nL 118.2125 129.166448 \n\" clip-path=\"url(#p1120e8f299)\" style=\"fill: none; stroke: #1f77b4; stroke-width: 1.5; stroke-linecap: square\"/>\n   </g>\n   <g id=\"line2d_28\">\n    <path d=\"M 40.0925 150.098437 \nL 59.6225 150.098436 \nL 79.1525 150.098436 \nL 98.6825 150.098436 \nL 118.2125 150.098437 \n\" clip-path=\"url(#p1120e8f299)\" style=\"fill: none; stroke-dasharray: 5.55,2.4; stroke-dashoffset: 0; stroke: #ff7f0e; stroke-width: 1.5\"/>\n   </g>\n   <g id=\"line2d_29\">\n    <path d=\"M 40.0925 24.098437 \nL 59.6225 120.881734 \nL 79.1525 148.828732 \nL 98.6825 132.170852 \nL 118.2125 129.166448 \nL 137.7425 140.368381 \n\" clip-path=\"url(#p1120e8f299)\" style=\"fill: none; stroke: #1f77b4; stroke-width: 1.5; stroke-linecap: square\"/>\n   </g>\n   <g id=\"line2d_30\">\n    <path d=\"M 40.0925 150.098437 \nL 59.6225 150.098436 \nL 79.1525 150.098436 \nL 98.6825 150.098436 \nL 118.2125 150.098437 \n\" clip-path=\"url(#p1120e8f299)\" style=\"fill: none; stroke-dasharray: 5.55,2.4; stroke-dashoffset: 0; stroke: #ff7f0e; stroke-width: 1.5\"/>\n   </g>\n   <g id=\"line2d_31\">\n    <path d=\"M 40.0925 24.098437 \nL 59.6225 120.881734 \nL 79.1525 148.828732 \nL 98.6825 132.170852 \nL 118.2125 129.166448 \nL 137.7425 140.368381 \n\" clip-path=\"url(#p1120e8f299)\" style=\"fill: none; stroke: #1f77b4; stroke-width: 1.5; stroke-linecap: square\"/>\n   </g>\n   <g id=\"line2d_32\">\n    <path d=\"M 40.0925 150.098437 \nL 59.6225 150.098436 \nL 79.1525 150.098436 \nL 98.6825 150.098436 \nL 118.2125 150.098437 \nL 137.7425 150.098436 \n\" clip-path=\"url(#p1120e8f299)\" style=\"fill: none; stroke-dasharray: 5.55,2.4; stroke-dashoffset: 0; stroke: #ff7f0e; stroke-width: 1.5\"/>\n   </g>\n   <g id=\"line2d_33\">\n    <path d=\"M 40.0925 24.098437 \nL 59.6225 120.881734 \nL 79.1525 148.828732 \nL 98.6825 132.170852 \nL 118.2125 129.166448 \nL 137.7425 140.368381 \nL 157.2725 146.757687 \n\" clip-path=\"url(#p1120e8f299)\" style=\"fill: none; stroke: #1f77b4; stroke-width: 1.5; stroke-linecap: square\"/>\n   </g>\n   <g id=\"line2d_34\">\n    <path d=\"M 40.0925 150.098437 \nL 59.6225 150.098436 \nL 79.1525 150.098436 \nL 98.6825 150.098436 \nL 118.2125 150.098437 \nL 137.7425 150.098436 \n\" clip-path=\"url(#p1120e8f299)\" style=\"fill: none; stroke-dasharray: 5.55,2.4; stroke-dashoffset: 0; stroke: #ff7f0e; stroke-width: 1.5\"/>\n   </g>\n   <g id=\"line2d_35\">\n    <path d=\"M 40.0925 24.098437 \nL 59.6225 120.881734 \nL 79.1525 148.828732 \nL 98.6825 132.170852 \nL 118.2125 129.166448 \nL 137.7425 140.368381 \nL 157.2725 146.757687 \n\" clip-path=\"url(#p1120e8f299)\" style=\"fill: none; stroke: #1f77b4; stroke-width: 1.5; stroke-linecap: square\"/>\n   </g>\n   <g id=\"line2d_36\">\n    <path d=\"M 40.0925 150.098437 \nL 59.6225 150.098436 \nL 79.1525 150.098436 \nL 98.6825 150.098436 \nL 118.2125 150.098437 \nL 137.7425 150.098436 \nL 157.2725 150.098436 \n\" clip-path=\"url(#p1120e8f299)\" style=\"fill: none; stroke-dasharray: 5.55,2.4; stroke-dashoffset: 0; stroke: #ff7f0e; stroke-width: 1.5\"/>\n   </g>\n   <g id=\"line2d_37\">\n    <path d=\"M 40.0925 24.098437 \nL 59.6225 120.881734 \nL 79.1525 148.828732 \nL 98.6825 132.170852 \nL 118.2125 129.166448 \nL 137.7425 140.368381 \nL 157.2725 146.757687 \nL 176.8025 149.215209 \n\" clip-path=\"url(#p1120e8f299)\" style=\"fill: none; stroke: #1f77b4; stroke-width: 1.5; stroke-linecap: square\"/>\n   </g>\n   <g id=\"line2d_38\">\n    <path d=\"M 40.0925 150.098437 \nL 59.6225 150.098436 \nL 79.1525 150.098436 \nL 98.6825 150.098436 \nL 118.2125 150.098437 \nL 137.7425 150.098436 \nL 157.2725 150.098436 \n\" clip-path=\"url(#p1120e8f299)\" style=\"fill: none; stroke-dasharray: 5.55,2.4; stroke-dashoffset: 0; stroke: #ff7f0e; stroke-width: 1.5\"/>\n   </g>\n   <g id=\"line2d_39\">\n    <path d=\"M 40.0925 24.098437 \nL 59.6225 120.881734 \nL 79.1525 148.828732 \nL 98.6825 132.170852 \nL 118.2125 129.166448 \nL 137.7425 140.368381 \nL 157.2725 146.757687 \nL 176.8025 149.215209 \n\" clip-path=\"url(#p1120e8f299)\" style=\"fill: none; stroke: #1f77b4; stroke-width: 1.5; stroke-linecap: square\"/>\n   </g>\n   <g id=\"line2d_40\">\n    <path d=\"M 40.0925 150.098437 \nL 59.6225 150.098436 \nL 79.1525 150.098436 \nL 98.6825 150.098436 \nL 118.2125 150.098437 \nL 137.7425 150.098436 \nL 157.2725 150.098436 \nL 176.8025 150.098436 \n\" clip-path=\"url(#p1120e8f299)\" style=\"fill: none; stroke-dasharray: 5.55,2.4; stroke-dashoffset: 0; stroke: #ff7f0e; stroke-width: 1.5\"/>\n   </g>\n   <g id=\"line2d_41\">\n    <path d=\"M 40.0925 24.098437 \nL 59.6225 120.881734 \nL 79.1525 148.828732 \nL 98.6825 132.170852 \nL 118.2125 129.166448 \nL 137.7425 140.368381 \nL 157.2725 146.757687 \nL 176.8025 149.215209 \nL 196.3325 149.871745 \n\" clip-path=\"url(#p1120e8f299)\" style=\"fill: none; stroke: #1f77b4; stroke-width: 1.5; stroke-linecap: square\"/>\n   </g>\n   <g id=\"line2d_42\">\n    <path d=\"M 40.0925 150.098437 \nL 59.6225 150.098436 \nL 79.1525 150.098436 \nL 98.6825 150.098436 \nL 118.2125 150.098437 \nL 137.7425 150.098436 \nL 157.2725 150.098436 \nL 176.8025 150.098436 \n\" clip-path=\"url(#p1120e8f299)\" style=\"fill: none; stroke-dasharray: 5.55,2.4; stroke-dashoffset: 0; stroke: #ff7f0e; stroke-width: 1.5\"/>\n   </g>\n   <g id=\"line2d_43\">\n    <path d=\"M 40.0925 24.098437 \nL 59.6225 120.881734 \nL 79.1525 148.828732 \nL 98.6825 132.170852 \nL 118.2125 129.166448 \nL 137.7425 140.368381 \nL 157.2725 146.757687 \nL 176.8025 149.215209 \nL 196.3325 149.871745 \n\" clip-path=\"url(#p1120e8f299)\" style=\"fill: none; stroke: #1f77b4; stroke-width: 1.5; stroke-linecap: square\"/>\n   </g>\n   <g id=\"line2d_44\">\n    <path d=\"M 40.0925 150.098437 \nL 59.6225 150.098436 \nL 79.1525 150.098436 \nL 98.6825 150.098436 \nL 118.2125 150.098437 \nL 137.7425 150.098436 \nL 157.2725 150.098436 \nL 176.8025 150.098436 \nL 196.3325 150.098436 \n\" clip-path=\"url(#p1120e8f299)\" style=\"fill: none; stroke-dasharray: 5.55,2.4; stroke-dashoffset: 0; stroke: #ff7f0e; stroke-width: 1.5\"/>\n   </g>\n   <g id=\"line2d_45\">\n    <path d=\"M 40.0925 24.098437 \nL 59.6225 120.881734 \nL 79.1525 148.828732 \nL 98.6825 132.170852 \nL 118.2125 129.166448 \nL 137.7425 140.368381 \nL 157.2725 146.757687 \nL 176.8025 149.215209 \nL 196.3325 149.871745 \nL 215.8625 150.031952 \n\" clip-path=\"url(#p1120e8f299)\" style=\"fill: none; stroke: #1f77b4; stroke-width: 1.5; stroke-linecap: square\"/>\n   </g>\n   <g id=\"line2d_46\">\n    <path d=\"M 40.0925 150.098437 \nL 59.6225 150.098436 \nL 79.1525 150.098436 \nL 98.6825 150.098436 \nL 118.2125 150.098437 \nL 137.7425 150.098436 \nL 157.2725 150.098436 \nL 176.8025 150.098436 \nL 196.3325 150.098436 \n\" clip-path=\"url(#p1120e8f299)\" style=\"fill: none; stroke-dasharray: 5.55,2.4; stroke-dashoffset: 0; stroke: #ff7f0e; stroke-width: 1.5\"/>\n   </g>\n   <g id=\"line2d_47\">\n    <path d=\"M 40.0925 24.098437 \nL 59.6225 120.881734 \nL 79.1525 148.828732 \nL 98.6825 132.170852 \nL 118.2125 129.166448 \nL 137.7425 140.368381 \nL 157.2725 146.757687 \nL 176.8025 149.215209 \nL 196.3325 149.871745 \nL 215.8625 150.031952 \n\" clip-path=\"url(#p1120e8f299)\" style=\"fill: none; stroke: #1f77b4; stroke-width: 1.5; stroke-linecap: square\"/>\n   </g>\n   <g id=\"line2d_48\">\n    <path d=\"M 40.0925 150.098437 \nL 59.6225 150.098436 \nL 79.1525 150.098436 \nL 98.6825 150.098436 \nL 118.2125 150.098437 \nL 137.7425 150.098436 \nL 157.2725 150.098436 \nL 176.8025 150.098436 \nL 196.3325 150.098436 \nL 215.8625 150.098436 \n\" clip-path=\"url(#p1120e8f299)\" style=\"fill: none; stroke-dasharray: 5.55,2.4; stroke-dashoffset: 0; stroke: #ff7f0e; stroke-width: 1.5\"/>\n   </g>\n   <g id=\"patch_3\">\n    <path d=\"M 20.5625 156.398438 \nL 20.5625 17.798437 \n\" style=\"fill: none; stroke: #000000; stroke-width: 0.8; stroke-linejoin: miter; stroke-linecap: square\"/>\n   </g>\n   <g id=\"patch_4\">\n    <path d=\"M 215.8625 156.398438 \nL 215.8625 17.798437 \n\" style=\"fill: none; stroke: #000000; stroke-width: 0.8; stroke-linejoin: miter; stroke-linecap: square\"/>\n   </g>\n   <g id=\"patch_5\">\n    <path d=\"M 20.5625 156.398438 \nL 215.8625 156.398438 \n\" style=\"fill: none; stroke: #000000; stroke-width: 0.8; stroke-linejoin: miter; stroke-linecap: square\"/>\n   </g>\n   <g id=\"patch_6\">\n    <path d=\"M 20.5625 17.798438 \nL 215.8625 17.798438 \n\" style=\"fill: none; stroke: #000000; stroke-width: 0.8; stroke-linejoin: miter; stroke-linecap: square\"/>\n   </g>\n   <g id=\"legend_1\">\n    <g id=\"patch_7\">\n     <path d=\"M 137.721875 55.710938 \nL 208.8625 55.710938 \nQ 210.8625 55.710938 210.8625 53.710938 \nL 210.8625 24.798438 \nQ 210.8625 22.798438 208.8625 22.798438 \nL 137.721875 22.798438 \nQ 135.721875 22.798438 135.721875 24.798438 \nL 135.721875 53.710938 \nQ 135.721875 55.710938 137.721875 55.710938 \nz\n\" style=\"fill: #ffffff; opacity: 0.8; stroke: #cccccc; stroke-linejoin: miter\"/>\n    </g>\n    <g id=\"line2d_49\">\n     <path d=\"M 139.721875 30.896875 \nL 149.721875 30.896875 \nL 159.721875 30.896875 \n\" style=\"fill: none; stroke: #1f77b4; stroke-width: 1.5; stroke-linecap: square\"/>\n    </g>\n    <g id=\"text_12\">\n     <!-- val_loss -->\n     <g transform=\"translate(167.721875 34.396875) scale(0.1 -0.1)\">\n      <defs>\n       <path id=\"DejaVuSans-76\" d=\"M 191 3500 \nL 800 3500 \nL 1894 563 \nL 2988 3500 \nL 3597 3500 \nL 2284 0 \nL 1503 0 \nL 191 3500 \nz\n\" transform=\"scale(0.015625)\"/>\n       <path id=\"DejaVuSans-61\" d=\"M 2194 1759 \nQ 1497 1759 1228 1600 \nQ 959 1441 959 1056 \nQ 959 750 1161 570 \nQ 1363 391 1709 391 \nQ 2188 391 2477 730 \nQ 2766 1069 2766 1631 \nL 2766 1759 \nL 2194 1759 \nz\nM 3341 1997 \nL 3341 0 \nL 2766 0 \nL 2766 531 \nQ 2569 213 2275 61 \nQ 1981 -91 1556 -91 \nQ 1019 -91 701 211 \nQ 384 513 384 1019 \nQ 384 1609 779 1909 \nQ 1175 2209 1959 2209 \nL 2766 2209 \nL 2766 2266 \nQ 2766 2663 2505 2880 \nQ 2244 3097 1772 3097 \nQ 1472 3097 1187 3025 \nQ 903 2953 641 2809 \nL 641 3341 \nQ 956 3463 1253 3523 \nQ 1550 3584 1831 3584 \nQ 2591 3584 2966 3190 \nQ 3341 2797 3341 1997 \nz\n\" transform=\"scale(0.015625)\"/>\n       <path id=\"DejaVuSans-6c\" d=\"M 603 4863 \nL 1178 4863 \nL 1178 0 \nL 603 0 \nL 603 4863 \nz\n\" transform=\"scale(0.015625)\"/>\n       <path id=\"DejaVuSans-5f\" d=\"M 3263 -1063 \nL 3263 -1509 \nL -63 -1509 \nL -63 -1063 \nL 3263 -1063 \nz\n\" transform=\"scale(0.015625)\"/>\n       <path id=\"DejaVuSans-73\" d=\"M 2834 3397 \nL 2834 2853 \nQ 2591 2978 2328 3040 \nQ 2066 3103 1784 3103 \nQ 1356 3103 1142 2972 \nQ 928 2841 928 2578 \nQ 928 2378 1081 2264 \nQ 1234 2150 1697 2047 \nL 1894 2003 \nQ 2506 1872 2764 1633 \nQ 3022 1394 3022 966 \nQ 3022 478 2636 193 \nQ 2250 -91 1575 -91 \nQ 1294 -91 989 -36 \nQ 684 19 347 128 \nL 347 722 \nQ 666 556 975 473 \nQ 1284 391 1588 391 \nQ 1994 391 2212 530 \nQ 2431 669 2431 922 \nQ 2431 1156 2273 1281 \nQ 2116 1406 1581 1522 \nL 1381 1569 \nQ 847 1681 609 1914 \nQ 372 2147 372 2553 \nQ 372 3047 722 3315 \nQ 1072 3584 1716 3584 \nQ 2034 3584 2315 3537 \nQ 2597 3491 2834 3397 \nz\n\" transform=\"scale(0.015625)\"/>\n      </defs>\n      <use xlink:href=\"#DejaVuSans-76\"/>\n      <use xlink:href=\"#DejaVuSans-61\" x=\"59.179688\"/>\n      <use xlink:href=\"#DejaVuSans-6c\" x=\"120.458984\"/>\n      <use xlink:href=\"#DejaVuSans-5f\" x=\"148.242188\"/>\n      <use xlink:href=\"#DejaVuSans-6c\" x=\"198.242188\"/>\n      <use xlink:href=\"#DejaVuSans-6f\" x=\"226.025391\"/>\n      <use xlink:href=\"#DejaVuSans-73\" x=\"287.207031\"/>\n      <use xlink:href=\"#DejaVuSans-73\" x=\"339.306641\"/>\n     </g>\n    </g>\n    <g id=\"line2d_50\">\n     <path d=\"M 139.721875 45.853125 \nL 149.721875 45.853125 \nL 159.721875 45.853125 \n\" style=\"fill: none; stroke-dasharray: 5.55,2.4; stroke-dashoffset: 0; stroke: #ff7f0e; stroke-width: 1.5\"/>\n    </g>\n    <g id=\"text_13\">\n     <!-- val_acc -->\n     <g transform=\"translate(167.721875 49.353125) scale(0.1 -0.1)\">\n      <use xlink:href=\"#DejaVuSans-76\"/>\n      <use xlink:href=\"#DejaVuSans-61\" x=\"59.179688\"/>\n      <use xlink:href=\"#DejaVuSans-6c\" x=\"120.458984\"/>\n      <use xlink:href=\"#DejaVuSans-5f\" x=\"148.242188\"/>\n      <use xlink:href=\"#DejaVuSans-61\" x=\"198.242188\"/>\n      <use xlink:href=\"#DejaVuSans-63\" x=\"259.521484\"/>\n      <use xlink:href=\"#DejaVuSans-63\" x=\"314.501953\"/>\n     </g>\n    </g>\n   </g>\n  </g>\n </g>\n <defs>\n  <clipPath id=\"p1120e8f299\">\n   <rect x=\"20.5625\" y=\"17.798438\" width=\"195.3\" height=\"138.6\"/>\n  </clipPath>\n </defs>\n</svg>\n"
          },
          "metadata": {}
        }
      ]
    },
    {
      "cell_type": "code",
      "source": [
        "df.iloc[10]"
      ],
      "metadata": {
        "id": "-tRBCrEU7nIg",
        "colab": {
          "base_uri": "https://localhost:8080/"
        },
        "outputId": "2e41871e-6a68-4660-9428-232406808657"
      },
      "execution_count": null,
      "outputs": [
        {
          "output_type": "execute_result",
          "data": {
            "text/plain": [
              "extent_right_numerical                                                     2\n",
              "density_right_numerical                                                    1\n",
              "extent_left_numerical                                                      0\n",
              "density_left_numerical                                                     0\n",
              "mRALE Score                                                                2\n",
              "img                        [[0.4941856543015837, 0.4988491042550892, 0.44...\n",
              "Name: 10, dtype: object"
            ]
          },
          "metadata": {},
          "execution_count": 44
        }
      ]
    },
    {
      "cell_type": "code",
      "source": [
        "img = df.iloc[10]['img']"
      ],
      "metadata": {
        "id": "cNk7yHsORSMQ"
      },
      "execution_count": null,
      "outputs": []
    },
    {
      "cell_type": "code",
      "source": [
        "img_tensor = torch.tensor(img, dtype=torch.float32)"
      ],
      "metadata": {
        "id": "20mV5512SGKY"
      },
      "execution_count": null,
      "outputs": []
    },
    {
      "cell_type": "code",
      "source": [
        "img_tensor"
      ],
      "metadata": {
        "colab": {
          "base_uri": "https://localhost:8080/"
        },
        "id": "-i9e1qiySMf5",
        "outputId": "592b79b1-c6f9-4603-e474-9fbb45d80549"
      },
      "execution_count": null,
      "outputs": [
        {
          "output_type": "execute_result",
          "data": {
            "text/plain": [
              "tensor([[0.4942, 0.4988, 0.4459,  ..., 0.5172, 0.5252, 0.5323],\n",
              "        [0.4957, 0.4923, 0.4361,  ..., 0.5155, 0.5192, 0.5356],\n",
              "        [0.4954, 0.4984, 0.4264,  ..., 0.5137, 0.5196, 0.5327],\n",
              "        ...,\n",
              "        [0.4387, 0.7928, 0.7673,  ..., 0.4748, 0.4666, 0.4558],\n",
              "        [0.4277, 0.7391, 0.6183,  ..., 0.4791, 0.4654, 0.4601],\n",
              "        [0.4745, 0.3682, 0.4153,  ..., 0.4948, 0.4814, 0.4717]])"
            ]
          },
          "metadata": {},
          "execution_count": 47
        }
      ]
    },
    {
      "cell_type": "code",
      "source": [
        "img"
      ],
      "metadata": {
        "colab": {
          "base_uri": "https://localhost:8080/"
        },
        "id": "Yoy6y89RSQNW",
        "outputId": "172460ad-8a3b-4c6e-ea32-ed5efe0687a6"
      },
      "execution_count": null,
      "outputs": [
        {
          "output_type": "execute_result",
          "data": {
            "text/plain": [
              "array([[0.49418565, 0.4988491 , 0.44592702, ..., 0.51715647, 0.52520242,\n",
              "        0.53227894],\n",
              "       [0.49574549, 0.49230382, 0.43613582, ..., 0.51554217, 0.51921185,\n",
              "        0.53557421],\n",
              "       [0.49543338, 0.49842225, 0.42637829, ..., 0.5137332 , 0.5195728 ,\n",
              "        0.532651  ],\n",
              "       ...,\n",
              "       [0.43865947, 0.79280945, 0.76729071, ..., 0.47480674, 0.466615  ,\n",
              "        0.45575062],\n",
              "       [0.42766412, 0.73911772, 0.61834116, ..., 0.47913996, 0.46544894,\n",
              "        0.46008258],\n",
              "       [0.47447381, 0.36824368, 0.41533994, ..., 0.49484183, 0.48138751,\n",
              "        0.47165903]])"
            ]
          },
          "metadata": {},
          "execution_count": 48
        }
      ]
    },
    {
      "cell_type": "code",
      "source": [
        "img_tensor.unsqueeze(dim=0).unsqueeze(dim=0).shape"
      ],
      "metadata": {
        "colab": {
          "base_uri": "https://localhost:8080/"
        },
        "id": "-sYbKr1KSgQf",
        "outputId": "39246f5e-13c2-4cc9-c50b-4f23be3248a1"
      },
      "execution_count": null,
      "outputs": [
        {
          "output_type": "execute_result",
          "data": {
            "text/plain": [
              "torch.Size([1, 1, 512, 512])"
            ]
          },
          "metadata": {},
          "execution_count": 49
        }
      ]
    },
    {
      "cell_type": "code",
      "source": [
        "torch.round(torch.sigmoid(model(img_tensor.unsqueeze(dim=0).unsqueeze(dim=0).to(try_gpu()))))"
      ],
      "metadata": {
        "colab": {
          "base_uri": "https://localhost:8080/"
        },
        "id": "HgMDCK6JSSKu",
        "outputId": "562ced84-8329-4083-9bee-11d338b55fc3"
      },
      "execution_count": null,
      "outputs": [
        {
          "output_type": "execute_result",
          "data": {
            "text/plain": [
              "tensor([[0., 0., 0., 0.]], device='cuda:0', grad_fn=<RoundBackward0>)"
            ]
          },
          "metadata": {},
          "execution_count": 50
        }
      ]
    },
    {
      "cell_type": "code",
      "source": [
        "df['mRALE Score'].max()"
      ],
      "metadata": {
        "colab": {
          "base_uri": "https://localhost:8080/"
        },
        "id": "m3V6-fjoSX1B",
        "outputId": "49ff40eb-62a7-4a7a-871d-bbb6cd4f3965"
      },
      "execution_count": null,
      "outputs": [
        {
          "output_type": "execute_result",
          "data": {
            "text/plain": [
              "20"
            ]
          },
          "metadata": {},
          "execution_count": 51
        }
      ]
    },
    {
      "cell_type": "code",
      "source": [],
      "metadata": {
        "id": "t2WTbr4PTQ6a"
      },
      "execution_count": null,
      "outputs": []
    }
  ]
}